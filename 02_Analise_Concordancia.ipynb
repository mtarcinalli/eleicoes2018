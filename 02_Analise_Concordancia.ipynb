{
 "cells": [
  {
   "cell_type": "code",
   "execution_count": 54,
   "metadata": {},
   "outputs": [
    {
     "name": "stdout",
     "output_type": "stream",
     "text": [
      "postgres functions loaded...\n"
     ]
    }
   ],
   "source": [
    "import ipy_table\n",
    "from collections import Counter\n",
    "from IPython.display import HTML, display\n",
    "import tabulate\n",
    "from sklearn.metrics import cohen_kappa_score\n",
    "from sklearn.metrics import confusion_matrix\n",
    "import warnings\n",
    "\n",
    "warnings.filterwarnings('ignore')\n",
    "%run ../aux/postgres.py"
   ]
  },
  {
   "cell_type": "code",
   "execution_count": 14,
   "metadata": {},
   "outputs": [],
   "source": [
    "def matrixConfusao(av01, av02, labels, labelsN):\n",
    "    a = confusion_matrix(av01, av02, labels=labels).tolist()\n",
    "    a.insert(0,labelsN)\n",
    "    labelsNames = [''] + labelsN\n",
    "    b = []\n",
    "    i = 0\n",
    "    for x in a:\n",
    "        x = list(x)\n",
    "        x.insert(0,(labelsNames[i]))\n",
    "        x = tuple(x)\n",
    "        i = i + 1\n",
    "        b.append(x)\n",
    "    #print(b)\n",
    "    return(b)\n",
    "    #ipy_table.render()"
   ]
  },
  {
   "cell_type": "code",
   "execution_count": 219,
   "metadata": {},
   "outputs": [],
   "source": [
    "def compara(codanaliseamostra1, codanaliseamostra2, av1, av2):\n",
    "    codanaliseamostra1 = str(codanaliseamostra1)\n",
    "    codanaliseamostra2 = str(codanaliseamostra2)\n",
    "    \n",
    "\n",
    "    cmd = (\"SELECT am.observacao \"\n",
    "           \"FROM analiseamostra am \"\n",
    "           \"WHERE \"\n",
    "           \"codanaliseamostra = \" + codanaliseamostra1\n",
    "           )\n",
    "    res0 = query(cmd)\n",
    "    #print(res0[0])\n",
    "    ret = \"<h2>\" + res0[0][0] + \"</h2>\"\n",
    "    \n",
    "    cmd = (\"SELECT am.codanaliseamostra, codamostra, hash, p.nome, \"\n",
    "           \"(select count(distinct codtweet) from amostratweet where codamostra = am.codamostra) AS avaliar , \"\n",
    "           \"(select count(distinct codtweet) from analisetweet where codanaliseamostra = am.codanaliseamostra) AS avaliados  \"\n",
    "           \"FROM analiseamostra am \"\n",
    "           \"INNER JOIN usuario p ON am.codusuario = p.codusuario \"\n",
    "           \"WHERE \"\n",
    "           \"codanaliseamostra = \" + codanaliseamostra1 + \n",
    "           \" OR \" +\n",
    "           \"codanaliseamostra = \" + codanaliseamostra2 +\n",
    "           \"ORDER BY codamostra, p.nome\")\n",
    "    res00 = query(cmd)\n",
    "    res00.insert(0,('cod','amostra','hash','avaliador','avaliar','avaliados'))\n",
    "    tbl00 = ipy_table.make_table(res00)\n",
    "    #ipy_table.set_global_style(wrap=True)\n",
    "    #ipy_table.apply_theme('basic')    \n",
    "    \n",
    "    # av 01\n",
    "    cmd = (\"SELECT cl.descricao \"\n",
    "           \"FROM analisetweet at \"\n",
    "           \"INNER JOIN classificacao cl ON cl.codclassificacao = at.codclassificacao \"\n",
    "           \"WHERE codanaliseamostra = \" + codanaliseamostra1 + \" and cl.codclassificacao <> 36 \"\n",
    "           \"ORDER BY cl.descricao\"\n",
    "          )\n",
    "    res01 = query(cmd)\n",
    "    topics = [x[0] for x in res01]\n",
    "    count01 = Counter(topics)\n",
    "    tbl01 = ipy_table.make_table(count01.most_common())\n",
    "        \n",
    "    # av 02\n",
    "    cmd = (\"SELECT cl.descricao \"\n",
    "           \"FROM analisetweet at \"\n",
    "           \"INNER JOIN classificacao cl ON cl.codclassificacao = at.codclassificacao \"\n",
    "           \"WHERE codanaliseamostra = \" + codanaliseamostra2 + \" and cl.codclassificacao <> 36 \"\n",
    "           \"ORDER BY cl.descricao\"\n",
    "          )\n",
    "    res01 = query(cmd)\n",
    "    topics = [x[0] for x in res01]\n",
    "    count01 = Counter(topics)\n",
    "    tbl02 = ipy_table.make_table(count01.most_common())\n",
    "    \n",
    "    ret = ret + tbl00._repr_html_()\n",
    "    ret = ret + \"<table><tr><td>\" + av1 + \":\" \n",
    "    ret = ret + tbl01._repr_html_() + '</td><td>' + av2 + \":\"\n",
    "    ret = ret + tbl02._repr_html_() + \"</td></tr></table>\"\n",
    "    \n",
    "    # carregando avaliação 01\n",
    "    cmd = (\"SELECT distinct on (at.codtweet) at.codtweet , at.codclassificacao \"\n",
    "           \"FROM analisetweet at \"\n",
    "           \"WHERE codanaliseamostra = \" + codanaliseamostra1 + \" \"\n",
    "           \"AND codclassificacao in (233, 232) \"\n",
    "           \"AND codtweet in (select codtweet from analisetweet \"\n",
    "           \"where codanaliseamostra = \" + codanaliseamostra2 + \") \"\n",
    "           \"order by codtweet\"\n",
    "          )\n",
    "    res = query(cmd)\n",
    "    avMateus = [ x[1] for x in res ]\n",
    "\n",
    "    # carregando avaliação 02\n",
    "    cmd = (\"SELECT distinct on (at.codtweet) at.codtweet , at.codclassificacao \"\n",
    "           \"FROM analisetweet at \"\n",
    "           \"WHERE codanaliseamostra = \" + codanaliseamostra2 + \" \"\n",
    "           \"AND codclassificacao in (233, 232) \"\n",
    "           \"and codtweet in (select codtweet from analisetweet \"\n",
    "           \"where codanaliseamostra = \" + codanaliseamostra1 + \") \"\n",
    "           \"and at.codclassificacao <> 36  order by codtweet\"\n",
    "          )\n",
    "    res = query(cmd)\n",
    "    avEduarda = [ x[1] for x in res ]\n",
    "\n",
    "    ret = ret + \"<h2>Eixo 01: Relação com a notícia</h2>\"\n",
    "    #print(\"ed: \",len(avEduarda))\n",
    "    #print(avEduarda)\n",
    "    #print(\"mt: \",len(avMateus))\n",
    "    #print(avMateus)\n",
    "\n",
    "    ret = ret + (\"<br>Kappa: \" + av1 + \" X \" + av2 + \": %s\" % cohen_kappa_score(avEduarda, avMateus))    \n",
    "    tbl = ipy_table.make_table(matrixConfusao(avEduarda, avMateus, [232,233], ['relacionado','não relacionado']))\n",
    "    ret = ret + tbl._repr_html_()\n",
    "    \n",
    "    ## buscar tweets discordância\n",
    "    cmd = (\"SELECT distinct on (at.codtweet) at.codtweet  \"\n",
    "               \"FROM analisetweet at \"\n",
    "               \"WHERE codanaliseamostra = \" + codanaliseamostra2 + \" \"\n",
    "               \"AND codclassificacao in (233, 232) \"\n",
    "               \"and codtweet in (select codtweet from analisetweet \"\n",
    "               \"where codanaliseamostra = \" + codanaliseamostra1 + \") \"\n",
    "               \"and at.codclassificacao <> 36  \"\n",
    "               \"and codclassificacao <> (select codclassificacao from analisetweet \"\n",
    "               \"where codanaliseamostra = \" + codanaliseamostra1 + \" and codtweet = at.codtweet AND codclassificacao in (233, 232))\"\n",
    "              \"order by codtweet\"\n",
    "              )\n",
    "    res = query(cmd)\n",
    "    tweets = \"\"\n",
    "    for r in res:\n",
    "        tweets = tweets + str(r[0]) + ' , '\n",
    "\n",
    "    cmd = (\"select t.text , cl.descricao , \"\n",
    "               \"(select cl2.descricao from analisetweet at2 \"\n",
    "               \"inner join classificacao cl2 on at2.codclassificacao = cl2.codclassificacao \"\n",
    "               \"where codanaliseamostra = \" + codanaliseamostra2 + \"   \"\n",
    "               \" AND at2.codclassificacao in (233, 232) and at2.codtweet = at.codtweet ) \"\n",
    "               \"FROM analisetweet at \"\n",
    "               \"inner join tweet t on at.codtweet = t.codtweet \"\n",
    "               \"inner join classificacao cl on cl.codclassificacao = at.codclassificacao \"\n",
    "               \"WHERE codanaliseamostra = \" + codanaliseamostra1 + \" \"\n",
    "               \"AND at.codclassificacao in (233, 232) and at.codtweet in (\" + tweets[:-2] + \") limit 10\"   )\n",
    "    if res:\n",
    "        res = query(cmd)\n",
    "        for r in res:\n",
    "            ret = ret + r[0] + \"<br>\"\n",
    "            ret = ret + \"Eduarda: \" + r[1] + \"<br>\"\n",
    "            ret = ret + \"Mateus : \" + r[2] + \"<br>\"\n",
    "            ret = ret + \"---<br>\"\n",
    "    # eixo 2\n",
    "    # carregando avaliação mateus\n",
    "    cmd = (\"SELECT distinct on (at.codtweet) at.codtweet , at.codclassificacao \"\n",
    "           \"FROM analisetweet at \"\n",
    "           \"WHERE codanaliseamostra = \" + codanaliseamostra1 + \" \"\n",
    "           \"AND codclassificacao in (234, 235, 236) \"\n",
    "           \"AND codtweet in (select codtweet from analisetweet \"\n",
    "           \"where codanaliseamostra = \" + codanaliseamostra2 + \" AND codclassificacao in (234, 235, 236)) \"\n",
    "           \"order by codtweet\"\n",
    "          )\n",
    "    res = query(cmd)\n",
    "    avMateus = [ x[1] for x in res ]\n",
    "\n",
    "    # carregando avaliação eduarda\n",
    "    cmd = (\"SELECT distinct on (at.codtweet) at.codtweet , at.codclassificacao \"\n",
    "           \"FROM analisetweet at \"\n",
    "           \"WHERE codanaliseamostra = \" + codanaliseamostra2 + \" \"\n",
    "           \"AND codclassificacao in (234, 235, 236) \"\n",
    "           \"and codtweet in (select codtweet from analisetweet \"\n",
    "           \"where codanaliseamostra = \" + codanaliseamostra1 + \" AND codclassificacao in (234, 235, 236)) \"\n",
    "           \"and at.codclassificacao <> 36  order by codtweet\"\n",
    "          )\n",
    "    res = query(cmd)\n",
    "    avEduarda = [ x[1] for x in res ]\n",
    "\n",
    "    ret = ret + \"<h2>Eixo 02: Fake News</h2>\"\n",
    "    ret = ret + (\"<br>Kappa: \" + av1 + \" X \" + av2 + \": %s\" % cohen_kappa_score(avEduarda, avMateus))    \n",
    "    #print(\"Eduarda e Mateus: %s\" % cohen_kappa_score(avEduarda, avMateus))    \n",
    "    \n",
    "    tbl = ipy_table.make_table(matrixConfusao(avEduarda, avMateus, [234,235,236], ['Propagação','Contra','Réplica']))\n",
    "    ret = ret + tbl._repr_html_()\n",
    "    \n",
    "    ## buscar tweets discordância\n",
    "    cmd = (\"SELECT distinct on (at.codtweet) at.codtweet  \"\n",
    "               \"FROM analisetweet at \"\n",
    "               \"WHERE codanaliseamostra = \" + codanaliseamostra2 + \" \"\n",
    "               \"AND codclassificacao in (234, 235, 236) \"\n",
    "               \"and codtweet in (select codtweet from analisetweet \"\n",
    "               \"where codanaliseamostra = \" + codanaliseamostra1 + \") \"\n",
    "               \"and at.codclassificacao <> 36  \"\n",
    "               \"and codclassificacao <> (select codclassificacao from analisetweet \"\n",
    "               \"where codanaliseamostra = \" + codanaliseamostra1 + \n",
    "               \" and codtweet = at.codtweet AND codclassificacao in (234, 235, 236))\"\n",
    "              \"order by codtweet\"\n",
    "              )\n",
    "    res = query(cmd)\n",
    "    tweets = \"\"\n",
    "    for r in res:\n",
    "        tweets = tweets + str(r[0]) + ' , '\n",
    "\n",
    "    cmd = (\"select t.text , cl.descricao , \"\n",
    "               \"(select cl2.descricao from analisetweet at2 \"\n",
    "               \"inner join classificacao cl2 on at2.codclassificacao = cl2.codclassificacao \"\n",
    "               \"where codanaliseamostra = \" + codanaliseamostra2 + \"   \"\n",
    "               \" AND at2.codclassificacao in (234, 235, 236) and at2.codtweet = at.codtweet ) \"\n",
    "               \"FROM analisetweet at \"\n",
    "               \"inner join tweet t on at.codtweet = t.codtweet \"\n",
    "               \"inner join classificacao cl on cl.codclassificacao = at.codclassificacao \"\n",
    "               \"WHERE codanaliseamostra = \" + codanaliseamostra1 + \" \"\n",
    "               \"AND at.codclassificacao in (234, 235, 236) and at.codtweet in (\" + tweets[:-2] + \") limit 10\"   )\n",
    "    if res:\n",
    "        res = query(cmd)\n",
    "        for r in res:\n",
    "            ret = ret + r[0] + \"<br>\"\n",
    "            ret = ret + \"Eduarda: \" + r[1] + \"<br>\"\n",
    "            ret = ret + \"Mateus : \" + r[2] + \"<br>\"\n",
    "            ret = ret + \"---<br>\"\n",
    "    \n",
    "    # comparando tweets avaliados\n",
    "    \n",
    "    \n",
    "    \n",
    "    return HTML(ret)"
   ]
  },
  {
   "cell_type": "markdown",
   "metadata": {},
   "source": [
    "# Resumo das avaliações dos tweets"
   ]
  },
  {
   "cell_type": "markdown",
   "metadata": {},
   "source": [
    "## Notícia 01"
   ]
  },
  {
   "cell_type": "code",
   "execution_count": 194,
   "metadata": {},
   "outputs": [
    {
     "data": {
      "text/html": [
       "<h2>Notícia 01:\n",
       "\n",
       "É falsa a inscrição preconceituosa sobre nordestinos em camisa de filho de Bolsonaro\n",
       "\n",
       "https://projetocomprova.com.br/post/re_2B5W8XYwXPgZ</h2><table border=\"1\" cellpadding=\"3\" cellspacing=\"0\"  style=\"border:black; border-collapse:collapse;\"><tr><td  style=\"border-left: 1px solid;border-right: 1px solid;border-top: 1px solid;border-bottom: 1px solid;\">cod</td><td  style=\"border-left: 1px solid;border-right: 1px solid;border-top: 1px solid;border-bottom: 1px solid;\">amostra</td><td  style=\"border-left: 1px solid;border-right: 1px solid;border-top: 1px solid;border-bottom: 1px solid;\">hash</td><td  style=\"border-left: 1px solid;border-right: 1px solid;border-top: 1px solid;border-bottom: 1px solid;\">avaliador</td><td  style=\"border-left: 1px solid;border-right: 1px solid;border-top: 1px solid;border-bottom: 1px solid;\">avaliar</td><td  style=\"border-left: 1px solid;border-right: 1px solid;border-top: 1px solid;border-bottom: 1px solid;\">avaliados</td></tr><tr><td  style=\"border-left: 1px solid;border-right: 1px solid;border-top: 1px solid;border-bottom: 1px solid;\">128</td><td  style=\"border-left: 1px solid;border-right: 1px solid;border-top: 1px solid;border-bottom: 1px solid;\">105</td><td  style=\"border-left: 1px solid;border-right: 1px solid;border-top: 1px solid;border-bottom: 1px solid;\">fake141601</td><td  style=\"border-left: 1px solid;border-right: 1px solid;border-top: 1px solid;border-bottom: 1px solid;\">Maria&nbsp;Eduarda&nbsp;Sampaio&nbsp;de&nbsp;Sousa</td><td  style=\"border-left: 1px solid;border-right: 1px solid;border-top: 1px solid;border-bottom: 1px solid;\">256</td><td  style=\"border-left: 1px solid;border-right: 1px solid;border-top: 1px solid;border-bottom: 1px solid;\">256</td></tr><tr><td  style=\"border-left: 1px solid;border-right: 1px solid;border-top: 1px solid;border-bottom: 1px solid;\">127</td><td  style=\"border-left: 1px solid;border-right: 1px solid;border-top: 1px solid;border-bottom: 1px solid;\">105</td><td  style=\"border-left: 1px solid;border-right: 1px solid;border-top: 1px solid;border-bottom: 1px solid;\">fake371101</td><td  style=\"border-left: 1px solid;border-right: 1px solid;border-top: 1px solid;border-bottom: 1px solid;\">Mateus&nbsp;Tarcinalli&nbsp;Machado</td><td  style=\"border-left: 1px solid;border-right: 1px solid;border-top: 1px solid;border-bottom: 1px solid;\">256</td><td  style=\"border-left: 1px solid;border-right: 1px solid;border-top: 1px solid;border-bottom: 1px solid;\">256</td></tr></table><table><tr><td>Eduarda:<table border=\"1\" cellpadding=\"3\" cellspacing=\"0\"  style=\"border:black; border-collapse:collapse;\"><tr><td  style=\"border-left: 1px solid;border-right: 1px solid;border-top: 1px solid;border-bottom: 1px solid;\">Não&nbsp;Relacionado</td><td  style=\"border-left: 1px solid;border-right: 1px solid;border-top: 1px solid;border-bottom: 1px solid;\">231</td></tr><tr><td  style=\"border-left: 1px solid;border-right: 1px solid;border-top: 1px solid;border-bottom: 1px solid;\">Propagação&nbsp;de&nbsp;Fake&nbsp;News</td><td  style=\"border-left: 1px solid;border-right: 1px solid;border-top: 1px solid;border-bottom: 1px solid;\">59</td></tr><tr><td  style=\"border-left: 1px solid;border-right: 1px solid;border-top: 1px solid;border-bottom: 1px solid;\">Relacionado</td><td  style=\"border-left: 1px solid;border-right: 1px solid;border-top: 1px solid;border-bottom: 1px solid;\">25</td></tr><tr><td  style=\"border-left: 1px solid;border-right: 1px solid;border-top: 1px solid;border-bottom: 1px solid;\">Contra&nbsp;Fake&nbsp;News</td><td  style=\"border-left: 1px solid;border-right: 1px solid;border-top: 1px solid;border-bottom: 1px solid;\">15</td></tr><tr><td  style=\"border-left: 1px solid;border-right: 1px solid;border-top: 1px solid;border-bottom: 1px solid;\">Réplica</td><td  style=\"border-left: 1px solid;border-right: 1px solid;border-top: 1px solid;border-bottom: 1px solid;\">1</td></tr></table></td><td>Mateus:<table border=\"1\" cellpadding=\"3\" cellspacing=\"0\"  style=\"border:black; border-collapse:collapse;\"><tr><td  style=\"border-left: 1px solid;border-right: 1px solid;border-top: 1px solid;border-bottom: 1px solid;\">Não&nbsp;Relacionado</td><td  style=\"border-left: 1px solid;border-right: 1px solid;border-top: 1px solid;border-bottom: 1px solid;\">229</td></tr><tr><td  style=\"border-left: 1px solid;border-right: 1px solid;border-top: 1px solid;border-bottom: 1px solid;\">Relacionado</td><td  style=\"border-left: 1px solid;border-right: 1px solid;border-top: 1px solid;border-bottom: 1px solid;\">27</td></tr><tr><td  style=\"border-left: 1px solid;border-right: 1px solid;border-top: 1px solid;border-bottom: 1px solid;\">Contra&nbsp;Fake&nbsp;News</td><td  style=\"border-left: 1px solid;border-right: 1px solid;border-top: 1px solid;border-bottom: 1px solid;\">15</td></tr><tr><td  style=\"border-left: 1px solid;border-right: 1px solid;border-top: 1px solid;border-bottom: 1px solid;\">Propagação&nbsp;de&nbsp;Fake&nbsp;News</td><td  style=\"border-left: 1px solid;border-right: 1px solid;border-top: 1px solid;border-bottom: 1px solid;\">8</td></tr><tr><td  style=\"border-left: 1px solid;border-right: 1px solid;border-top: 1px solid;border-bottom: 1px solid;\">Réplica</td><td  style=\"border-left: 1px solid;border-right: 1px solid;border-top: 1px solid;border-bottom: 1px solid;\">4</td></tr></table></td></tr></table><h2>Eixo 01: Relação com a notícia</h2><br>Kappa: Eduarda X Mateus: 0.9571977930112021<table border=\"1\" cellpadding=\"3\" cellspacing=\"0\"  style=\"border:black; border-collapse:collapse;\"><tr><td  style=\"border-left: 1px solid;border-right: 1px solid;border-top: 1px solid;border-bottom: 1px solid;\"></td><td  style=\"border-left: 1px solid;border-right: 1px solid;border-top: 1px solid;border-bottom: 1px solid;\">relacionado</td><td  style=\"border-left: 1px solid;border-right: 1px solid;border-top: 1px solid;border-bottom: 1px solid;\">não&nbsp;relacionado</td></tr><tr><td  style=\"border-left: 1px solid;border-right: 1px solid;border-top: 1px solid;border-bottom: 1px solid;\">relacionado</td><td  style=\"border-left: 1px solid;border-right: 1px solid;border-top: 1px solid;border-bottom: 1px solid;\">25</td><td  style=\"border-left: 1px solid;border-right: 1px solid;border-top: 1px solid;border-bottom: 1px solid;\">2</td></tr><tr><td  style=\"border-left: 1px solid;border-right: 1px solid;border-top: 1px solid;border-bottom: 1px solid;\">não&nbsp;relacionado</td><td  style=\"border-left: 1px solid;border-right: 1px solid;border-top: 1px solid;border-bottom: 1px solid;\">0</td><td  style=\"border-left: 1px solid;border-right: 1px solid;border-top: 1px solid;border-bottom: 1px solid;\">229</td></tr></table>@Fernand85113965 É por essas que não conseguem fazer NADA QUE PRESTE, nem nas artes, tampouco no estudo e na vida profissional.\n",
       "\n",
       "O cérebro não pega nem no tranco. Somente um imbecil usaria um aviso desses em campanha. Similar ao fake da camisa de @FlavioBolsonaro sobre o Nordeste.<br>Eduarda: Não Relacionado<br>Mateus : Relacionado<br>---<br>Esse cara deve ser do pt pois tem muitos vídeo de pessoas criticando todos os nordestino como se fosse eleitor do Bolsonaro todo cuidado é pouco para o Bolsonaro não perder votos nordeste não esquecer que já surgiu até Bolsonito com camiseta criticando os nordestino camisa fake<br>Eduarda: Não Relacionado<br>Mateus : Relacionado<br>---<br><h2>Eixo 02: Fake News</h2><br>Kappa: Eduarda X Mateus: 0.7396694214876033<table border=\"1\" cellpadding=\"3\" cellspacing=\"0\"  style=\"border:black; border-collapse:collapse;\"><tr><td  style=\"border-left: 1px solid;border-right: 1px solid;border-top: 1px solid;border-bottom: 1px solid;\"></td><td  style=\"border-left: 1px solid;border-right: 1px solid;border-top: 1px solid;border-bottom: 1px solid;\">Propagação</td><td  style=\"border-left: 1px solid;border-right: 1px solid;border-top: 1px solid;border-bottom: 1px solid;\">Contra</td><td  style=\"border-left: 1px solid;border-right: 1px solid;border-top: 1px solid;border-bottom: 1px solid;\">Réplica</td></tr><tr><td  style=\"border-left: 1px solid;border-right: 1px solid;border-top: 1px solid;border-bottom: 1px solid;\">Propagação</td><td  style=\"border-left: 1px solid;border-right: 1px solid;border-top: 1px solid;border-bottom: 1px solid;\">6</td><td  style=\"border-left: 1px solid;border-right: 1px solid;border-top: 1px solid;border-bottom: 1px solid;\">1</td><td  style=\"border-left: 1px solid;border-right: 1px solid;border-top: 1px solid;border-bottom: 1px solid;\">0</td></tr><tr><td  style=\"border-left: 1px solid;border-right: 1px solid;border-top: 1px solid;border-bottom: 1px solid;\">Contra</td><td  style=\"border-left: 1px solid;border-right: 1px solid;border-top: 1px solid;border-bottom: 1px solid;\">0</td><td  style=\"border-left: 1px solid;border-right: 1px solid;border-top: 1px solid;border-bottom: 1px solid;\">11</td><td  style=\"border-left: 1px solid;border-right: 1px solid;border-top: 1px solid;border-bottom: 1px solid;\">0</td></tr><tr><td  style=\"border-left: 1px solid;border-right: 1px solid;border-top: 1px solid;border-bottom: 1px solid;\">Réplica</td><td  style=\"border-left: 1px solid;border-right: 1px solid;border-top: 1px solid;border-bottom: 1px solid;\">0</td><td  style=\"border-left: 1px solid;border-right: 1px solid;border-top: 1px solid;border-bottom: 1px solid;\">2</td><td  style=\"border-left: 1px solid;border-right: 1px solid;border-top: 1px solid;border-bottom: 1px solid;\">1</td></tr></table>a galera divulgando a fake news da camisa do bolsokid ofendendo nordestinos como se as verdades sobre o candidato não fossem suficientes<br>Eduarda: Contra Fake News<br>Mateus : Réplica<br>---<br>MAIS UMA FAKE MENTIRA NEWS NOVAS ...\n",
       "A DO FILHO DO BONOSSAURO COM CAMISA INSULTANDO OS NORDESTINOS TAMBÉM É FAKE MENTIRAS ..\n",
       ".\n",
       "PARE DE COMPARTILHAR ESSAS MERDAS ... VOCÊ FICA PARECENDO RETARDADO !!!! https://t.co/1RKpa9yg2U<br>Eduarda: Contra Fake News<br>Mateus : Propagação de Fake News<br>---<br>Povo lindo Rafael Fernandes me informou que a tal camisa do filhote de cruz credo falando mal dos nordestinos era fake, portanto não dêem importância ao posto que vou apagar , ao invez disso ouçam oque o próprio... https://t.co/PVV1biXHvQ<br>Eduarda: Contra Fake News<br>Mateus : Réplica<br>---<br>"
      ],
      "text/plain": [
       "<IPython.core.display.HTML object>"
      ]
     },
     "execution_count": 194,
     "metadata": {},
     "output_type": "execute_result"
    }
   ],
   "source": [
    "compara(128, 127, \"Eduarda\", \"Mateus\")"
   ]
  },
  {
   "cell_type": "markdown",
   "metadata": {},
   "source": [
    "## Notícia 03"
   ]
  },
  {
   "cell_type": "code",
   "execution_count": 175,
   "metadata": {},
   "outputs": [
    {
     "data": {
      "text/html": [
       "<h2>Notícia 03:\n",
       "\n",
       "Post com propostas atribuídas a Bolsonaro mistura informações falsas e verdadeiras\n",
       "\n",
       "https://projetocomprova.com.br/post/re_2B5W8XNd27mZ</h2><table border=\"1\" cellpadding=\"3\" cellspacing=\"0\"  style=\"border:black; border-collapse:collapse;\"><tr><td  style=\"border-left: 1px solid;border-right: 1px solid;border-top: 1px solid;border-bottom: 1px solid;\">cod</td><td  style=\"border-left: 1px solid;border-right: 1px solid;border-top: 1px solid;border-bottom: 1px solid;\">amostra</td><td  style=\"border-left: 1px solid;border-right: 1px solid;border-top: 1px solid;border-bottom: 1px solid;\">hash</td><td  style=\"border-left: 1px solid;border-right: 1px solid;border-top: 1px solid;border-bottom: 1px solid;\">avaliador</td><td  style=\"border-left: 1px solid;border-right: 1px solid;border-top: 1px solid;border-bottom: 1px solid;\">avaliar</td><td  style=\"border-left: 1px solid;border-right: 1px solid;border-top: 1px solid;border-bottom: 1px solid;\">avaliados</td></tr><tr><td  style=\"border-left: 1px solid;border-right: 1px solid;border-top: 1px solid;border-bottom: 1px solid;\">131</td><td  style=\"border-left: 1px solid;border-right: 1px solid;border-top: 1px solid;border-bottom: 1px solid;\">109</td><td  style=\"border-left: 1px solid;border-right: 1px solid;border-top: 1px solid;border-bottom: 1px solid;\">fake171801</td><td  style=\"border-left: 1px solid;border-right: 1px solid;border-top: 1px solid;border-bottom: 1px solid;\">Maria&nbsp;Eduarda&nbsp;Sampaio&nbsp;de&nbsp;Sousa</td><td  style=\"border-left: 1px solid;border-right: 1px solid;border-top: 1px solid;border-bottom: 1px solid;\">3</td><td  style=\"border-left: 1px solid;border-right: 1px solid;border-top: 1px solid;border-bottom: 1px solid;\">3</td></tr><tr><td  style=\"border-left: 1px solid;border-right: 1px solid;border-top: 1px solid;border-bottom: 1px solid;\">145</td><td  style=\"border-left: 1px solid;border-right: 1px solid;border-top: 1px solid;border-bottom: 1px solid;\">109</td><td  style=\"border-left: 1px solid;border-right: 1px solid;border-top: 1px solid;border-bottom: 1px solid;\">fake171889</td><td  style=\"border-left: 1px solid;border-right: 1px solid;border-top: 1px solid;border-bottom: 1px solid;\">Mateus&nbsp;Tarcinalli&nbsp;Machado</td><td  style=\"border-left: 1px solid;border-right: 1px solid;border-top: 1px solid;border-bottom: 1px solid;\">3</td><td  style=\"border-left: 1px solid;border-right: 1px solid;border-top: 1px solid;border-bottom: 1px solid;\">3</td></tr></table><table><tr><td>Eduarda:<table border=\"1\" cellpadding=\"3\" cellspacing=\"0\"  style=\"border:black; border-collapse:collapse;\"><tr><td  style=\"border-left: 1px solid;border-right: 1px solid;border-top: 1px solid;border-bottom: 1px solid;\">Propagação&nbsp;de&nbsp;Fake&nbsp;News</td><td  style=\"border-left: 1px solid;border-right: 1px solid;border-top: 1px solid;border-bottom: 1px solid;\">3</td></tr><tr><td  style=\"border-left: 1px solid;border-right: 1px solid;border-top: 1px solid;border-bottom: 1px solid;\">Relacionado</td><td  style=\"border-left: 1px solid;border-right: 1px solid;border-top: 1px solid;border-bottom: 1px solid;\">3</td></tr></table></td><td>Mateus:<table border=\"1\" cellpadding=\"3\" cellspacing=\"0\"  style=\"border:black; border-collapse:collapse;\"><tr><td  style=\"border-left: 1px solid;border-right: 1px solid;border-top: 1px solid;border-bottom: 1px solid;\">Propagação&nbsp;de&nbsp;Fake&nbsp;News</td><td  style=\"border-left: 1px solid;border-right: 1px solid;border-top: 1px solid;border-bottom: 1px solid;\">3</td></tr><tr><td  style=\"border-left: 1px solid;border-right: 1px solid;border-top: 1px solid;border-bottom: 1px solid;\">Relacionado</td><td  style=\"border-left: 1px solid;border-right: 1px solid;border-top: 1px solid;border-bottom: 1px solid;\">3</td></tr></table></td></tr></table><h2>Eixo 01: Relação com a notícia</h2><br>Kappa: Eduarda X Mateus: nan<table border=\"1\" cellpadding=\"3\" cellspacing=\"0\"  style=\"border:black; border-collapse:collapse;\"><tr><td  style=\"border-left: 1px solid;border-right: 1px solid;border-top: 1px solid;border-bottom: 1px solid;\"></td><td  style=\"border-left: 1px solid;border-right: 1px solid;border-top: 1px solid;border-bottom: 1px solid;\">relacionado</td><td  style=\"border-left: 1px solid;border-right: 1px solid;border-top: 1px solid;border-bottom: 1px solid;\">não&nbsp;relacionado</td></tr><tr><td  style=\"border-left: 1px solid;border-right: 1px solid;border-top: 1px solid;border-bottom: 1px solid;\">relacionado</td><td  style=\"border-left: 1px solid;border-right: 1px solid;border-top: 1px solid;border-bottom: 1px solid;\">3</td><td  style=\"border-left: 1px solid;border-right: 1px solid;border-top: 1px solid;border-bottom: 1px solid;\">0</td></tr><tr><td  style=\"border-left: 1px solid;border-right: 1px solid;border-top: 1px solid;border-bottom: 1px solid;\">não&nbsp;relacionado</td><td  style=\"border-left: 1px solid;border-right: 1px solid;border-top: 1px solid;border-bottom: 1px solid;\">0</td><td  style=\"border-left: 1px solid;border-right: 1px solid;border-top: 1px solid;border-bottom: 1px solid;\">0</td></tr></table><h2>Eixo 02: Fake News</h2><br>Kappa: Eduarda X Mateus: nan<table border=\"1\" cellpadding=\"3\" cellspacing=\"0\"  style=\"border:black; border-collapse:collapse;\"><tr><td  style=\"border-left: 1px solid;border-right: 1px solid;border-top: 1px solid;border-bottom: 1px solid;\"></td><td  style=\"border-left: 1px solid;border-right: 1px solid;border-top: 1px solid;border-bottom: 1px solid;\">Propagação</td><td  style=\"border-left: 1px solid;border-right: 1px solid;border-top: 1px solid;border-bottom: 1px solid;\">Contra</td><td  style=\"border-left: 1px solid;border-right: 1px solid;border-top: 1px solid;border-bottom: 1px solid;\">Réplica</td></tr><tr><td  style=\"border-left: 1px solid;border-right: 1px solid;border-top: 1px solid;border-bottom: 1px solid;\">Propagação</td><td  style=\"border-left: 1px solid;border-right: 1px solid;border-top: 1px solid;border-bottom: 1px solid;\">3</td><td  style=\"border-left: 1px solid;border-right: 1px solid;border-top: 1px solid;border-bottom: 1px solid;\">0</td><td  style=\"border-left: 1px solid;border-right: 1px solid;border-top: 1px solid;border-bottom: 1px solid;\">0</td></tr><tr><td  style=\"border-left: 1px solid;border-right: 1px solid;border-top: 1px solid;border-bottom: 1px solid;\">Contra</td><td  style=\"border-left: 1px solid;border-right: 1px solid;border-top: 1px solid;border-bottom: 1px solid;\">0</td><td  style=\"border-left: 1px solid;border-right: 1px solid;border-top: 1px solid;border-bottom: 1px solid;\">0</td><td  style=\"border-left: 1px solid;border-right: 1px solid;border-top: 1px solid;border-bottom: 1px solid;\">0</td></tr><tr><td  style=\"border-left: 1px solid;border-right: 1px solid;border-top: 1px solid;border-bottom: 1px solid;\">Réplica</td><td  style=\"border-left: 1px solid;border-right: 1px solid;border-top: 1px solid;border-bottom: 1px solid;\">0</td><td  style=\"border-left: 1px solid;border-right: 1px solid;border-top: 1px solid;border-bottom: 1px solid;\">0</td><td  style=\"border-left: 1px solid;border-right: 1px solid;border-top: 1px solid;border-bottom: 1px solid;\">0</td></tr></table>"
      ],
      "text/plain": [
       "<IPython.core.display.HTML object>"
      ]
     },
     "execution_count": 175,
     "metadata": {},
     "output_type": "execute_result"
    }
   ],
   "source": [
    "compara(131, 145, \"Eduarda\", \"Mateus\")"
   ]
  },
  {
   "cell_type": "markdown",
   "metadata": {},
   "source": [
    "## Notícia 4"
   ]
  },
  {
   "cell_type": "code",
   "execution_count": 176,
   "metadata": {},
   "outputs": [
    {
     "data": {
      "text/html": [
       "<h2>Notícia 04:\n",
       "\n",
       "General Mourão não propôs o confisco da poupança\n",
       "\n",
       "https://projetocomprova.com.br/post/re_2B5W8XZVA7QY</h2><table border=\"1\" cellpadding=\"3\" cellspacing=\"0\"  style=\"border:black; border-collapse:collapse;\"><tr><td  style=\"border-left: 1px solid;border-right: 1px solid;border-top: 1px solid;border-bottom: 1px solid;\">cod</td><td  style=\"border-left: 1px solid;border-right: 1px solid;border-top: 1px solid;border-bottom: 1px solid;\">amostra</td><td  style=\"border-left: 1px solid;border-right: 1px solid;border-top: 1px solid;border-bottom: 1px solid;\">hash</td><td  style=\"border-left: 1px solid;border-right: 1px solid;border-top: 1px solid;border-bottom: 1px solid;\">avaliador</td><td  style=\"border-left: 1px solid;border-right: 1px solid;border-top: 1px solid;border-bottom: 1px solid;\">avaliar</td><td  style=\"border-left: 1px solid;border-right: 1px solid;border-top: 1px solid;border-bottom: 1px solid;\">avaliados</td></tr><tr><td  style=\"border-left: 1px solid;border-right: 1px solid;border-top: 1px solid;border-bottom: 1px solid;\">132</td><td  style=\"border-left: 1px solid;border-right: 1px solid;border-top: 1px solid;border-bottom: 1px solid;\">111</td><td  style=\"border-left: 1px solid;border-right: 1px solid;border-top: 1px solid;border-bottom: 1px solid;\">fake181702</td><td  style=\"border-left: 1px solid;border-right: 1px solid;border-top: 1px solid;border-bottom: 1px solid;\">Maria&nbsp;Eduarda&nbsp;Sampaio&nbsp;de&nbsp;Sousa</td><td  style=\"border-left: 1px solid;border-right: 1px solid;border-top: 1px solid;border-bottom: 1px solid;\">181</td><td  style=\"border-left: 1px solid;border-right: 1px solid;border-top: 1px solid;border-bottom: 1px solid;\">181</td></tr><tr><td  style=\"border-left: 1px solid;border-right: 1px solid;border-top: 1px solid;border-bottom: 1px solid;\">146</td><td  style=\"border-left: 1px solid;border-right: 1px solid;border-top: 1px solid;border-bottom: 1px solid;\">111</td><td  style=\"border-left: 1px solid;border-right: 1px solid;border-top: 1px solid;border-bottom: 1px solid;\">fake188963</td><td  style=\"border-left: 1px solid;border-right: 1px solid;border-top: 1px solid;border-bottom: 1px solid;\">Mateus&nbsp;Tarcinalli&nbsp;Machado</td><td  style=\"border-left: 1px solid;border-right: 1px solid;border-top: 1px solid;border-bottom: 1px solid;\">181</td><td  style=\"border-left: 1px solid;border-right: 1px solid;border-top: 1px solid;border-bottom: 1px solid;\">181</td></tr></table><table><tr><td>Eduarda:<table border=\"1\" cellpadding=\"3\" cellspacing=\"0\"  style=\"border:black; border-collapse:collapse;\"><tr><td  style=\"border-left: 1px solid;border-right: 1px solid;border-top: 1px solid;border-bottom: 1px solid;\">Não&nbsp;Relacionado</td><td  style=\"border-left: 1px solid;border-right: 1px solid;border-top: 1px solid;border-bottom: 1px solid;\">111</td></tr><tr><td  style=\"border-left: 1px solid;border-right: 1px solid;border-top: 1px solid;border-bottom: 1px solid;\">Relacionado</td><td  style=\"border-left: 1px solid;border-right: 1px solid;border-top: 1px solid;border-bottom: 1px solid;\">70</td></tr><tr><td  style=\"border-left: 1px solid;border-right: 1px solid;border-top: 1px solid;border-bottom: 1px solid;\">Propagação&nbsp;de&nbsp;Fake&nbsp;News</td><td  style=\"border-left: 1px solid;border-right: 1px solid;border-top: 1px solid;border-bottom: 1px solid;\">45</td></tr><tr><td  style=\"border-left: 1px solid;border-right: 1px solid;border-top: 1px solid;border-bottom: 1px solid;\">Contra&nbsp;Fake&nbsp;News</td><td  style=\"border-left: 1px solid;border-right: 1px solid;border-top: 1px solid;border-bottom: 1px solid;\">33</td></tr><tr><td  style=\"border-left: 1px solid;border-right: 1px solid;border-top: 1px solid;border-bottom: 1px solid;\">Réplica</td><td  style=\"border-left: 1px solid;border-right: 1px solid;border-top: 1px solid;border-bottom: 1px solid;\">1</td></tr></table></td><td>Mateus:<table border=\"1\" cellpadding=\"3\" cellspacing=\"0\"  style=\"border:black; border-collapse:collapse;\"><tr><td  style=\"border-left: 1px solid;border-right: 1px solid;border-top: 1px solid;border-bottom: 1px solid;\">Não&nbsp;Relacionado</td><td  style=\"border-left: 1px solid;border-right: 1px solid;border-top: 1px solid;border-bottom: 1px solid;\">99</td></tr><tr><td  style=\"border-left: 1px solid;border-right: 1px solid;border-top: 1px solid;border-bottom: 1px solid;\">Relacionado</td><td  style=\"border-left: 1px solid;border-right: 1px solid;border-top: 1px solid;border-bottom: 1px solid;\">82</td></tr><tr><td  style=\"border-left: 1px solid;border-right: 1px solid;border-top: 1px solid;border-bottom: 1px solid;\">Propagação&nbsp;de&nbsp;Fake&nbsp;News</td><td  style=\"border-left: 1px solid;border-right: 1px solid;border-top: 1px solid;border-bottom: 1px solid;\">51</td></tr><tr><td  style=\"border-left: 1px solid;border-right: 1px solid;border-top: 1px solid;border-bottom: 1px solid;\">Contra&nbsp;Fake&nbsp;News</td><td  style=\"border-left: 1px solid;border-right: 1px solid;border-top: 1px solid;border-bottom: 1px solid;\">31</td></tr></table></td></tr></table><h2>Eixo 01: Relação com a notícia</h2><br>Kappa: Eduarda X Mateus: 0.6613023952095809<table border=\"1\" cellpadding=\"3\" cellspacing=\"0\"  style=\"border:black; border-collapse:collapse;\"><tr><td  style=\"border-left: 1px solid;border-right: 1px solid;border-top: 1px solid;border-bottom: 1px solid;\"></td><td  style=\"border-left: 1px solid;border-right: 1px solid;border-top: 1px solid;border-bottom: 1px solid;\">relacionado</td><td  style=\"border-left: 1px solid;border-right: 1px solid;border-top: 1px solid;border-bottom: 1px solid;\">não&nbsp;relacionado</td></tr><tr><td  style=\"border-left: 1px solid;border-right: 1px solid;border-top: 1px solid;border-bottom: 1px solid;\">relacionado</td><td  style=\"border-left: 1px solid;border-right: 1px solid;border-top: 1px solid;border-bottom: 1px solid;\">61</td><td  style=\"border-left: 1px solid;border-right: 1px solid;border-top: 1px solid;border-bottom: 1px solid;\">21</td></tr><tr><td  style=\"border-left: 1px solid;border-right: 1px solid;border-top: 1px solid;border-bottom: 1px solid;\">não&nbsp;relacionado</td><td  style=\"border-left: 1px solid;border-right: 1px solid;border-top: 1px solid;border-bottom: 1px solid;\">9</td><td  style=\"border-left: 1px solid;border-right: 1px solid;border-top: 1px solid;border-bottom: 1px solid;\">90</td></tr></table>@IImissu2 @Amorim_bella3 @EgonDias @folha Bolsonaro superior na economia onde? Não tem um economista respeitado que valide o plano dele e do Guedes. O PT querendo ou não segurou o país durante a crise de 2008 e manteve a inflação controlada. Sem bala de prata, ou confisco de poupança.  https://t.co/B4LYs8GYkb<br>Eduarda: Relacionado<br>Mateus : Não Relacionado<br>---<br>Confisco da poupança do Collor é café pequeno diante do q há por trás das ações ocultas q o capitão pretende empurrar. para a população. Deixaria seus eleitores chorando no meio da rua.\n",
       "\n",
       "https://t.co/CQtdh4VwXM https://t.co/CQtdh4VwXM<br>Eduarda: Relacionado<br>Mateus : Não Relacionado<br>---<br>Vocês confiam em manter poupanças e contas correntes bancárias num eventual governo Jair Bolsonaro? Temo por um novo confisco bancário tal qual feito por Collor.<br>Eduarda: Relacionado<br>Mateus : Não Relacionado<br>---<br>Por isso precisamos dos debates: o que o Bolsonaro fará na área econômica? Leiam a matéria, uma excelente análise. Fica a pergunta: Paulo Guedes repetirá o confisco da poupança feito por Zélia Cardoso de Melo?\n",
       "\n",
       "https://t.co/ywphkmu80U<br>Eduarda: Relacionado<br>Mateus : Não Relacionado<br>---<br>Qual é a procedência desses tuítes sobre confisco de poupança, caso o opositor de Haddad vença a corrida presidencial?\n",
       "\n",
       "Justifico:\n",
       "Se for especulação, poderá quebrar, definitivamente, a economia tão combalida deste país, com o esvaziamento precipitado das cadernetas de poupança.<br>Eduarda: Relacionado<br>Mateus : Não Relacionado<br>---<br>COLLOR 2.0 \n",
       "\n",
       "Preparem suas economias pois o confisco da poupança poderá voltar. O ornitorrinco, além de nazista, é um híbrido de Temer e Collor. \n",
       "\n",
       "https://t.co/vyt6qJ6t8b https://t.co/vyt6qJ6t8b<br>Eduarda: Relacionado<br>Mateus : Não Relacionado<br>---<br>Na página 53 do plano de governo de Bolsonaro consta que será criado o Ministério da Economia. A última vez que isso aconteceu foi no governo de Collor. O resultado todo mundo já sabe: o confisco das poupanças.<br>Eduarda: Relacionado<br>Mateus : Não Relacionado<br>---<br>É bom tomar cuidado com a poupança. Para Um cara que fala em CPMF e aumento da alíquota de imposto de renda pra pobre em plena campanha, confisco é pouco<br>Eduarda: Relacionado<br>Mateus : Não Relacionado<br>---<br>Fake News entre as amigas de mainha: uma retirou todo o dinheiro da poupança porque se o PT ganhar vão confiscar. Mainha perguntou a ela quem confiscou as poupanças (Collor) e qual partido ele era (PRN). ❤️ Mainha petralha.<br>Eduarda: Relacionado<br>Mateus : Não Relacionado<br>---<br>fico vendo pessoal preocupado com poupança e confisco e imagino duas coisas: pobres, pois poupança. ricos, pois tem uns caraminguás pra objeto de confisco.\n",
       "\n",
       "😂 \n",
       "\n",
       "sdds poupança \n",
       "poupatudo poupatudo poupatudo\n",
       "bolsonaro vai tomar \n",
       "tomar tomar \n",
       "tomar<br>Eduarda: Não Relacionado<br>Mateus : Relacionado<br>---<br><h2>Eixo 02: Fake News</h2><br>Kappa: Eduarda X Mateus: 0.7699890470974808<table border=\"1\" cellpadding=\"3\" cellspacing=\"0\"  style=\"border:black; border-collapse:collapse;\"><tr><td  style=\"border-left: 1px solid;border-right: 1px solid;border-top: 1px solid;border-bottom: 1px solid;\"></td><td  style=\"border-left: 1px solid;border-right: 1px solid;border-top: 1px solid;border-bottom: 1px solid;\">Propagação</td><td  style=\"border-left: 1px solid;border-right: 1px solid;border-top: 1px solid;border-bottom: 1px solid;\">Contra</td><td  style=\"border-left: 1px solid;border-right: 1px solid;border-top: 1px solid;border-bottom: 1px solid;\">Réplica</td></tr><tr><td  style=\"border-left: 1px solid;border-right: 1px solid;border-top: 1px solid;border-bottom: 1px solid;\">Propagação</td><td  style=\"border-left: 1px solid;border-right: 1px solid;border-top: 1px solid;border-bottom: 1px solid;\">29</td><td  style=\"border-left: 1px solid;border-right: 1px solid;border-top: 1px solid;border-bottom: 1px solid;\">5</td><td  style=\"border-left: 1px solid;border-right: 1px solid;border-top: 1px solid;border-bottom: 1px solid;\">0</td></tr><tr><td  style=\"border-left: 1px solid;border-right: 1px solid;border-top: 1px solid;border-bottom: 1px solid;\">Contra</td><td  style=\"border-left: 1px solid;border-right: 1px solid;border-top: 1px solid;border-bottom: 1px solid;\">1</td><td  style=\"border-left: 1px solid;border-right: 1px solid;border-top: 1px solid;border-bottom: 1px solid;\">24</td><td  style=\"border-left: 1px solid;border-right: 1px solid;border-top: 1px solid;border-bottom: 1px solid;\">1</td></tr><tr><td  style=\"border-left: 1px solid;border-right: 1px solid;border-top: 1px solid;border-bottom: 1px solid;\">Réplica</td><td  style=\"border-left: 1px solid;border-right: 1px solid;border-top: 1px solid;border-bottom: 1px solid;\">0</td><td  style=\"border-left: 1px solid;border-right: 1px solid;border-top: 1px solid;border-bottom: 1px solid;\">0</td><td  style=\"border-left: 1px solid;border-right: 1px solid;border-top: 1px solid;border-bottom: 1px solid;\">0</td></tr></table>Acabaram de distribuir no What'sApp um áudio de um jornalista estrangeiro que esteve esta semana com líderes empresariais na FGV, em que o assunto girava em torno do confisco da poupança por Bolsonaro após sua eleição. Fato ou Fake ?<br>Eduarda: Contra Fake News<br>Mateus : Propagação de Fake News<br>---<br>ALERTA! VEM AÍ O PACOTE \n",
       "DO SEBOSONARO!\n",
       "NOVO CONFISCO DA POUPANÇA DO POVO!\n",
       "#ELENÃO PODE SER ELEITO!<br>Eduarda: Contra Fake News<br>Mateus : Propagação de Fake News<br>---<br>Está rolando um audio \"falso\" de uma mulher relatando um possivel CONFISCO  da poupança dos brasileiros, com JAIR BOLSONARO presidente.\n",
       "\n",
       "...................\n",
       "\n",
       "O principal argumento que descarta a possibilidade de... https://t.co/pfcdEQr66n<br>Eduarda: Contra Fake News<br>Mateus : Propagação de Fake News<br>---<br>Eleger o Bolsonaro é assinar os papéis pra uma hiperinflação e confisco de poupança aos moldes do Colloer.<br>Eduarda: Contra Fake News<br>Mateus : Propagação de Fake News<br>---<br>Usando a lógica, e quem diz que o Mourão vai fazer confisco da poupança?<br>Eduarda: Contra Fake News<br>Mateus : Propagação de Fake News<br>---<br>#CrimeEleitoral @AdrianoArgolo advogado ligado ao PT, divulga confisco de poupança em eventual governo de Bolsonaro. Sugere saques de poupança, o que é outro crime contra o sistema financeiro nacional. @BancoCentralBR no aguardo de providências. @CFOAB @OABDF_oficial https://t.co/VgEHSLg9ly<br>Eduarda: Propagação de Fake News<br>Mateus : Contra Fake News<br>---<br>Vejo petistas tentando associar a imagem de Bolsonaro a Fernando Collor e ao confisco de poupanças.\n",
       "\n",
       "RELATO HISTÓRICO:\n",
       "Uma das responsáveis pelo Plano Collor, onde foram confiscadas as poupanças, Zélia Cardoso de... https://t.co/vMYgQHyeeH<br>Eduarda: Réplica<br>Mateus : Contra Fake News<br>---<br>"
      ],
      "text/plain": [
       "<IPython.core.display.HTML object>"
      ]
     },
     "execution_count": 176,
     "metadata": {},
     "output_type": "execute_result"
    }
   ],
   "source": [
    "compara(132, 146, \"Eduarda\", \"Mateus\")"
   ]
  },
  {
   "cell_type": "markdown",
   "metadata": {},
   "source": [
    "## Notícia 05"
   ]
  },
  {
   "cell_type": "code",
   "execution_count": 177,
   "metadata": {},
   "outputs": [
    {
     "data": {
      "text/html": [
       "<h2>Notícia 05:\n",
       "\n",
       "Áudio atribuído a Jair Bolsonaro no hospital é falso\n",
       "\n",
       "https://projetocomprova.com.br/post/re_2B5W8XZK5WMN</h2><table border=\"1\" cellpadding=\"3\" cellspacing=\"0\"  style=\"border:black; border-collapse:collapse;\"><tr><td  style=\"border-left: 1px solid;border-right: 1px solid;border-top: 1px solid;border-bottom: 1px solid;\">cod</td><td  style=\"border-left: 1px solid;border-right: 1px solid;border-top: 1px solid;border-bottom: 1px solid;\">amostra</td><td  style=\"border-left: 1px solid;border-right: 1px solid;border-top: 1px solid;border-bottom: 1px solid;\">hash</td><td  style=\"border-left: 1px solid;border-right: 1px solid;border-top: 1px solid;border-bottom: 1px solid;\">avaliador</td><td  style=\"border-left: 1px solid;border-right: 1px solid;border-top: 1px solid;border-bottom: 1px solid;\">avaliar</td><td  style=\"border-left: 1px solid;border-right: 1px solid;border-top: 1px solid;border-bottom: 1px solid;\">avaliados</td></tr><tr><td  style=\"border-left: 1px solid;border-right: 1px solid;border-top: 1px solid;border-bottom: 1px solid;\">133</td><td  style=\"border-left: 1px solid;border-right: 1px solid;border-top: 1px solid;border-bottom: 1px solid;\">113</td><td  style=\"border-left: 1px solid;border-right: 1px solid;border-top: 1px solid;border-bottom: 1px solid;\">fake222306</td><td  style=\"border-left: 1px solid;border-right: 1px solid;border-top: 1px solid;border-bottom: 1px solid;\">Maria&nbsp;Eduarda&nbsp;Sampaio&nbsp;de&nbsp;Sousa</td><td  style=\"border-left: 1px solid;border-right: 1px solid;border-top: 1px solid;border-bottom: 1px solid;\">50</td><td  style=\"border-left: 1px solid;border-right: 1px solid;border-top: 1px solid;border-bottom: 1px solid;\">50</td></tr><tr><td  style=\"border-left: 1px solid;border-right: 1px solid;border-top: 1px solid;border-bottom: 1px solid;\">144</td><td  style=\"border-left: 1px solid;border-right: 1px solid;border-top: 1px solid;border-bottom: 1px solid;\">113</td><td  style=\"border-left: 1px solid;border-right: 1px solid;border-top: 1px solid;border-bottom: 1px solid;\">fake456896</td><td  style=\"border-left: 1px solid;border-right: 1px solid;border-top: 1px solid;border-bottom: 1px solid;\">Mateus&nbsp;Tarcinalli&nbsp;Machado</td><td  style=\"border-left: 1px solid;border-right: 1px solid;border-top: 1px solid;border-bottom: 1px solid;\">50</td><td  style=\"border-left: 1px solid;border-right: 1px solid;border-top: 1px solid;border-bottom: 1px solid;\">50</td></tr></table><table><tr><td>Eduarda:<table border=\"1\" cellpadding=\"3\" cellspacing=\"0\"  style=\"border:black; border-collapse:collapse;\"><tr><td  style=\"border-left: 1px solid;border-right: 1px solid;border-top: 1px solid;border-bottom: 1px solid;\">Não&nbsp;Relacionado</td><td  style=\"border-left: 1px solid;border-right: 1px solid;border-top: 1px solid;border-bottom: 1px solid;\">29</td></tr><tr><td  style=\"border-left: 1px solid;border-right: 1px solid;border-top: 1px solid;border-bottom: 1px solid;\">Relacionado</td><td  style=\"border-left: 1px solid;border-right: 1px solid;border-top: 1px solid;border-bottom: 1px solid;\">21</td></tr><tr><td  style=\"border-left: 1px solid;border-right: 1px solid;border-top: 1px solid;border-bottom: 1px solid;\">Contra&nbsp;Fake&nbsp;News</td><td  style=\"border-left: 1px solid;border-right: 1px solid;border-top: 1px solid;border-bottom: 1px solid;\">20</td></tr><tr><td  style=\"border-left: 1px solid;border-right: 1px solid;border-top: 1px solid;border-bottom: 1px solid;\">Propagação&nbsp;de&nbsp;Fake&nbsp;News</td><td  style=\"border-left: 1px solid;border-right: 1px solid;border-top: 1px solid;border-bottom: 1px solid;\">1</td></tr></table></td><td>Mateus:<table border=\"1\" cellpadding=\"3\" cellspacing=\"0\"  style=\"border:black; border-collapse:collapse;\"><tr><td  style=\"border-left: 1px solid;border-right: 1px solid;border-top: 1px solid;border-bottom: 1px solid;\">Não&nbsp;Relacionado</td><td  style=\"border-left: 1px solid;border-right: 1px solid;border-top: 1px solid;border-bottom: 1px solid;\">26</td></tr><tr><td  style=\"border-left: 1px solid;border-right: 1px solid;border-top: 1px solid;border-bottom: 1px solid;\">Relacionado</td><td  style=\"border-left: 1px solid;border-right: 1px solid;border-top: 1px solid;border-bottom: 1px solid;\">24</td></tr><tr><td  style=\"border-left: 1px solid;border-right: 1px solid;border-top: 1px solid;border-bottom: 1px solid;\">Contra&nbsp;Fake&nbsp;News</td><td  style=\"border-left: 1px solid;border-right: 1px solid;border-top: 1px solid;border-bottom: 1px solid;\">22</td></tr><tr><td  style=\"border-left: 1px solid;border-right: 1px solid;border-top: 1px solid;border-bottom: 1px solid;\">Propagação&nbsp;de&nbsp;Fake&nbsp;News</td><td  style=\"border-left: 1px solid;border-right: 1px solid;border-top: 1px solid;border-bottom: 1px solid;\">2</td></tr></table></td></tr></table><h2>Eixo 01: Relação com a notícia</h2><br>Kappa: Eduarda X Mateus: 0.8792270531400966<table border=\"1\" cellpadding=\"3\" cellspacing=\"0\"  style=\"border:black; border-collapse:collapse;\"><tr><td  style=\"border-left: 1px solid;border-right: 1px solid;border-top: 1px solid;border-bottom: 1px solid;\"></td><td  style=\"border-left: 1px solid;border-right: 1px solid;border-top: 1px solid;border-bottom: 1px solid;\">relacionado</td><td  style=\"border-left: 1px solid;border-right: 1px solid;border-top: 1px solid;border-bottom: 1px solid;\">não&nbsp;relacionado</td></tr><tr><td  style=\"border-left: 1px solid;border-right: 1px solid;border-top: 1px solid;border-bottom: 1px solid;\">relacionado</td><td  style=\"border-left: 1px solid;border-right: 1px solid;border-top: 1px solid;border-bottom: 1px solid;\">21</td><td  style=\"border-left: 1px solid;border-right: 1px solid;border-top: 1px solid;border-bottom: 1px solid;\">3</td></tr><tr><td  style=\"border-left: 1px solid;border-right: 1px solid;border-top: 1px solid;border-bottom: 1px solid;\">não&nbsp;relacionado</td><td  style=\"border-left: 1px solid;border-right: 1px solid;border-top: 1px solid;border-bottom: 1px solid;\">0</td><td  style=\"border-left: 1px solid;border-right: 1px solid;border-top: 1px solid;border-bottom: 1px solid;\">26</td></tr></table>@MarceloAdnet Anti Bolsonaro, e depois veio na mídia dizer que não foi você no áudio falso do Bolsonaro no hospital né... Um anti Bolsonaro como você não duvido nada que seja você mesmo cara, e outra, a Globo divulga suas imitações de debates e através disso já deixa claro o lado dela !<br>Eduarda: Não Relacionado<br>Mateus : Relacionado<br>---<br>@GlauceCabral @jairbolsonaro Moça,serio,vc tá fazendo campanha contrária, postando vídeo zap zap q n ajuda nada,esse áudio é tipo aquele do Bolsonaro no hospital. Apaga isso aí.<br>Eduarda: Não Relacionado<br>Mateus : Relacionado<br>---<br>@maritegon Vc é aquela que postou o áudio Fake do Bolsonaro ofendendo todo mundo no hospital... tu achou muuuito engraçado ofender alguém que tinha acabado de levar uma facada, mas tá se doendo por causa de uma ex gorda corrupta!?! Puts muita coerência a sua!!!<br>Eduarda: Não Relacionado<br>Mateus : Relacionado<br>---<br><h2>Eixo 02: Fake News</h2><br>Kappa: Eduarda X Mateus: 0.6440677966101694<table border=\"1\" cellpadding=\"3\" cellspacing=\"0\"  style=\"border:black; border-collapse:collapse;\"><tr><td  style=\"border-left: 1px solid;border-right: 1px solid;border-top: 1px solid;border-bottom: 1px solid;\"></td><td  style=\"border-left: 1px solid;border-right: 1px solid;border-top: 1px solid;border-bottom: 1px solid;\">Propagação</td><td  style=\"border-left: 1px solid;border-right: 1px solid;border-top: 1px solid;border-bottom: 1px solid;\">Contra</td><td  style=\"border-left: 1px solid;border-right: 1px solid;border-top: 1px solid;border-bottom: 1px solid;\">Réplica</td></tr><tr><td  style=\"border-left: 1px solid;border-right: 1px solid;border-top: 1px solid;border-bottom: 1px solid;\">Propagação</td><td  style=\"border-left: 1px solid;border-right: 1px solid;border-top: 1px solid;border-bottom: 1px solid;\">1</td><td  style=\"border-left: 1px solid;border-right: 1px solid;border-top: 1px solid;border-bottom: 1px solid;\">1</td><td  style=\"border-left: 1px solid;border-right: 1px solid;border-top: 1px solid;border-bottom: 1px solid;\">0</td></tr><tr><td  style=\"border-left: 1px solid;border-right: 1px solid;border-top: 1px solid;border-bottom: 1px solid;\">Contra</td><td  style=\"border-left: 1px solid;border-right: 1px solid;border-top: 1px solid;border-bottom: 1px solid;\">0</td><td  style=\"border-left: 1px solid;border-right: 1px solid;border-top: 1px solid;border-bottom: 1px solid;\">19</td><td  style=\"border-left: 1px solid;border-right: 1px solid;border-top: 1px solid;border-bottom: 1px solid;\">0</td></tr><tr><td  style=\"border-left: 1px solid;border-right: 1px solid;border-top: 1px solid;border-bottom: 1px solid;\">Réplica</td><td  style=\"border-left: 1px solid;border-right: 1px solid;border-top: 1px solid;border-bottom: 1px solid;\">0</td><td  style=\"border-left: 1px solid;border-right: 1px solid;border-top: 1px solid;border-bottom: 1px solid;\">0</td><td  style=\"border-left: 1px solid;border-right: 1px solid;border-top: 1px solid;border-bottom: 1px solid;\">0</td></tr></table>Tem o audio vazado do hospital tambem.<br>Eduarda: Contra Fake News<br>Mateus : Propagação de Fake News<br>---<br>"
      ],
      "text/plain": [
       "<IPython.core.display.HTML object>"
      ]
     },
     "execution_count": 177,
     "metadata": {},
     "output_type": "execute_result"
    }
   ],
   "source": [
    "compara(133, 144, \"Eduarda\", \"Mateus\")"
   ]
  },
  {
   "cell_type": "markdown",
   "metadata": {},
   "source": [
    "## Notícia 06"
   ]
  },
  {
   "cell_type": "code",
   "execution_count": 178,
   "metadata": {},
   "outputs": [
    {
     "data": {
      "text/html": [
       "<h2>Notícia 06:\n",
       "\n",
       "Verificamos: Imagem apresentada como ‘capa do kit gay’ não está no material\n",
       "\n",
       "https://piaui.folha.uol.com.br/lupa/2018/08/30/verificamos-kit-gay/</h2><table border=\"1\" cellpadding=\"3\" cellspacing=\"0\"  style=\"border:black; border-collapse:collapse;\"><tr><td  style=\"border-left: 1px solid;border-right: 1px solid;border-top: 1px solid;border-bottom: 1px solid;\">cod</td><td  style=\"border-left: 1px solid;border-right: 1px solid;border-top: 1px solid;border-bottom: 1px solid;\">amostra</td><td  style=\"border-left: 1px solid;border-right: 1px solid;border-top: 1px solid;border-bottom: 1px solid;\">hash</td><td  style=\"border-left: 1px solid;border-right: 1px solid;border-top: 1px solid;border-bottom: 1px solid;\">avaliador</td><td  style=\"border-left: 1px solid;border-right: 1px solid;border-top: 1px solid;border-bottom: 1px solid;\">avaliar</td><td  style=\"border-left: 1px solid;border-right: 1px solid;border-top: 1px solid;border-bottom: 1px solid;\">avaliados</td></tr><tr><td  style=\"border-left: 1px solid;border-right: 1px solid;border-top: 1px solid;border-bottom: 1px solid;\">136</td><td  style=\"border-left: 1px solid;border-right: 1px solid;border-top: 1px solid;border-bottom: 1px solid;\">115</td><td  style=\"border-left: 1px solid;border-right: 1px solid;border-top: 1px solid;border-bottom: 1px solid;\">fake171903</td><td  style=\"border-left: 1px solid;border-right: 1px solid;border-top: 1px solid;border-bottom: 1px solid;\">Maria&nbsp;Eduarda&nbsp;Sampaio&nbsp;de&nbsp;Sousa</td><td  style=\"border-left: 1px solid;border-right: 1px solid;border-top: 1px solid;border-bottom: 1px solid;\">12682</td><td  style=\"border-left: 1px solid;border-right: 1px solid;border-top: 1px solid;border-bottom: 1px solid;\">151</td></tr><tr><td  style=\"border-left: 1px solid;border-right: 1px solid;border-top: 1px solid;border-bottom: 1px solid;\">149</td><td  style=\"border-left: 1px solid;border-right: 1px solid;border-top: 1px solid;border-bottom: 1px solid;\">115</td><td  style=\"border-left: 1px solid;border-right: 1px solid;border-top: 1px solid;border-bottom: 1px solid;\">fake963478</td><td  style=\"border-left: 1px solid;border-right: 1px solid;border-top: 1px solid;border-bottom: 1px solid;\">Mateus&nbsp;Tarcinalli&nbsp;Machado</td><td  style=\"border-left: 1px solid;border-right: 1px solid;border-top: 1px solid;border-bottom: 1px solid;\">12682</td><td  style=\"border-left: 1px solid;border-right: 1px solid;border-top: 1px solid;border-bottom: 1px solid;\">150</td></tr></table><table><tr><td>Eduarda:<table border=\"1\" cellpadding=\"3\" cellspacing=\"0\"  style=\"border:black; border-collapse:collapse;\"><tr><td  style=\"border-left: 1px solid;border-right: 1px solid;border-top: 1px solid;border-bottom: 1px solid;\">Relacionado</td><td  style=\"border-left: 1px solid;border-right: 1px solid;border-top: 1px solid;border-bottom: 1px solid;\">101</td></tr><tr><td  style=\"border-left: 1px solid;border-right: 1px solid;border-top: 1px solid;border-bottom: 1px solid;\">Não&nbsp;Relacionado</td><td  style=\"border-left: 1px solid;border-right: 1px solid;border-top: 1px solid;border-bottom: 1px solid;\">50</td></tr><tr><td  style=\"border-left: 1px solid;border-right: 1px solid;border-top: 1px solid;border-bottom: 1px solid;\">Propagação&nbsp;de&nbsp;Fake&nbsp;News</td><td  style=\"border-left: 1px solid;border-right: 1px solid;border-top: 1px solid;border-bottom: 1px solid;\">48</td></tr><tr><td  style=\"border-left: 1px solid;border-right: 1px solid;border-top: 1px solid;border-bottom: 1px solid;\">Contra&nbsp;Fake&nbsp;News</td><td  style=\"border-left: 1px solid;border-right: 1px solid;border-top: 1px solid;border-bottom: 1px solid;\">29</td></tr><tr><td  style=\"border-left: 1px solid;border-right: 1px solid;border-top: 1px solid;border-bottom: 1px solid;\">Réplica</td><td  style=\"border-left: 1px solid;border-right: 1px solid;border-top: 1px solid;border-bottom: 1px solid;\">8</td></tr></table></td><td>Mateus:<table border=\"1\" cellpadding=\"3\" cellspacing=\"0\"  style=\"border:black; border-collapse:collapse;\"><tr><td  style=\"border-left: 1px solid;border-right: 1px solid;border-top: 1px solid;border-bottom: 1px solid;\">Relacionado</td><td  style=\"border-left: 1px solid;border-right: 1px solid;border-top: 1px solid;border-bottom: 1px solid;\">148</td></tr><tr><td  style=\"border-left: 1px solid;border-right: 1px solid;border-top: 1px solid;border-bottom: 1px solid;\">Propagação&nbsp;de&nbsp;Fake&nbsp;News</td><td  style=\"border-left: 1px solid;border-right: 1px solid;border-top: 1px solid;border-bottom: 1px solid;\">88</td></tr><tr><td  style=\"border-left: 1px solid;border-right: 1px solid;border-top: 1px solid;border-bottom: 1px solid;\">Contra&nbsp;Fake&nbsp;News</td><td  style=\"border-left: 1px solid;border-right: 1px solid;border-top: 1px solid;border-bottom: 1px solid;\">52</td></tr><tr><td  style=\"border-left: 1px solid;border-right: 1px solid;border-top: 1px solid;border-bottom: 1px solid;\">Réplica</td><td  style=\"border-left: 1px solid;border-right: 1px solid;border-top: 1px solid;border-bottom: 1px solid;\">6</td></tr><tr><td  style=\"border-left: 1px solid;border-right: 1px solid;border-top: 1px solid;border-bottom: 1px solid;\">Não&nbsp;Relacionado</td><td  style=\"border-left: 1px solid;border-right: 1px solid;border-top: 1px solid;border-bottom: 1px solid;\">2</td></tr></table></td></tr></table><h2>Eixo 01: Relação com a notícia</h2><br>Kappa: Eduarda X Mateus: 0.037016264722377956<table border=\"1\" cellpadding=\"3\" cellspacing=\"0\"  style=\"border:black; border-collapse:collapse;\"><tr><td  style=\"border-left: 1px solid;border-right: 1px solid;border-top: 1px solid;border-bottom: 1px solid;\"></td><td  style=\"border-left: 1px solid;border-right: 1px solid;border-top: 1px solid;border-bottom: 1px solid;\">relacionado</td><td  style=\"border-left: 1px solid;border-right: 1px solid;border-top: 1px solid;border-bottom: 1px solid;\">não&nbsp;relacionado</td></tr><tr><td  style=\"border-left: 1px solid;border-right: 1px solid;border-top: 1px solid;border-bottom: 1px solid;\">relacionado</td><td  style=\"border-left: 1px solid;border-right: 1px solid;border-top: 1px solid;border-bottom: 1px solid;\">66</td><td  style=\"border-left: 1px solid;border-right: 1px solid;border-top: 1px solid;border-bottom: 1px solid;\">34</td></tr><tr><td  style=\"border-left: 1px solid;border-right: 1px solid;border-top: 1px solid;border-bottom: 1px solid;\">não&nbsp;relacionado</td><td  style=\"border-left: 1px solid;border-right: 1px solid;border-top: 1px solid;border-bottom: 1px solid;\">0</td><td  style=\"border-left: 1px solid;border-right: 1px solid;border-top: 1px solid;border-bottom: 1px solid;\">1</td></tr></table>@PauloRo84901739 @jc_pe Parabéns pra você que chama o Bolsonaro de \"kit gay\" mas defende político que a anos te faz de palhaço 🤡, e te enfiou a viagem guela abaixo !<br>Eduarda: Não Relacionado<br>Mateus : Relacionado<br>---<br>a contradição do eleitor do bolsonaro:\n",
       "\n",
       "\"economia e segurança devem ser mais importantes que machismo, racismo e homofobia!!!!!\"\n",
       "X \n",
       "\"vou votar pra proteger minha familia do kit gay e da ideologia de genero!!!!!!\"<br>Eduarda: Não Relacionado<br>Mateus : Relacionado<br>---<br>tavam falando do Bolsonaro aqui e eu disse q nada q vier dele me interessa ai já soltaram um ENTÃO COMPRA UM KiT GAY ?????????????<br>Eduarda: Não Relacionado<br>Mateus : Relacionado<br>---<br>Olha quem barrou o kit gay #ÁLVARODIASPRESIDENTE19\n",
       "Bolsonaro  se promovendo do kit<br>Eduarda: Não Relacionado<br>Mateus : Relacionado<br>---<br>Acho que cada candidato deveria ficar conhecido pelas expressões ridículas que propaga. Imaginem \n",
       "\n",
       "Jair \"kit gay\" Bolsonaro<br>Eduarda: Não Relacionado<br>Mateus : Relacionado<br>---<br>eu fico temerosa por esse clima de guerra q passa pq eu vejo a irracionalidade do povo muito de perto, minha mãe q era uma simpatizante do PT até o impeachment hj compartilha vídeo criticando o Haddad passando matéria da record sobre o \"kit gay\"\n",
       "\n",
       "(ela vai votar no Ciro, ufa)<br>Eduarda: Não Relacionado<br>Mateus : Relacionado<br>---<br>Haddad foi o pior prefeito da história de sp.viciado em ciclofaixa\n",
       "Foi reprovado, é o pai do KIT GAY\n",
       "E da introdução da ideologia de gênero,promete uma nova constituição, é capacho do bandido Lula, Haddad presidente é LULA governando de dentro do presídio.<br>Eduarda: Não Relacionado<br>Mateus : Relacionado<br>---<br>@DanielFFC07 @bruno_leo_nardo Já era. Foi só começar o apoio dos líderes evangélicos, que o Bolso cresceu e a rejeição do Haddad disparou. Papo de Kit Gay, ideologia de gênero...<br>Eduarda: Não Relacionado<br>Mateus : Relacionado<br>---<br>Ibope: Bolsonaro cresce 4 pontos e Haddad fica estagnado no 1° turno; candidatos empatam no 2º turno\n",
       "MELHORA DO DESEMPENHO DE BOLSONARO APONTA PARA VITÓRIA NO PRIMEIRO TURNO!\n",
       "BOLSONARO CRESCE PARA 31%\n",
       "HADDAD KIT GAY CAI PARA 21% https://t.co/ZLctKq2jE0<br>Eduarda: Não Relacionado<br>Mateus : Relacionado<br>---<br>Me pergunto quantos % da rejeição ao Haddad não vem das fake news sobre \"kit gay\" #Ibope<br>Eduarda: Não Relacionado<br>Mateus : Relacionado<br>---<br><h2>Eixo 02: Fake News</h2><br>Kappa: Eduarda X Mateus: 0.6777583187390543<table border=\"1\" cellpadding=\"3\" cellspacing=\"0\"  style=\"border:black; border-collapse:collapse;\"><tr><td  style=\"border-left: 1px solid;border-right: 1px solid;border-top: 1px solid;border-bottom: 1px solid;\"></td><td  style=\"border-left: 1px solid;border-right: 1px solid;border-top: 1px solid;border-bottom: 1px solid;\">Propagação</td><td  style=\"border-left: 1px solid;border-right: 1px solid;border-top: 1px solid;border-bottom: 1px solid;\">Contra</td><td  style=\"border-left: 1px solid;border-right: 1px solid;border-top: 1px solid;border-bottom: 1px solid;\">Réplica</td></tr><tr><td  style=\"border-left: 1px solid;border-right: 1px solid;border-top: 1px solid;border-bottom: 1px solid;\">Propagação</td><td  style=\"border-left: 1px solid;border-right: 1px solid;border-top: 1px solid;border-bottom: 1px solid;\">25</td><td  style=\"border-left: 1px solid;border-right: 1px solid;border-top: 1px solid;border-bottom: 1px solid;\">0</td><td  style=\"border-left: 1px solid;border-right: 1px solid;border-top: 1px solid;border-bottom: 1px solid;\">0</td></tr><tr><td  style=\"border-left: 1px solid;border-right: 1px solid;border-top: 1px solid;border-bottom: 1px solid;\">Contra</td><td  style=\"border-left: 1px solid;border-right: 1px solid;border-top: 1px solid;border-bottom: 1px solid;\">2</td><td  style=\"border-left: 1px solid;border-right: 1px solid;border-top: 1px solid;border-bottom: 1px solid;\">13</td><td  style=\"border-left: 1px solid;border-right: 1px solid;border-top: 1px solid;border-bottom: 1px solid;\">4</td></tr><tr><td  style=\"border-left: 1px solid;border-right: 1px solid;border-top: 1px solid;border-bottom: 1px solid;\">Réplica</td><td  style=\"border-left: 1px solid;border-right: 1px solid;border-top: 1px solid;border-bottom: 1px solid;\">1</td><td  style=\"border-left: 1px solid;border-right: 1px solid;border-top: 1px solid;border-bottom: 1px solid;\">1</td><td  style=\"border-left: 1px solid;border-right: 1px solid;border-top: 1px solid;border-bottom: 1px solid;\">0</td></tr></table>@sdiegosoares @Pirulla25 Caro @sdiegosoares, Essa questão do tal \"kit gay\" é muito emblemática, ela nunca existiu, faça uma pesquisa séria sobre o assunto e veja o que encontra de concreto! Vou além do Pirulla, as fake news colocaram o Bolsonaro em evidencia. Abcs<br>Eduarda: Contra Fake News<br>Mateus : Réplica<br>---<br>Familia tradicional brasileira fica inventando fake news de \"Kit gay\" sendo que esse tal de \"kit gay\" não incentiva a criança ser gay, incentiva a pedófilia. Como se gay e pedófilo fossem a mesma coisa, que micão.<br>Eduarda: Propagação de Fake News<br>Mateus : Contra Fake News<br>---<br>Haddad não! Pra quem diz que isso é mentira tá aí o vídeo que confirma quem foi o criador do KIT GAY, nunca terá o meu voto. https://t.co/OxnQSkYpQ0<br>Eduarda: Propagação de Fake News<br>Mateus : Réplica<br>---<br>@Baphometinh0 E se o haddad ganhar vai ter kit gay nas escolas e mamadeira erótica nas creches HAUAHAUAHAUAH o povo ta nas drogas<br>Eduarda: Propagação de Fake News<br>Mateus : Contra Fake News<br>---<br>https://t.co/nJSQ9lGdxX\n",
       "\n",
       "AUTOR DO \"KIT GAY\" NÃO É HADDAD! PENSEM BEM NO QUE FALAM! https://t.co/nJSQ9lGdxX<br>Eduarda: Réplica<br>Mateus : Contra Fake News<br>---<br>@sdiegosoares O tal do kit gay não foi aprovado nem na reunião em que foi proposto. A relevância de Bolsonaro nesse caso é minima. \n",
       "Aliás, o trecho do livro que ele mostrou não tinha nada de gay. Podemos até discutir se era inadequado pra idade proposta, mas não era gay.<br>Eduarda: Réplica<br>Mateus : Contra Fake News<br>---<br>“Implantarão o kit gay”\n",
       "\n",
       "“Vão erotizar nossas crianças”\n",
       "\n",
       "“Obrigarão as igrejas a casarem homossexuais”\n",
       "\n",
       "“Vão perseguir os evangélicos”\n",
       "\n",
       "“Brasil vai virar a Venezuela”\n",
       "\n",
       "Se não fossem as fake news, a campanha do Bolsonaro nem existia.<br>Eduarda: Réplica<br>Mateus : Contra Fake News<br>---<br>Tenho 9 primos, desses, 7 estudam em escolas públicas. Os pais desses mesmos, acreditam fervorosamente na histórinha que bolsonaro contou em rede nacional sobre o \"kit gay\". Agora pergunta pra eles se algum dos filhos receberam o tal livro?<br>Eduarda: Réplica<br>Mateus : Contra Fake News<br>---<br>"
      ],
      "text/plain": [
       "<IPython.core.display.HTML object>"
      ]
     },
     "execution_count": 178,
     "metadata": {},
     "output_type": "execute_result"
    }
   ],
   "source": [
    "compara(136, 149, \"Eduarda\", \"Mateus\")"
   ]
  },
  {
   "cell_type": "markdown",
   "metadata": {},
   "source": [
    "## Notícia 07"
   ]
  },
  {
   "cell_type": "code",
   "execution_count": 179,
   "metadata": {},
   "outputs": [
    {
     "data": {
      "text/html": [
       "<h2>Notícia 07:\n",
       "\n",
       "Projeto não torna a pedofilia um ato legal e nem tem participação de Haddad\n",
       "\n",
       "https://projetocomprova.com.br/post/re_2B5W8XNDG6Pb</h2><table border=\"1\" cellpadding=\"3\" cellspacing=\"0\"  style=\"border:black; border-collapse:collapse;\"><tr><td  style=\"border-left: 1px solid;border-right: 1px solid;border-top: 1px solid;border-bottom: 1px solid;\">cod</td><td  style=\"border-left: 1px solid;border-right: 1px solid;border-top: 1px solid;border-bottom: 1px solid;\">amostra</td><td  style=\"border-left: 1px solid;border-right: 1px solid;border-top: 1px solid;border-bottom: 1px solid;\">hash</td><td  style=\"border-left: 1px solid;border-right: 1px solid;border-top: 1px solid;border-bottom: 1px solid;\">avaliador</td><td  style=\"border-left: 1px solid;border-right: 1px solid;border-top: 1px solid;border-bottom: 1px solid;\">avaliar</td><td  style=\"border-left: 1px solid;border-right: 1px solid;border-top: 1px solid;border-bottom: 1px solid;\">avaliados</td></tr><tr><td  style=\"border-left: 1px solid;border-right: 1px solid;border-top: 1px solid;border-bottom: 1px solid;\">137</td><td  style=\"border-left: 1px solid;border-right: 1px solid;border-top: 1px solid;border-bottom: 1px solid;\">117</td><td  style=\"border-left: 1px solid;border-right: 1px solid;border-top: 1px solid;border-bottom: 1px solid;\">fake156789</td><td  style=\"border-left: 1px solid;border-right: 1px solid;border-top: 1px solid;border-bottom: 1px solid;\">Maria&nbsp;Eduarda&nbsp;Sampaio&nbsp;de&nbsp;Sousa</td><td  style=\"border-left: 1px solid;border-right: 1px solid;border-top: 1px solid;border-bottom: 1px solid;\">52</td><td  style=\"border-left: 1px solid;border-right: 1px solid;border-top: 1px solid;border-bottom: 1px solid;\">52</td></tr><tr><td  style=\"border-left: 1px solid;border-right: 1px solid;border-top: 1px solid;border-bottom: 1px solid;\">150</td><td  style=\"border-left: 1px solid;border-right: 1px solid;border-top: 1px solid;border-bottom: 1px solid;\">117</td><td  style=\"border-left: 1px solid;border-right: 1px solid;border-top: 1px solid;border-bottom: 1px solid;\">fake199873</td><td  style=\"border-left: 1px solid;border-right: 1px solid;border-top: 1px solid;border-bottom: 1px solid;\">Mateus&nbsp;Tarcinalli&nbsp;Machado</td><td  style=\"border-left: 1px solid;border-right: 1px solid;border-top: 1px solid;border-bottom: 1px solid;\">52</td><td  style=\"border-left: 1px solid;border-right: 1px solid;border-top: 1px solid;border-bottom: 1px solid;\">52</td></tr></table><table><tr><td>Eduarda:<table border=\"1\" cellpadding=\"3\" cellspacing=\"0\"  style=\"border:black; border-collapse:collapse;\"><tr><td  style=\"border-left: 1px solid;border-right: 1px solid;border-top: 1px solid;border-bottom: 1px solid;\">Relacionado</td><td  style=\"border-left: 1px solid;border-right: 1px solid;border-top: 1px solid;border-bottom: 1px solid;\">46</td></tr><tr><td  style=\"border-left: 1px solid;border-right: 1px solid;border-top: 1px solid;border-bottom: 1px solid;\">Contra&nbsp;Fake&nbsp;News</td><td  style=\"border-left: 1px solid;border-right: 1px solid;border-top: 1px solid;border-bottom: 1px solid;\">27</td></tr><tr><td  style=\"border-left: 1px solid;border-right: 1px solid;border-top: 1px solid;border-bottom: 1px solid;\">Propagação&nbsp;de&nbsp;Fake&nbsp;News</td><td  style=\"border-left: 1px solid;border-right: 1px solid;border-top: 1px solid;border-bottom: 1px solid;\">17</td></tr><tr><td  style=\"border-left: 1px solid;border-right: 1px solid;border-top: 1px solid;border-bottom: 1px solid;\">Não&nbsp;Relacionado</td><td  style=\"border-left: 1px solid;border-right: 1px solid;border-top: 1px solid;border-bottom: 1px solid;\">6</td></tr><tr><td  style=\"border-left: 1px solid;border-right: 1px solid;border-top: 1px solid;border-bottom: 1px solid;\">Réplica</td><td  style=\"border-left: 1px solid;border-right: 1px solid;border-top: 1px solid;border-bottom: 1px solid;\">2</td></tr></table></td><td>Mateus:<table border=\"1\" cellpadding=\"3\" cellspacing=\"0\"  style=\"border:black; border-collapse:collapse;\"><tr><td  style=\"border-left: 1px solid;border-right: 1px solid;border-top: 1px solid;border-bottom: 1px solid;\">Relacionado</td><td  style=\"border-left: 1px solid;border-right: 1px solid;border-top: 1px solid;border-bottom: 1px solid;\">43</td></tr><tr><td  style=\"border-left: 1px solid;border-right: 1px solid;border-top: 1px solid;border-bottom: 1px solid;\">Contra&nbsp;Fake&nbsp;News</td><td  style=\"border-left: 1px solid;border-right: 1px solid;border-top: 1px solid;border-bottom: 1px solid;\">30</td></tr><tr><td  style=\"border-left: 1px solid;border-right: 1px solid;border-top: 1px solid;border-bottom: 1px solid;\">Propagação&nbsp;de&nbsp;Fake&nbsp;News</td><td  style=\"border-left: 1px solid;border-right: 1px solid;border-top: 1px solid;border-bottom: 1px solid;\">11</td></tr><tr><td  style=\"border-left: 1px solid;border-right: 1px solid;border-top: 1px solid;border-bottom: 1px solid;\">Não&nbsp;Relacionado</td><td  style=\"border-left: 1px solid;border-right: 1px solid;border-top: 1px solid;border-bottom: 1px solid;\">9</td></tr><tr><td  style=\"border-left: 1px solid;border-right: 1px solid;border-top: 1px solid;border-bottom: 1px solid;\">Réplica</td><td  style=\"border-left: 1px solid;border-right: 1px solid;border-top: 1px solid;border-bottom: 1px solid;\">2</td></tr></table></td></tr></table><h2>Eixo 01: Relação com a notícia</h2><br>Kappa: Eduarda X Mateus: 0.6130952380952381<table border=\"1\" cellpadding=\"3\" cellspacing=\"0\"  style=\"border:black; border-collapse:collapse;\"><tr><td  style=\"border-left: 1px solid;border-right: 1px solid;border-top: 1px solid;border-bottom: 1px solid;\"></td><td  style=\"border-left: 1px solid;border-right: 1px solid;border-top: 1px solid;border-bottom: 1px solid;\">relacionado</td><td  style=\"border-left: 1px solid;border-right: 1px solid;border-top: 1px solid;border-bottom: 1px solid;\">não&nbsp;relacionado</td></tr><tr><td  style=\"border-left: 1px solid;border-right: 1px solid;border-top: 1px solid;border-bottom: 1px solid;\">relacionado</td><td  style=\"border-left: 1px solid;border-right: 1px solid;border-top: 1px solid;border-bottom: 1px solid;\">42</td><td  style=\"border-left: 1px solid;border-right: 1px solid;border-top: 1px solid;border-bottom: 1px solid;\">1</td></tr><tr><td  style=\"border-left: 1px solid;border-right: 1px solid;border-top: 1px solid;border-bottom: 1px solid;\">não&nbsp;relacionado</td><td  style=\"border-left: 1px solid;border-right: 1px solid;border-top: 1px solid;border-bottom: 1px solid;\">4</td><td  style=\"border-left: 1px solid;border-right: 1px solid;border-top: 1px solid;border-bottom: 1px solid;\">5</td></tr></table>Mano minha mãe já cansou de me mostrar \"projetos\" do Jean Willys pra legalizar pedofilia nas escolas e essas mulas acreditam<br>Eduarda: Relacionado<br>Mateus : Não Relacionado<br>---<br>@valoreconomico Não é o Haddad é o projeto, sejam mais inteligentes e faça analogias do teor e interpretem todo o contexto e o que o sr. Jean wilys apoiador do Haddad tem como projeto com o apoio da esquerda. O Haddad quer quebrar o tabu do incesto, imagina a pedofilia 🤥🤔<br>Eduarda: Relacionado<br>Mateus : Não Relacionado<br>---<br>Aproveita e leva um projeto para permitir a pedofilia dos padres e bispos...<br>Eduarda: Relacionado<br>Mateus : Não Relacionado<br>---<br>@natisilverio1 A única coisa que haddad fez aki foi levar crédito por obras e projetos de  prefeitos anteriores e tentar distribuir kits que incentiva a banalização da pedofilia, mas graças a intervenção de Bolsonaro abafaram o caso e sumiram com os ditos \"kits gays\"<br>Eduarda: Relacionado<br>Mateus : Não Relacionado<br>---<br>@Fabioalsi @_alicereja_ @Lorrane100893 @AlineDuran Um projeto contra a homofobia e o bolsonaro disse: \" incentivaram o homossexualismo e a promiscuidade\" e tornam os filhos \"presas fáceis para pedófilos\". Fala serio combater homofobia é incentivo pra ser gay e pedofilia, parabens ao lixo de candidato que vc tem<br>Eduarda: Não Relacionado<br>Mateus : Relacionado<br>---<br><h2>Eixo 02: Fake News</h2><br>Kappa: Eduarda X Mateus: 0.701067615658363<table border=\"1\" cellpadding=\"3\" cellspacing=\"0\"  style=\"border:black; border-collapse:collapse;\"><tr><td  style=\"border-left: 1px solid;border-right: 1px solid;border-top: 1px solid;border-bottom: 1px solid;\"></td><td  style=\"border-left: 1px solid;border-right: 1px solid;border-top: 1px solid;border-bottom: 1px solid;\">Propagação</td><td  style=\"border-left: 1px solid;border-right: 1px solid;border-top: 1px solid;border-bottom: 1px solid;\">Contra</td><td  style=\"border-left: 1px solid;border-right: 1px solid;border-top: 1px solid;border-bottom: 1px solid;\">Réplica</td></tr><tr><td  style=\"border-left: 1px solid;border-right: 1px solid;border-top: 1px solid;border-bottom: 1px solid;\">Propagação</td><td  style=\"border-left: 1px solid;border-right: 1px solid;border-top: 1px solid;border-bottom: 1px solid;\">11</td><td  style=\"border-left: 1px solid;border-right: 1px solid;border-top: 1px solid;border-bottom: 1px solid;\">0</td><td  style=\"border-left: 1px solid;border-right: 1px solid;border-top: 1px solid;border-bottom: 1px solid;\">0</td></tr><tr><td  style=\"border-left: 1px solid;border-right: 1px solid;border-top: 1px solid;border-bottom: 1px solid;\">Contra</td><td  style=\"border-left: 1px solid;border-right: 1px solid;border-top: 1px solid;border-bottom: 1px solid;\">3</td><td  style=\"border-left: 1px solid;border-right: 1px solid;border-top: 1px solid;border-bottom: 1px solid;\">25</td><td  style=\"border-left: 1px solid;border-right: 1px solid;border-top: 1px solid;border-bottom: 1px solid;\">1</td></tr><tr><td  style=\"border-left: 1px solid;border-right: 1px solid;border-top: 1px solid;border-bottom: 1px solid;\">Réplica</td><td  style=\"border-left: 1px solid;border-right: 1px solid;border-top: 1px solid;border-bottom: 1px solid;\">1</td><td  style=\"border-left: 1px solid;border-right: 1px solid;border-top: 1px solid;border-bottom: 1px solid;\">1</td><td  style=\"border-left: 1px solid;border-right: 1px solid;border-top: 1px solid;border-bottom: 1px solid;\">0</td></tr></table>Uma nota trágicômica: uma das fake news acusavam o Haddad de querer implantar a pedofilia no Brasil, e citava até o projeto de lei.\n",
       "O PL, na verdade,propunha a diminuição de idade do consentimento sexual de 14 para 12 anos.\n",
       "Só que o projeto na verdade era do Sarney, que apoia...?<br>Eduarda: Contra Fake News<br>Mateus : Réplica<br>---<br>@emmimonteiro1 @DiasAdria @JOILSONTF2 @AleBlackmore @Haddad_Fernando É fato que o Fernando Haddad queria aprovar o projeto do kit gay nas escolas, abrindo a porta para pedofilia, isso é real. Em sua perversidade ele quis destruir o que há de mais importante no pilar de uma sociedade família.<br>Eduarda: Propagação de Fake News<br>Mateus : Réplica<br>---<br>@duduzuero @Jefferson_bh198 @cancelahoje @SofiaVa63704407 @Haddad_Fernando Sobre a pedofilia mas o projeto foi barrado a pedido da bancada evangélica adivinha por quem??? Ele mesmo Fernando Haddad qndo o mesmo era ministro da educação.<br>Eduarda: Propagação de Fake News<br>Mateus : Contra Fake News<br>---<br>A pessoa vai numa rádio convidar pra reunião de campanha do Bolsonaro, e em vez de falar em propostas, fala sobre pedofilia deixar de ser crime.\n",
       "Rapaz, nunca vi ninguém postando sobre esse projeto, queria saber quem é o autor disso. Sério mesmo.<br>Eduarda: Propagação de Fake News<br>Mateus : Contra Fake News<br>---<br>as associações que os eleitores do bolsonaro fazem com pedofilia é uma coisa incrível\n",
       "acabei de ver um no fb dizendo que o pt tem um projeto pra regulamentar ela e tudo<br>Eduarda: Propagação de Fake News<br>Mateus : Contra Fake News<br>---<br>Vc acha que não tem projeto do PT em aprovar pedofilia né... não tem não... isso é fake, montagem... https://t.co/C7TUjINkuh<br>Eduarda: Réplica<br>Mateus : Contra Fake News<br>---<br>"
      ],
      "text/plain": [
       "<IPython.core.display.HTML object>"
      ]
     },
     "execution_count": 179,
     "metadata": {},
     "output_type": "execute_result"
    }
   ],
   "source": [
    "compara(137, 150, \"Eduarda\", \"Mateus\")"
   ]
  },
  {
   "cell_type": "markdown",
   "metadata": {},
   "source": [
    "## Notícia 08"
   ]
  },
  {
   "cell_type": "code",
   "execution_count": 201,
   "metadata": {},
   "outputs": [
    {
     "data": {
      "text/html": [
       "<h2>Notícia 08:\n",
       "\n",
       "\"Mamadeiras eróticas\" não foram distribuídas em creches pelo PT\n",
       "\n",
       "https://projetocomprova.com.br/post/re_2B5W8XYj0Jwb </h2><table border=\"1\" cellpadding=\"3\" cellspacing=\"0\"  style=\"border:black; border-collapse:collapse;\"><tr><td  style=\"border-left: 1px solid;border-right: 1px solid;border-top: 1px solid;border-bottom: 1px solid;\">cod</td><td  style=\"border-left: 1px solid;border-right: 1px solid;border-top: 1px solid;border-bottom: 1px solid;\">amostra</td><td  style=\"border-left: 1px solid;border-right: 1px solid;border-top: 1px solid;border-bottom: 1px solid;\">hash</td><td  style=\"border-left: 1px solid;border-right: 1px solid;border-top: 1px solid;border-bottom: 1px solid;\">avaliador</td><td  style=\"border-left: 1px solid;border-right: 1px solid;border-top: 1px solid;border-bottom: 1px solid;\">avaliar</td><td  style=\"border-left: 1px solid;border-right: 1px solid;border-top: 1px solid;border-bottom: 1px solid;\">avaliados</td></tr><tr><td  style=\"border-left: 1px solid;border-right: 1px solid;border-top: 1px solid;border-bottom: 1px solid;\">138</td><td  style=\"border-left: 1px solid;border-right: 1px solid;border-top: 1px solid;border-bottom: 1px solid;\">119</td><td  style=\"border-left: 1px solid;border-right: 1px solid;border-top: 1px solid;border-bottom: 1px solid;\">fake136859</td><td  style=\"border-left: 1px solid;border-right: 1px solid;border-top: 1px solid;border-bottom: 1px solid;\">Maria&nbsp;Eduarda&nbsp;Sampaio&nbsp;de&nbsp;Sousa</td><td  style=\"border-left: 1px solid;border-right: 1px solid;border-top: 1px solid;border-bottom: 1px solid;\">1128</td><td  style=\"border-left: 1px solid;border-right: 1px solid;border-top: 1px solid;border-bottom: 1px solid;\">654</td></tr><tr><td  style=\"border-left: 1px solid;border-right: 1px solid;border-top: 1px solid;border-bottom: 1px solid;\">147</td><td  style=\"border-left: 1px solid;border-right: 1px solid;border-top: 1px solid;border-bottom: 1px solid;\">119</td><td  style=\"border-left: 1px solid;border-right: 1px solid;border-top: 1px solid;border-bottom: 1px solid;\">fake196347</td><td  style=\"border-left: 1px solid;border-right: 1px solid;border-top: 1px solid;border-bottom: 1px solid;\">Mateus&nbsp;Tarcinalli&nbsp;Machado</td><td  style=\"border-left: 1px solid;border-right: 1px solid;border-top: 1px solid;border-bottom: 1px solid;\">1128</td><td  style=\"border-left: 1px solid;border-right: 1px solid;border-top: 1px solid;border-bottom: 1px solid;\">654</td></tr></table><table><tr><td>Eduarda:<table border=\"1\" cellpadding=\"3\" cellspacing=\"0\"  style=\"border:black; border-collapse:collapse;\"><tr><td  style=\"border-left: 1px solid;border-right: 1px solid;border-top: 1px solid;border-bottom: 1px solid;\">Relacionado</td><td  style=\"border-left: 1px solid;border-right: 1px solid;border-top: 1px solid;border-bottom: 1px solid;\">491</td></tr><tr><td  style=\"border-left: 1px solid;border-right: 1px solid;border-top: 1px solid;border-bottom: 1px solid;\">Contra&nbsp;Fake&nbsp;News</td><td  style=\"border-left: 1px solid;border-right: 1px solid;border-top: 1px solid;border-bottom: 1px solid;\">455</td></tr><tr><td  style=\"border-left: 1px solid;border-right: 1px solid;border-top: 1px solid;border-bottom: 1px solid;\">Não&nbsp;Relacionado</td><td  style=\"border-left: 1px solid;border-right: 1px solid;border-top: 1px solid;border-bottom: 1px solid;\">163</td></tr><tr><td  style=\"border-left: 1px solid;border-right: 1px solid;border-top: 1px solid;border-bottom: 1px solid;\">Propagação&nbsp;de&nbsp;Fake&nbsp;News</td><td  style=\"border-left: 1px solid;border-right: 1px solid;border-top: 1px solid;border-bottom: 1px solid;\">24</td></tr><tr><td  style=\"border-left: 1px solid;border-right: 1px solid;border-top: 1px solid;border-bottom: 1px solid;\">Réplica</td><td  style=\"border-left: 1px solid;border-right: 1px solid;border-top: 1px solid;border-bottom: 1px solid;\">9</td></tr></table></td><td>Mateus:<table border=\"1\" cellpadding=\"3\" cellspacing=\"0\"  style=\"border:black; border-collapse:collapse;\"><tr><td  style=\"border-left: 1px solid;border-right: 1px solid;border-top: 1px solid;border-bottom: 1px solid;\">Relacionado</td><td  style=\"border-left: 1px solid;border-right: 1px solid;border-top: 1px solid;border-bottom: 1px solid;\">499</td></tr><tr><td  style=\"border-left: 1px solid;border-right: 1px solid;border-top: 1px solid;border-bottom: 1px solid;\">Contra&nbsp;Fake&nbsp;News</td><td  style=\"border-left: 1px solid;border-right: 1px solid;border-top: 1px solid;border-bottom: 1px solid;\">463</td></tr><tr><td  style=\"border-left: 1px solid;border-right: 1px solid;border-top: 1px solid;border-bottom: 1px solid;\">Não&nbsp;Relacionado</td><td  style=\"border-left: 1px solid;border-right: 1px solid;border-top: 1px solid;border-bottom: 1px solid;\">155</td></tr><tr><td  style=\"border-left: 1px solid;border-right: 1px solid;border-top: 1px solid;border-bottom: 1px solid;\">Propagação&nbsp;de&nbsp;Fake&nbsp;News</td><td  style=\"border-left: 1px solid;border-right: 1px solid;border-top: 1px solid;border-bottom: 1px solid;\">24</td></tr><tr><td  style=\"border-left: 1px solid;border-right: 1px solid;border-top: 1px solid;border-bottom: 1px solid;\">Réplica</td><td  style=\"border-left: 1px solid;border-right: 1px solid;border-top: 1px solid;border-bottom: 1px solid;\">9</td></tr></table></td></tr></table><h2>Eixo 01: Relação com a notícia</h2><br>Kappa: Eduarda X Mateus: 0.9667687148283177<table border=\"1\" cellpadding=\"3\" cellspacing=\"0\"  style=\"border:black; border-collapse:collapse;\"><tr><td  style=\"border-left: 1px solid;border-right: 1px solid;border-top: 1px solid;border-bottom: 1px solid;\"></td><td  style=\"border-left: 1px solid;border-right: 1px solid;border-top: 1px solid;border-bottom: 1px solid;\">relacionado</td><td  style=\"border-left: 1px solid;border-right: 1px solid;border-top: 1px solid;border-bottom: 1px solid;\">não&nbsp;relacionado</td></tr><tr><td  style=\"border-left: 1px solid;border-right: 1px solid;border-top: 1px solid;border-bottom: 1px solid;\">relacionado</td><td  style=\"border-left: 1px solid;border-right: 1px solid;border-top: 1px solid;border-bottom: 1px solid;\">491</td><td  style=\"border-left: 1px solid;border-right: 1px solid;border-top: 1px solid;border-bottom: 1px solid;\">8</td></tr><tr><td  style=\"border-left: 1px solid;border-right: 1px solid;border-top: 1px solid;border-bottom: 1px solid;\">não&nbsp;relacionado</td><td  style=\"border-left: 1px solid;border-right: 1px solid;border-top: 1px solid;border-bottom: 1px solid;\">0</td><td  style=\"border-left: 1px solid;border-right: 1px solid;border-top: 1px solid;border-bottom: 1px solid;\">155</td></tr></table>@chicobarney A mamadeira de piroca do Haddad eu não conheço mas tenho interesse.<br>Eduarda: Não Relacionado<br>Mateus : Relacionado<br>---<br>se a notícia que o haddad destruiu mamadeira com pinto fosse verificada minhas amigas iam tudo votar nele<br>Eduarda: Não Relacionado<br>Mateus : Relacionado<br>---<br>acho lindo que o haddad e a manu tenham emitido carta de apoio à aliança nacional lgbt. só achei o timing péssimo. a galera tá compartilhando mamadeira de pinto e que o haddad acha que governo tem o controle sobre o gênero. imagina o impacto de algo que ele fez de verdade.<br>Eduarda: Não Relacionado<br>Mateus : Relacionado<br>---<br>Todo mundo tentando analisar o crescimento da rejeição a Haddad. Vocês não sabem? É A PORRA DA MAMADEIRA COM PINTO DE BORRACHA!<br>Eduarda: Não Relacionado<br>Mateus : Relacionado<br>---<br>@anacronices sei q é fake news, mas o interesse por essa mamadeira aumentou exponencialmente<br>Eduarda: Não Relacionado<br>Mateus : Relacionado<br>---<br>Os cara não consegue nem distribuir merenda, imagina mamadeira<br>Eduarda: Não Relacionado<br>Mateus : Relacionado<br>---<br>peguei um uber pro ato\n",
       "que disse que haddad implantou mamadeiras em formato de pênis nas creches e que tava muito feliz porque os filhos dele já eram grandes e não iam \"mamar\"??!!\n",
       "agora me diz\n",
       "como se conversa com uma pessoa dessas?<br>Eduarda: Não Relacionado<br>Mateus : Relacionado<br>---<br>MAMADEIRA EROTICA<br>Eduarda: Não Relacionado<br>Mateus : Relacionado<br>---<br><h2>Eixo 02: Fake News</h2><br>Kappa: Eduarda X Mateus: 0.9837501248709667<table border=\"1\" cellpadding=\"3\" cellspacing=\"0\"  style=\"border:black; border-collapse:collapse;\"><tr><td  style=\"border-left: 1px solid;border-right: 1px solid;border-top: 1px solid;border-bottom: 1px solid;\"></td><td  style=\"border-left: 1px solid;border-right: 1px solid;border-top: 1px solid;border-bottom: 1px solid;\">Propagação</td><td  style=\"border-left: 1px solid;border-right: 1px solid;border-top: 1px solid;border-bottom: 1px solid;\">Contra</td><td  style=\"border-left: 1px solid;border-right: 1px solid;border-top: 1px solid;border-bottom: 1px solid;\">Réplica</td></tr><tr><td  style=\"border-left: 1px solid;border-right: 1px solid;border-top: 1px solid;border-bottom: 1px solid;\">Propagação</td><td  style=\"border-left: 1px solid;border-right: 1px solid;border-top: 1px solid;border-bottom: 1px solid;\">23</td><td  style=\"border-left: 1px solid;border-right: 1px solid;border-top: 1px solid;border-bottom: 1px solid;\">0</td><td  style=\"border-left: 1px solid;border-right: 1px solid;border-top: 1px solid;border-bottom: 1px solid;\">0</td></tr><tr><td  style=\"border-left: 1px solid;border-right: 1px solid;border-top: 1px solid;border-bottom: 1px solid;\">Contra</td><td  style=\"border-left: 1px solid;border-right: 1px solid;border-top: 1px solid;border-bottom: 1px solid;\">1</td><td  style=\"border-left: 1px solid;border-right: 1px solid;border-top: 1px solid;border-bottom: 1px solid;\">455</td><td  style=\"border-left: 1px solid;border-right: 1px solid;border-top: 1px solid;border-bottom: 1px solid;\">0</td></tr><tr><td  style=\"border-left: 1px solid;border-right: 1px solid;border-top: 1px solid;border-bottom: 1px solid;\">Réplica</td><td  style=\"border-left: 1px solid;border-right: 1px solid;border-top: 1px solid;border-bottom: 1px solid;\">0</td><td  style=\"border-left: 1px solid;border-right: 1px solid;border-top: 1px solid;border-bottom: 1px solid;\">0</td><td  style=\"border-left: 1px solid;border-right: 1px solid;border-top: 1px solid;border-bottom: 1px solid;\">9</td></tr></table>RECADO.\n",
       "\n",
       "Uma candidatura que usa um vídeo exibindo uma mamadeira com bico no  formato de pênis e diz que o PT vai usar esse objeto nas creches   é uma ameaça à integridade da família.\n",
       "\n",
       "#elenão<br>Eduarda: Propagação de Fake News<br>Mateus : Contra Fake News<br>---<br>"
      ],
      "text/plain": [
       "<IPython.core.display.HTML object>"
      ]
     },
     "execution_count": 201,
     "metadata": {},
     "output_type": "execute_result"
    }
   ],
   "source": [
    "compara(138, 147, \"Eduarda\", \"Mateus\")"
   ]
  },
  {
   "cell_type": "markdown",
   "metadata": {},
   "source": [
    "## Notícia 09"
   ]
  },
  {
   "cell_type": "code",
   "execution_count": 202,
   "metadata": {},
   "outputs": [
    {
     "data": {
      "text/html": [
       "<h2>Notícia 09:\n",
       "\n",
       "Vídeo em que Haddad diz que eleição acabou é de 2016\n",
       "\n",
       "https://projetocomprova.com.br/post/re_2B5W8XY19ddY</h2><table border=\"1\" cellpadding=\"3\" cellspacing=\"0\"  style=\"border:black; border-collapse:collapse;\"><tr><td  style=\"border-left: 1px solid;border-right: 1px solid;border-top: 1px solid;border-bottom: 1px solid;\">cod</td><td  style=\"border-left: 1px solid;border-right: 1px solid;border-top: 1px solid;border-bottom: 1px solid;\">amostra</td><td  style=\"border-left: 1px solid;border-right: 1px solid;border-top: 1px solid;border-bottom: 1px solid;\">hash</td><td  style=\"border-left: 1px solid;border-right: 1px solid;border-top: 1px solid;border-bottom: 1px solid;\">avaliador</td><td  style=\"border-left: 1px solid;border-right: 1px solid;border-top: 1px solid;border-bottom: 1px solid;\">avaliar</td><td  style=\"border-left: 1px solid;border-right: 1px solid;border-top: 1px solid;border-bottom: 1px solid;\">avaliados</td></tr><tr><td  style=\"border-left: 1px solid;border-right: 1px solid;border-top: 1px solid;border-bottom: 1px solid;\">139</td><td  style=\"border-left: 1px solid;border-right: 1px solid;border-top: 1px solid;border-bottom: 1px solid;\">121</td><td  style=\"border-left: 1px solid;border-right: 1px solid;border-top: 1px solid;border-bottom: 1px solid;\">fake213678</td><td  style=\"border-left: 1px solid;border-right: 1px solid;border-top: 1px solid;border-bottom: 1px solid;\">Maria&nbsp;Eduarda&nbsp;Sampaio&nbsp;de&nbsp;Sousa</td><td  style=\"border-left: 1px solid;border-right: 1px solid;border-top: 1px solid;border-bottom: 1px solid;\">223</td><td  style=\"border-left: 1px solid;border-right: 1px solid;border-top: 1px solid;border-bottom: 1px solid;\">223</td></tr><tr><td  style=\"border-left: 1px solid;border-right: 1px solid;border-top: 1px solid;border-bottom: 1px solid;\">151</td><td  style=\"border-left: 1px solid;border-right: 1px solid;border-top: 1px solid;border-bottom: 1px solid;\">121</td><td  style=\"border-left: 1px solid;border-right: 1px solid;border-top: 1px solid;border-bottom: 1px solid;\">fake296347</td><td  style=\"border-left: 1px solid;border-right: 1px solid;border-top: 1px solid;border-bottom: 1px solid;\">Mateus&nbsp;Tarcinalli&nbsp;Machado</td><td  style=\"border-left: 1px solid;border-right: 1px solid;border-top: 1px solid;border-bottom: 1px solid;\">223</td><td  style=\"border-left: 1px solid;border-right: 1px solid;border-top: 1px solid;border-bottom: 1px solid;\">223</td></tr></table><table><tr><td>Eduarda:<table border=\"1\" cellpadding=\"3\" cellspacing=\"0\"  style=\"border:black; border-collapse:collapse;\"><tr><td  style=\"border-left: 1px solid;border-right: 1px solid;border-top: 1px solid;border-bottom: 1px solid;\">Não&nbsp;Relacionado</td><td  style=\"border-left: 1px solid;border-right: 1px solid;border-top: 1px solid;border-bottom: 1px solid;\">190</td></tr><tr><td  style=\"border-left: 1px solid;border-right: 1px solid;border-top: 1px solid;border-bottom: 1px solid;\">Relacionado</td><td  style=\"border-left: 1px solid;border-right: 1px solid;border-top: 1px solid;border-bottom: 1px solid;\">33</td></tr><tr><td  style=\"border-left: 1px solid;border-right: 1px solid;border-top: 1px solid;border-bottom: 1px solid;\">Propagação&nbsp;de&nbsp;Fake&nbsp;News</td><td  style=\"border-left: 1px solid;border-right: 1px solid;border-top: 1px solid;border-bottom: 1px solid;\">28</td></tr><tr><td  style=\"border-left: 1px solid;border-right: 1px solid;border-top: 1px solid;border-bottom: 1px solid;\">Contra&nbsp;Fake&nbsp;News</td><td  style=\"border-left: 1px solid;border-right: 1px solid;border-top: 1px solid;border-bottom: 1px solid;\">3</td></tr><tr><td  style=\"border-left: 1px solid;border-right: 1px solid;border-top: 1px solid;border-bottom: 1px solid;\">Réplica</td><td  style=\"border-left: 1px solid;border-right: 1px solid;border-top: 1px solid;border-bottom: 1px solid;\">2</td></tr></table></td><td>Mateus:<table border=\"1\" cellpadding=\"3\" cellspacing=\"0\"  style=\"border:black; border-collapse:collapse;\"><tr><td  style=\"border-left: 1px solid;border-right: 1px solid;border-top: 1px solid;border-bottom: 1px solid;\">Não&nbsp;Relacionado</td><td  style=\"border-left: 1px solid;border-right: 1px solid;border-top: 1px solid;border-bottom: 1px solid;\">152</td></tr><tr><td  style=\"border-left: 1px solid;border-right: 1px solid;border-top: 1px solid;border-bottom: 1px solid;\">Relacionado</td><td  style=\"border-left: 1px solid;border-right: 1px solid;border-top: 1px solid;border-bottom: 1px solid;\">71</td></tr><tr><td  style=\"border-left: 1px solid;border-right: 1px solid;border-top: 1px solid;border-bottom: 1px solid;\">Propagação&nbsp;de&nbsp;Fake&nbsp;News</td><td  style=\"border-left: 1px solid;border-right: 1px solid;border-top: 1px solid;border-bottom: 1px solid;\">65</td></tr><tr><td  style=\"border-left: 1px solid;border-right: 1px solid;border-top: 1px solid;border-bottom: 1px solid;\">Contra&nbsp;Fake&nbsp;News</td><td  style=\"border-left: 1px solid;border-right: 1px solid;border-top: 1px solid;border-bottom: 1px solid;\">5</td></tr><tr><td  style=\"border-left: 1px solid;border-right: 1px solid;border-top: 1px solid;border-bottom: 1px solid;\">Réplica</td><td  style=\"border-left: 1px solid;border-right: 1px solid;border-top: 1px solid;border-bottom: 1px solid;\">1</td></tr></table></td></tr></table><h2>Eixo 01: Relação com a notícia</h2><br>Kappa: Eduarda X Mateus: 0.4456932886631363<table border=\"1\" cellpadding=\"3\" cellspacing=\"0\"  style=\"border:black; border-collapse:collapse;\"><tr><td  style=\"border-left: 1px solid;border-right: 1px solid;border-top: 1px solid;border-bottom: 1px solid;\"></td><td  style=\"border-left: 1px solid;border-right: 1px solid;border-top: 1px solid;border-bottom: 1px solid;\">relacionado</td><td  style=\"border-left: 1px solid;border-right: 1px solid;border-top: 1px solid;border-bottom: 1px solid;\">não&nbsp;relacionado</td></tr><tr><td  style=\"border-left: 1px solid;border-right: 1px solid;border-top: 1px solid;border-bottom: 1px solid;\">relacionado</td><td  style=\"border-left: 1px solid;border-right: 1px solid;border-top: 1px solid;border-bottom: 1px solid;\">29</td><td  style=\"border-left: 1px solid;border-right: 1px solid;border-top: 1px solid;border-bottom: 1px solid;\">42</td></tr><tr><td  style=\"border-left: 1px solid;border-right: 1px solid;border-top: 1px solid;border-bottom: 1px solid;\">não&nbsp;relacionado</td><td  style=\"border-left: 1px solid;border-right: 1px solid;border-top: 1px solid;border-bottom: 1px solid;\">4</td><td  style=\"border-left: 1px solid;border-right: 1px solid;border-top: 1px solid;border-bottom: 1px solid;\">148</td></tr></table>Quem doar para esse fdp, é porque não tem amor a Pátria. Ele já jogou a toalha, admitiu a perda....<br>Eduarda: Relacionado<br>Mateus : Não Relacionado<br>---<br>Isso mostra q o PT já jogou toalha! Ou vc acha q Toffoli correria risco de ser exonerado por um Presidente poste de Lula? @analisdocsPF @AnaPaulaVolei @marisascruz @joaoamoedonovo @partidonovo30 @Ricamconsult @diogomainardi @roxmo @lobaoeletrico @blogdojefferson @leandroruschel<br>Eduarda: Relacionado<br>Mateus : Não Relacionado<br>---<br>@Carlos1FHC Mostrando a verdadeira face PTralha... Jogou a toalha e assumiu a candidatura Fake do Chuchu. Ciro Coroné de capanga não resiste a 5 min com o Capitão. Veste logo a estrela vermelha. #BolsonaroPresidente17<br>Eduarda: Relacionado<br>Mateus : Não Relacionado<br>---<br>@JullianoLucinda @filgmartin Amigo a Veja jogou a toalha ja sabe que o chuchu não sobe e vai ter que se humilhar pro Bolsonaro mesmo,se o PT ganhar eles vão se vingar deles até prq a Veja SEMPRE bateu no Lula desde 2003,eles vão de Bolsonaro agora não tenha a menor dúvida!<br>Eduarda: Relacionado<br>Mateus : Não Relacionado<br>---<br>Vai votar no 17 é isso aí!\n",
       " O lula já jogou a toalha. #BrasilViraHaddad\n",
       "#BolsonaroPresidenteEleito #AndradeJaEra #Haddad13 \n",
       "https://t.co/9T8Q6LKFtO<br>Eduarda: Não Relacionado<br>Mateus : Relacionado<br>---<br>@xicosa Tudo indica, já jogou a toalha. É um bom sinal. Não se preocupe, você terá muito tempo para visitar Lula. Quem sabe até em um cela nova.<br>Eduarda: Não Relacionado<br>Mateus : Relacionado<br>---<br>A Veja divulgou nessa Sexta Feita 19 de outubro de 2018 que Lula já jogou a toalha sobre a eleição de Fernando Haddad a presidência do Brasil. Na matéria, afirma que o maior líder do Partido dos Trabalhadores, Lula,... https://t.co/FxbZWjl0sC<br>Eduarda: Não Relacionado<br>Mateus : Relacionado<br>---<br>Lula admite derrota de Haddad...  O chefe jogou a toalha\n",
       "\n",
       "Por Mauricio Lima  \n",
       "           \n",
       "Publicado em 19 out 2018, 06h32... https://t.co/XBWgr6GuyV<br>Eduarda: Não Relacionado<br>Mateus : Relacionado<br>---<br>@ManuelaDavila @viravotobrasil Até Lula jogou a toalha!!\n",
       "https://t.co/eCya13LkzJ https://t.co/9ydwrbezxn<br>Eduarda: Não Relacionado<br>Mateus : Relacionado<br>---<br>@AhmadCalcante Não sei de quem vc está falando. hahahahaha\n",
       "Mas, pelo que soube, a pessoa que não sei quem é, já jogou a toalha. Alias, nem queria Haddad, o MENTIROSO, Na ausência de Lula, PRESO a outros compromissos, já trabalha pra tomar o partido. \n",
       "Dr. Octopus, o Mil Braços, está lá pra isso.<br>Eduarda: Não Relacionado<br>Mateus : Relacionado<br>---<br><h2>Eixo 02: Fake News</h2><br>Kappa: Eduarda X Mateus: 0.8739130434782608<table border=\"1\" cellpadding=\"3\" cellspacing=\"0\"  style=\"border:black; border-collapse:collapse;\"><tr><td  style=\"border-left: 1px solid;border-right: 1px solid;border-top: 1px solid;border-bottom: 1px solid;\"></td><td  style=\"border-left: 1px solid;border-right: 1px solid;border-top: 1px solid;border-bottom: 1px solid;\">Propagação</td><td  style=\"border-left: 1px solid;border-right: 1px solid;border-top: 1px solid;border-bottom: 1px solid;\">Contra</td><td  style=\"border-left: 1px solid;border-right: 1px solid;border-top: 1px solid;border-bottom: 1px solid;\">Réplica</td></tr><tr><td  style=\"border-left: 1px solid;border-right: 1px solid;border-top: 1px solid;border-bottom: 1px solid;\">Propagação</td><td  style=\"border-left: 1px solid;border-right: 1px solid;border-top: 1px solid;border-bottom: 1px solid;\">24</td><td  style=\"border-left: 1px solid;border-right: 1px solid;border-top: 1px solid;border-bottom: 1px solid;\">0</td><td  style=\"border-left: 1px solid;border-right: 1px solid;border-top: 1px solid;border-bottom: 1px solid;\">1</td></tr><tr><td  style=\"border-left: 1px solid;border-right: 1px solid;border-top: 1px solid;border-bottom: 1px solid;\">Contra</td><td  style=\"border-left: 1px solid;border-right: 1px solid;border-top: 1px solid;border-bottom: 1px solid;\">0</td><td  style=\"border-left: 1px solid;border-right: 1px solid;border-top: 1px solid;border-bottom: 1px solid;\">3</td><td  style=\"border-left: 1px solid;border-right: 1px solid;border-top: 1px solid;border-bottom: 1px solid;\">0</td></tr><tr><td  style=\"border-left: 1px solid;border-right: 1px solid;border-top: 1px solid;border-bottom: 1px solid;\">Réplica</td><td  style=\"border-left: 1px solid;border-right: 1px solid;border-top: 1px solid;border-bottom: 1px solid;\">0</td><td  style=\"border-left: 1px solid;border-right: 1px solid;border-top: 1px solid;border-bottom: 1px solid;\">0</td><td  style=\"border-left: 1px solid;border-right: 1px solid;border-top: 1px solid;border-bottom: 1px solid;\">1</td></tr></table>VEJA!! NÃO É FAKE Haddad ARREG0U no Segundo Turno e Jogou a Toalha: https://t.co/mWYLwPMLBR via @YouTube<br>Eduarda: Réplica<br>Mateus : Propagação de Fake News<br>---<br>"
      ],
      "text/plain": [
       "<IPython.core.display.HTML object>"
      ]
     },
     "execution_count": 202,
     "metadata": {},
     "output_type": "execute_result"
    }
   ],
   "source": [
    "compara(139, 151, \"Eduarda\", \"Mateus\")"
   ]
  },
  {
   "cell_type": "markdown",
   "metadata": {},
   "source": [
    "## Notícia 10"
   ]
  },
  {
   "cell_type": "code",
   "execution_count": 203,
   "metadata": {},
   "outputs": [
    {
     "data": {
      "text/html": [
       "<h2>Notícia 10:\n",
       "\n",
       "\"Ao completar 5 anos de idade, a criança passa a ser propriedade do Estado! Cabe a nós decidir se menino será menina e vice-versa! Aos pais cabe acatar nossa decisão respeitosamente! Sabemos o que é melhor para as crianças!\"\n",
       "\n",
       "https://lula.com.br/wp-content/uploads/2018/09/Decis%C3%A3o-Liminar-Deferida.pdf</h2><table border=\"1\" cellpadding=\"3\" cellspacing=\"0\"  style=\"border:black; border-collapse:collapse;\"><tr><td  style=\"border-left: 1px solid;border-right: 1px solid;border-top: 1px solid;border-bottom: 1px solid;\">cod</td><td  style=\"border-left: 1px solid;border-right: 1px solid;border-top: 1px solid;border-bottom: 1px solid;\">amostra</td><td  style=\"border-left: 1px solid;border-right: 1px solid;border-top: 1px solid;border-bottom: 1px solid;\">hash</td><td  style=\"border-left: 1px solid;border-right: 1px solid;border-top: 1px solid;border-bottom: 1px solid;\">avaliador</td><td  style=\"border-left: 1px solid;border-right: 1px solid;border-top: 1px solid;border-bottom: 1px solid;\">avaliar</td><td  style=\"border-left: 1px solid;border-right: 1px solid;border-top: 1px solid;border-bottom: 1px solid;\">avaliados</td></tr><tr><td  style=\"border-left: 1px solid;border-right: 1px solid;border-top: 1px solid;border-bottom: 1px solid;\">140</td><td  style=\"border-left: 1px solid;border-right: 1px solid;border-top: 1px solid;border-bottom: 1px solid;\">123</td><td  style=\"border-left: 1px solid;border-right: 1px solid;border-top: 1px solid;border-bottom: 1px solid;\">fake148596</td><td  style=\"border-left: 1px solid;border-right: 1px solid;border-top: 1px solid;border-bottom: 1px solid;\">Maria&nbsp;Eduarda&nbsp;Sampaio&nbsp;de&nbsp;Sousa</td><td  style=\"border-left: 1px solid;border-right: 1px solid;border-top: 1px solid;border-bottom: 1px solid;\">39</td><td  style=\"border-left: 1px solid;border-right: 1px solid;border-top: 1px solid;border-bottom: 1px solid;\">39</td></tr><tr><td  style=\"border-left: 1px solid;border-right: 1px solid;border-top: 1px solid;border-bottom: 1px solid;\">152</td><td  style=\"border-left: 1px solid;border-right: 1px solid;border-top: 1px solid;border-bottom: 1px solid;\">123</td><td  style=\"border-left: 1px solid;border-right: 1px solid;border-top: 1px solid;border-bottom: 1px solid;\">fake897426</td><td  style=\"border-left: 1px solid;border-right: 1px solid;border-top: 1px solid;border-bottom: 1px solid;\">Mateus&nbsp;Tarcinalli&nbsp;Machado</td><td  style=\"border-left: 1px solid;border-right: 1px solid;border-top: 1px solid;border-bottom: 1px solid;\">39</td><td  style=\"border-left: 1px solid;border-right: 1px solid;border-top: 1px solid;border-bottom: 1px solid;\">39</td></tr></table><table><tr><td>Eduarda:<table border=\"1\" cellpadding=\"3\" cellspacing=\"0\"  style=\"border:black; border-collapse:collapse;\"><tr><td  style=\"border-left: 1px solid;border-right: 1px solid;border-top: 1px solid;border-bottom: 1px solid;\">Relacionado</td><td  style=\"border-left: 1px solid;border-right: 1px solid;border-top: 1px solid;border-bottom: 1px solid;\">37</td></tr><tr><td  style=\"border-left: 1px solid;border-right: 1px solid;border-top: 1px solid;border-bottom: 1px solid;\">Contra&nbsp;Fake&nbsp;News</td><td  style=\"border-left: 1px solid;border-right: 1px solid;border-top: 1px solid;border-bottom: 1px solid;\">29</td></tr><tr><td  style=\"border-left: 1px solid;border-right: 1px solid;border-top: 1px solid;border-bottom: 1px solid;\">Propagação&nbsp;de&nbsp;Fake&nbsp;News</td><td  style=\"border-left: 1px solid;border-right: 1px solid;border-top: 1px solid;border-bottom: 1px solid;\">4</td></tr><tr><td  style=\"border-left: 1px solid;border-right: 1px solid;border-top: 1px solid;border-bottom: 1px solid;\">Não&nbsp;Relacionado</td><td  style=\"border-left: 1px solid;border-right: 1px solid;border-top: 1px solid;border-bottom: 1px solid;\">2</td></tr></table></td><td>Mateus:<table border=\"1\" cellpadding=\"3\" cellspacing=\"0\"  style=\"border:black; border-collapse:collapse;\"><tr><td  style=\"border-left: 1px solid;border-right: 1px solid;border-top: 1px solid;border-bottom: 1px solid;\">Relacionado</td><td  style=\"border-left: 1px solid;border-right: 1px solid;border-top: 1px solid;border-bottom: 1px solid;\">39</td></tr><tr><td  style=\"border-left: 1px solid;border-right: 1px solid;border-top: 1px solid;border-bottom: 1px solid;\">Contra&nbsp;Fake&nbsp;News</td><td  style=\"border-left: 1px solid;border-right: 1px solid;border-top: 1px solid;border-bottom: 1px solid;\">34</td></tr><tr><td  style=\"border-left: 1px solid;border-right: 1px solid;border-top: 1px solid;border-bottom: 1px solid;\">Propagação&nbsp;de&nbsp;Fake&nbsp;News</td><td  style=\"border-left: 1px solid;border-right: 1px solid;border-top: 1px solid;border-bottom: 1px solid;\">5</td></tr></table></td></tr></table><h2>Eixo 01: Relação com a notícia</h2><br>Kappa: Eduarda X Mateus: 0.0<table border=\"1\" cellpadding=\"3\" cellspacing=\"0\"  style=\"border:black; border-collapse:collapse;\"><tr><td  style=\"border-left: 1px solid;border-right: 1px solid;border-top: 1px solid;border-bottom: 1px solid;\"></td><td  style=\"border-left: 1px solid;border-right: 1px solid;border-top: 1px solid;border-bottom: 1px solid;\">relacionado</td><td  style=\"border-left: 1px solid;border-right: 1px solid;border-top: 1px solid;border-bottom: 1px solid;\">não&nbsp;relacionado</td></tr><tr><td  style=\"border-left: 1px solid;border-right: 1px solid;border-top: 1px solid;border-bottom: 1px solid;\">relacionado</td><td  style=\"border-left: 1px solid;border-right: 1px solid;border-top: 1px solid;border-bottom: 1px solid;\">37</td><td  style=\"border-left: 1px solid;border-right: 1px solid;border-top: 1px solid;border-bottom: 1px solid;\">2</td></tr><tr><td  style=\"border-left: 1px solid;border-right: 1px solid;border-top: 1px solid;border-bottom: 1px solid;\">não&nbsp;relacionado</td><td  style=\"border-left: 1px solid;border-right: 1px solid;border-top: 1px solid;border-bottom: 1px solid;\">0</td><td  style=\"border-left: 1px solid;border-right: 1px solid;border-top: 1px solid;border-bottom: 1px solid;\">0</td></tr></table>@luissouza101 @Leomarq77 @joaozinho309 @antoniobaiarn @chico_pinheiro @folha Negativo. Mas q coisa q alguns dos seus aceitaram mais ou menos assim q o Haddad estimulava incesto e dizia  criança era propriedade do Estado, né?! Fora que se a Justiça viu o mínimo pra abrir investigação, quem sou eu pra não querer ver o desenrolar? Até PT no esquema acharam!<br>Eduarda: Não Relacionado<br>Mateus : Relacionado<br>---<br>Sobre o #Caixa2doBolsonaro. Que há um jogo ardiloso de notícias falsas contra o PT e o Haddad todos sabem, até os eleitores dele (ex: Ferrari amarela; criança que é propriedade do estado, etc). Agora, se isso é financiado com dinheiro ilegal, são outros quinhentos. A ver...<br>Eduarda: Não Relacionado<br>Mateus : Relacionado<br>---<br><h2>Eixo 02: Fake News</h2><br>Kappa: Eduarda X Mateus: 0.8715953307392996<table border=\"1\" cellpadding=\"3\" cellspacing=\"0\"  style=\"border:black; border-collapse:collapse;\"><tr><td  style=\"border-left: 1px solid;border-right: 1px solid;border-top: 1px solid;border-bottom: 1px solid;\"></td><td  style=\"border-left: 1px solid;border-right: 1px solid;border-top: 1px solid;border-bottom: 1px solid;\">Propagação</td><td  style=\"border-left: 1px solid;border-right: 1px solid;border-top: 1px solid;border-bottom: 1px solid;\">Contra</td><td  style=\"border-left: 1px solid;border-right: 1px solid;border-top: 1px solid;border-bottom: 1px solid;\">Réplica</td></tr><tr><td  style=\"border-left: 1px solid;border-right: 1px solid;border-top: 1px solid;border-bottom: 1px solid;\">Propagação</td><td  style=\"border-left: 1px solid;border-right: 1px solid;border-top: 1px solid;border-bottom: 1px solid;\">4</td><td  style=\"border-left: 1px solid;border-right: 1px solid;border-top: 1px solid;border-bottom: 1px solid;\">1</td><td  style=\"border-left: 1px solid;border-right: 1px solid;border-top: 1px solid;border-bottom: 1px solid;\">0</td></tr><tr><td  style=\"border-left: 1px solid;border-right: 1px solid;border-top: 1px solid;border-bottom: 1px solid;\">Contra</td><td  style=\"border-left: 1px solid;border-right: 1px solid;border-top: 1px solid;border-bottom: 1px solid;\">0</td><td  style=\"border-left: 1px solid;border-right: 1px solid;border-top: 1px solid;border-bottom: 1px solid;\">28</td><td  style=\"border-left: 1px solid;border-right: 1px solid;border-top: 1px solid;border-bottom: 1px solid;\">0</td></tr><tr><td  style=\"border-left: 1px solid;border-right: 1px solid;border-top: 1px solid;border-bottom: 1px solid;\">Réplica</td><td  style=\"border-left: 1px solid;border-right: 1px solid;border-top: 1px solid;border-bottom: 1px solid;\">0</td><td  style=\"border-left: 1px solid;border-right: 1px solid;border-top: 1px solid;border-bottom: 1px solid;\">0</td><td  style=\"border-left: 1px solid;border-right: 1px solid;border-top: 1px solid;border-bottom: 1px solid;\">0</td></tr></table>Vide kit gay e a criança aos 5 anos é propriedade do estado. Realmente é vdd eses bilete.<br>Eduarda: Contra Fake News<br>Mateus : Propagação de Fake News<br>---<br>"
      ],
      "text/plain": [
       "<IPython.core.display.HTML object>"
      ]
     },
     "execution_count": 203,
     "metadata": {},
     "output_type": "execute_result"
    }
   ],
   "source": [
    "compara(140, 152, \"Eduarda\", \"Mateus\")"
   ]
  },
  {
   "cell_type": "markdown",
   "metadata": {},
   "source": [
    "## Notícia 14"
   ]
  },
  {
   "cell_type": "code",
   "execution_count": 220,
   "metadata": {},
   "outputs": [
    {
     "data": {
      "text/html": [
       "<h2>Notícia 14: (substituir notícia 02)\n",
       "\n",
       "#Verificamos: General Mourão não foi torturador na ditadura militar\n",
       "\n",
       "https://piaui.folha.uol.com.br/lupa/2018/10/23/verificamo-haddad-azevedo-mourao/ </h2><table border=\"1\" cellpadding=\"3\" cellspacing=\"0\"  style=\"border:black; border-collapse:collapse;\"><tr><td  style=\"border-left: 1px solid;border-right: 1px solid;border-top: 1px solid;border-bottom: 1px solid;\">cod</td><td  style=\"border-left: 1px solid;border-right: 1px solid;border-top: 1px solid;border-bottom: 1px solid;\">amostra</td><td  style=\"border-left: 1px solid;border-right: 1px solid;border-top: 1px solid;border-bottom: 1px solid;\">hash</td><td  style=\"border-left: 1px solid;border-right: 1px solid;border-top: 1px solid;border-bottom: 1px solid;\">avaliador</td><td  style=\"border-left: 1px solid;border-right: 1px solid;border-top: 1px solid;border-bottom: 1px solid;\">avaliar</td><td  style=\"border-left: 1px solid;border-right: 1px solid;border-top: 1px solid;border-bottom: 1px solid;\">avaliados</td></tr><tr><td  style=\"border-left: 1px solid;border-right: 1px solid;border-top: 1px solid;border-bottom: 1px solid;\">141</td><td  style=\"border-left: 1px solid;border-right: 1px solid;border-top: 1px solid;border-bottom: 1px solid;\">152</td><td  style=\"border-left: 1px solid;border-right: 1px solid;border-top: 1px solid;border-bottom: 1px solid;\">fake741236</td><td  style=\"border-left: 1px solid;border-right: 1px solid;border-top: 1px solid;border-bottom: 1px solid;\">Maria&nbsp;Eduarda&nbsp;Sampaio&nbsp;de&nbsp;Sousa</td><td  style=\"border-left: 1px solid;border-right: 1px solid;border-top: 1px solid;border-bottom: 1px solid;\">568</td><td  style=\"border-left: 1px solid;border-right: 1px solid;border-top: 1px solid;border-bottom: 1px solid;\">568</td></tr><tr><td  style=\"border-left: 1px solid;border-right: 1px solid;border-top: 1px solid;border-bottom: 1px solid;\">153</td><td  style=\"border-left: 1px solid;border-right: 1px solid;border-top: 1px solid;border-bottom: 1px solid;\">152</td><td  style=\"border-left: 1px solid;border-right: 1px solid;border-top: 1px solid;border-bottom: 1px solid;\">fake963789</td><td  style=\"border-left: 1px solid;border-right: 1px solid;border-top: 1px solid;border-bottom: 1px solid;\">Mateus&nbsp;Tarcinalli&nbsp;Machado</td><td  style=\"border-left: 1px solid;border-right: 1px solid;border-top: 1px solid;border-bottom: 1px solid;\">568</td><td  style=\"border-left: 1px solid;border-right: 1px solid;border-top: 1px solid;border-bottom: 1px solid;\">568</td></tr></table><table><tr><td>Eduarda:<table border=\"1\" cellpadding=\"3\" cellspacing=\"0\"  style=\"border:black; border-collapse:collapse;\"><tr><td  style=\"border-left: 1px solid;border-right: 1px solid;border-top: 1px solid;border-bottom: 1px solid;\">Relacionado</td><td  style=\"border-left: 1px solid;border-right: 1px solid;border-top: 1px solid;border-bottom: 1px solid;\">480</td></tr><tr><td  style=\"border-left: 1px solid;border-right: 1px solid;border-top: 1px solid;border-bottom: 1px solid;\">Contra&nbsp;Fake&nbsp;News</td><td  style=\"border-left: 1px solid;border-right: 1px solid;border-top: 1px solid;border-bottom: 1px solid;\">429</td></tr><tr><td  style=\"border-left: 1px solid;border-right: 1px solid;border-top: 1px solid;border-bottom: 1px solid;\">Não&nbsp;Relacionado</td><td  style=\"border-left: 1px solid;border-right: 1px solid;border-top: 1px solid;border-bottom: 1px solid;\">88</td></tr><tr><td  style=\"border-left: 1px solid;border-right: 1px solid;border-top: 1px solid;border-bottom: 1px solid;\">Propagação&nbsp;de&nbsp;Fake&nbsp;News</td><td  style=\"border-left: 1px solid;border-right: 1px solid;border-top: 1px solid;border-bottom: 1px solid;\">29</td></tr><tr><td  style=\"border-left: 1px solid;border-right: 1px solid;border-top: 1px solid;border-bottom: 1px solid;\">Réplica</td><td  style=\"border-left: 1px solid;border-right: 1px solid;border-top: 1px solid;border-bottom: 1px solid;\">16</td></tr></table></td><td>Mateus:<table border=\"1\" cellpadding=\"3\" cellspacing=\"0\"  style=\"border:black; border-collapse:collapse;\"><tr><td  style=\"border-left: 1px solid;border-right: 1px solid;border-top: 1px solid;border-bottom: 1px solid;\">Relacionado</td><td  style=\"border-left: 1px solid;border-right: 1px solid;border-top: 1px solid;border-bottom: 1px solid;\">486</td></tr><tr><td  style=\"border-left: 1px solid;border-right: 1px solid;border-top: 1px solid;border-bottom: 1px solid;\">Contra&nbsp;Fake&nbsp;News</td><td  style=\"border-left: 1px solid;border-right: 1px solid;border-top: 1px solid;border-bottom: 1px solid;\">428</td></tr><tr><td  style=\"border-left: 1px solid;border-right: 1px solid;border-top: 1px solid;border-bottom: 1px solid;\">Não&nbsp;Relacionado</td><td  style=\"border-left: 1px solid;border-right: 1px solid;border-top: 1px solid;border-bottom: 1px solid;\">82</td></tr><tr><td  style=\"border-left: 1px solid;border-right: 1px solid;border-top: 1px solid;border-bottom: 1px solid;\">Propagação&nbsp;de&nbsp;Fake&nbsp;News</td><td  style=\"border-left: 1px solid;border-right: 1px solid;border-top: 1px solid;border-bottom: 1px solid;\">39</td></tr><tr><td  style=\"border-left: 1px solid;border-right: 1px solid;border-top: 1px solid;border-bottom: 1px solid;\">Réplica</td><td  style=\"border-left: 1px solid;border-right: 1px solid;border-top: 1px solid;border-bottom: 1px solid;\">15</td></tr></table></td></tr></table><h2>Eixo 01: Relação com a notícia</h2><br>Kappa: Eduarda X Mateus: 0.806351061757257<table border=\"1\" cellpadding=\"3\" cellspacing=\"0\"  style=\"border:black; border-collapse:collapse;\"><tr><td  style=\"border-left: 1px solid;border-right: 1px solid;border-top: 1px solid;border-bottom: 1px solid;\"></td><td  style=\"border-left: 1px solid;border-right: 1px solid;border-top: 1px solid;border-bottom: 1px solid;\">relacionado</td><td  style=\"border-left: 1px solid;border-right: 1px solid;border-top: 1px solid;border-bottom: 1px solid;\">não&nbsp;relacionado</td></tr><tr><td  style=\"border-left: 1px solid;border-right: 1px solid;border-top: 1px solid;border-bottom: 1px solid;\">relacionado</td><td  style=\"border-left: 1px solid;border-right: 1px solid;border-top: 1px solid;border-bottom: 1px solid;\">469</td><td  style=\"border-left: 1px solid;border-right: 1px solid;border-top: 1px solid;border-bottom: 1px solid;\">17</td></tr><tr><td  style=\"border-left: 1px solid;border-right: 1px solid;border-top: 1px solid;border-bottom: 1px solid;\">não&nbsp;relacionado</td><td  style=\"border-left: 1px solid;border-right: 1px solid;border-top: 1px solid;border-bottom: 1px solid;\">11</td><td  style=\"border-left: 1px solid;border-right: 1px solid;border-top: 1px solid;border-bottom: 1px solid;\">71</td></tr></table>@pensoestranho @elton_flaubert Estratégia dos caras foi péssima, não atuaram de forma mais incisiva no NE (onde até o MBL foi), os aliados - especialmente os eleitos - ficaram inertes, sequer souberam dar ênfase ao fato do Haddad ter acusado o Mourão de “torturador”, amadores totais.<br>Eduarda: Relacionado<br>Mateus : Não Relacionado<br>---<br>@portaldaband Olha quem fala! Quem negou o kit gay, chamou o Mourão de torturador, quem falou que é honesto, quem falou que ia tirar o Lula da cadeia e depois negou. Enfim, quem promete que vai melhorar o Brasil usando a mesma política desastrosa da Dilmanta que o afundou!<br>Eduarda: Relacionado<br>Mateus : Não Relacionado<br>---<br>@Haddad_Fernando  Você se enganou não foi o Gen. Mourão o torturador.\n",
       "#SeuVotoMePõeEmRisco\n",
       "Assalto sofrido por Bolsonaro em 1995 culminou com a morte misteriosa de um bandido e de sua família https://t.co/IiEPcT5NLu<br>Eduarda: Relacionado<br>Mateus : Não Relacionado<br>---<br>@JoseMedeirosMT O cantor Geraldo Azevedo confundiu o Mourão com o Ustra, que foi um de seus torturadores, ja se desculpou\n",
       "\n",
       "Ustra é idolatrado por Mourão e Bolsonaro. Ele torturou até criannças inocentes.\n",
       "\n",
       "Você defende e caminha ai lado dessas pessoas?\n",
       "\n",
       "Isso é gravíssimo para um cristão https://t.co/j5h9BzbGcz<br>Eduarda: Relacionado<br>Mateus : Não Relacionado<br>---<br>@gleisi Vamos lá:\n",
       "\n",
       "Lula candidato\n",
       "Graveto tenta soltar o Lula\n",
       "Andrade demora assumir\n",
       "Mostra o Lula\n",
       "Pinta de verde amarelo\n",
       "Esconde o Lula\n",
       "Missa Fake\n",
       "Perde a Bíblia\n",
       "CID Gomes (o melhor kkkk)\n",
       "WhatsApp\n",
       "Mourão torturador\n",
       "e agora Mano Brown\n",
       "\n",
       "Só trapalhadas! Meu Deus que equipe de trapalhões<br>Eduarda: Relacionado<br>Mateus : Não Relacionado<br>---<br>Até domingo veremos todos os tipos de imbecilidades...\n",
       "De jovem aprendiz de torturador (Mourão e Bolsonaro), até travecagens e outras mudanças de sexos imagináveis.\n",
       "Esses caras deveriam hibernar.<br>Eduarda: Relacionado<br>Mateus : Não Relacionado<br>---<br>@realwbonner @jornalnacional vergonhoso vocês não colocarem o Haddad falando que o Mourão era torturador. Isso vai para currículo de vocês. O Brasil mudou, dá uma olhadinha na janela aí!!<br>Eduarda: Relacionado<br>Mateus : Não Relacionado<br>---<br>@conitonotdead @anakrilova @llucas126 @J_LIVRES @vidaempartes Estás desinformado hein? Não sabe nem quem é Champinha pelo jeito.\n",
       "\n",
       "E depois vem me falar em fake news.. Mourão torturador? Ê ooo vida de gado! Segue a manada!\n",
       "\n",
       "https://t.co/uncFtf01ta<br>Eduarda: Relacionado<br>Mateus : Não Relacionado<br>---<br>@OpusckiSulains Eu vi logo que a frase não tinha credibilidade: \"Esse Mourão era um dos torturadores lá!\".\n",
       "Haddad está falando qualquer coisa. Na verdade, já não tem o que dizer.<br>Eduarda: Relacionado<br>Mateus : Não Relacionado<br>---<br>@lanayzs e ultimamente tudo que eu te vejo fazer é relativizar o bolsonaro e o que ele representa. Sendo Mourão torturador ou nao, o ponto é que eles defendem torturadores e a ditadura e relativizar a defesa que eles fazem disso é muito imbecil<br>Eduarda: Relacionado<br>Mateus : Não Relacionado<br>---<br><h2>Eixo 02: Fake News</h2><br>Kappa: Eduarda X Mateus: 0.889450175475912<table border=\"1\" cellpadding=\"3\" cellspacing=\"0\"  style=\"border:black; border-collapse:collapse;\"><tr><td  style=\"border-left: 1px solid;border-right: 1px solid;border-top: 1px solid;border-bottom: 1px solid;\"></td><td  style=\"border-left: 1px solid;border-right: 1px solid;border-top: 1px solid;border-bottom: 1px solid;\">Propagação</td><td  style=\"border-left: 1px solid;border-right: 1px solid;border-top: 1px solid;border-bottom: 1px solid;\">Contra</td><td  style=\"border-left: 1px solid;border-right: 1px solid;border-top: 1px solid;border-bottom: 1px solid;\">Réplica</td></tr><tr><td  style=\"border-left: 1px solid;border-right: 1px solid;border-top: 1px solid;border-bottom: 1px solid;\">Propagação</td><td  style=\"border-left: 1px solid;border-right: 1px solid;border-top: 1px solid;border-bottom: 1px solid;\">27</td><td  style=\"border-left: 1px solid;border-right: 1px solid;border-top: 1px solid;border-bottom: 1px solid;\">2</td><td  style=\"border-left: 1px solid;border-right: 1px solid;border-top: 1px solid;border-bottom: 1px solid;\">3</td></tr><tr><td  style=\"border-left: 1px solid;border-right: 1px solid;border-top: 1px solid;border-bottom: 1px solid;\">Contra</td><td  style=\"border-left: 1px solid;border-right: 1px solid;border-top: 1px solid;border-bottom: 1px solid;\">2</td><td  style=\"border-left: 1px solid;border-right: 1px solid;border-top: 1px solid;border-bottom: 1px solid;\">415</td><td  style=\"border-left: 1px solid;border-right: 1px solid;border-top: 1px solid;border-bottom: 1px solid;\">1</td></tr><tr><td  style=\"border-left: 1px solid;border-right: 1px solid;border-top: 1px solid;border-bottom: 1px solid;\">Réplica</td><td  style=\"border-left: 1px solid;border-right: 1px solid;border-top: 1px solid;border-bottom: 1px solid;\">0</td><td  style=\"border-left: 1px solid;border-right: 1px solid;border-top: 1px solid;border-bottom: 1px solid;\">1</td><td  style=\"border-left: 1px solid;border-right: 1px solid;border-top: 1px solid;border-bottom: 1px solid;\">11</td></tr></table>Haddad chama Mourão de torturador e afirma que facada favoreceu Bolsonaro  \"PRESIDENTE FAKADA\"<br>Eduarda: Contra Fake News<br>Mateus : Propagação de Fake News<br>---<br>mano o Haddad acusar o Mourão de torturador erroneamente foi muito burro. deve pedir desculpas o mais rápido possível<br>Eduarda: Contra Fake News<br>Mateus : Réplica<br>---<br>@estadao: Haddad chama General Mourão de torturador https://t.co/VkUHd8eexR @jairbolsonaro @VEJA @o_antagonista @RevistaCrusoe @MBLivre @VemPraRua_br @claudioedantas @mariosabinof @roxmo @folha @Haddad_Fernando @TSEjusbr NAO RESPONDA @AcordouAcordou;QUEM DEBATE C BANDIDO É O MORO<br>Eduarda: Contra Fake News<br>Mateus : Propagação de Fake News<br>---<br>@evandrofs @jairbolsonaro @BolsonaroSP @CarlosBolsonaro @FlavioBolsonaro @flaviomorgen @allantercalivre @filgmartin @BlogDoPim E ele pode chamar Bolsonaro de facista e Mourão de torturador.<br>Eduarda: Propagação de Fake News<br>Mateus : Contra Fake News<br>---<br>Haddad, na sabatina @GloboNews acabou de acusar o General Mourão de Torturador. #AtentadoFakeDoPT<br>Eduarda: Propagação de Fake News<br>Mateus : Contra Fake News<br>---<br>OBSERVEM:“Gen Mourão por exemplo foi ele próprio um torturador,então Geraldo Azevedo declarou até em um show q foi pessoalmente torturado por Mourão.”O comentário do músico FOI UM COMPLEMENTO DA AFIRMATIVA d ser Mourão um torturador.Não houve só citação,nem foi induzido ao erro.<br>Eduarda: Réplica<br>Mateus : Propagação de Fake News<br>---<br>@pauloap Ditadura começou em 64 e foi até 85, Mourão começou a servir em 69, então sim, ele foi um torturador na ditadura. E já declarou que quer implementar novamente um redime ditatorial. Assim como Bolsonaro também disse. https://t.co/JPclo0hDK7<br>Eduarda: Réplica<br>Mateus : Propagação de Fake News<br>---<br>@evelemosb @provimento @sharonly_ @danieleid78 @legalezado @mcof_ @MidiaNINJA É... Mas o Haddad já deu duas entrevistas falando isso. Chamando o Mourão de torturador...<br>Eduarda: Réplica<br>Mateus : Propagação de Fake News<br>---<br>é tanta coisa errada nessa história do Geraldo Azevedo e Mourão que é dificil saber o que é fake e o que é fato. o fato é:\n",
       "\n",
       "torturador ou não,  Mourão pode ser presidente do Brasil.<br>Eduarda: Réplica<br>Mateus : Contra Fake News<br>---<br>"
      ],
      "text/plain": [
       "<IPython.core.display.HTML object>"
      ]
     },
     "execution_count": 220,
     "metadata": {},
     "output_type": "execute_result"
    }
   ],
   "source": [
    "compara(141, 153, \"Eduarda\", \"Mateus\")"
   ]
  },
  {
   "cell_type": "markdown",
   "metadata": {},
   "source": [
    "## Notícia 15"
   ]
  },
  {
   "cell_type": "code",
   "execution_count": 205,
   "metadata": {},
   "outputs": [
    {
     "data": {
      "text/html": [
       "<h2>Notícia 15: (substituir notícia 02)¶\n",
       "\n",
       "Operação Greenfield não investiga dinheiro da campanha de Bolsonaro... - Veja mais em https://noticias.uol.com.br/comprova/ultimas-noticias/2018/10/18/operacao-greenfield-nao-investiga-dinheiro-da-campanha-de-bolsonaro.htm?cmpid=copiaecola\n",
       "\n",
       "https://noticias.uol.com.br/comprova/ultimas-noticias/2018/10/18/operacao-greenfield-nao-investiga-dinheiro-da-campanha-de-bolsonaro.htm </h2><table border=\"1\" cellpadding=\"3\" cellspacing=\"0\"  style=\"border:black; border-collapse:collapse;\"><tr><td  style=\"border-left: 1px solid;border-right: 1px solid;border-top: 1px solid;border-bottom: 1px solid;\">cod</td><td  style=\"border-left: 1px solid;border-right: 1px solid;border-top: 1px solid;border-bottom: 1px solid;\">amostra</td><td  style=\"border-left: 1px solid;border-right: 1px solid;border-top: 1px solid;border-bottom: 1px solid;\">hash</td><td  style=\"border-left: 1px solid;border-right: 1px solid;border-top: 1px solid;border-bottom: 1px solid;\">avaliador</td><td  style=\"border-left: 1px solid;border-right: 1px solid;border-top: 1px solid;border-bottom: 1px solid;\">avaliar</td><td  style=\"border-left: 1px solid;border-right: 1px solid;border-top: 1px solid;border-bottom: 1px solid;\">avaliados</td></tr><tr><td  style=\"border-left: 1px solid;border-right: 1px solid;border-top: 1px solid;border-bottom: 1px solid;\">142</td><td  style=\"border-left: 1px solid;border-right: 1px solid;border-top: 1px solid;border-bottom: 1px solid;\">154</td><td  style=\"border-left: 1px solid;border-right: 1px solid;border-top: 1px solid;border-bottom: 1px solid;\">fake746895</td><td  style=\"border-left: 1px solid;border-right: 1px solid;border-top: 1px solid;border-bottom: 1px solid;\">Maria&nbsp;Eduarda&nbsp;Sampaio&nbsp;de&nbsp;Sousa</td><td  style=\"border-left: 1px solid;border-right: 1px solid;border-top: 1px solid;border-bottom: 1px solid;\">15</td><td  style=\"border-left: 1px solid;border-right: 1px solid;border-top: 1px solid;border-bottom: 1px solid;\">15</td></tr><tr><td  style=\"border-left: 1px solid;border-right: 1px solid;border-top: 1px solid;border-bottom: 1px solid;\">154</td><td  style=\"border-left: 1px solid;border-right: 1px solid;border-top: 1px solid;border-bottom: 1px solid;\">154</td><td  style=\"border-left: 1px solid;border-right: 1px solid;border-top: 1px solid;border-bottom: 1px solid;\">fake749687</td><td  style=\"border-left: 1px solid;border-right: 1px solid;border-top: 1px solid;border-bottom: 1px solid;\">Mateus&nbsp;Tarcinalli&nbsp;Machado</td><td  style=\"border-left: 1px solid;border-right: 1px solid;border-top: 1px solid;border-bottom: 1px solid;\">15</td><td  style=\"border-left: 1px solid;border-right: 1px solid;border-top: 1px solid;border-bottom: 1px solid;\">15</td></tr></table><table><tr><td>Eduarda:<table border=\"1\" cellpadding=\"3\" cellspacing=\"0\"  style=\"border:black; border-collapse:collapse;\"><tr><td  style=\"border-left: 1px solid;border-right: 1px solid;border-top: 1px solid;border-bottom: 1px solid;\">Relacionado</td><td  style=\"border-left: 1px solid;border-right: 1px solid;border-top: 1px solid;border-bottom: 1px solid;\">15</td></tr><tr><td  style=\"border-left: 1px solid;border-right: 1px solid;border-top: 1px solid;border-bottom: 1px solid;\">Contra&nbsp;Fake&nbsp;News</td><td  style=\"border-left: 1px solid;border-right: 1px solid;border-top: 1px solid;border-bottom: 1px solid;\">4</td></tr><tr><td  style=\"border-left: 1px solid;border-right: 1px solid;border-top: 1px solid;border-bottom: 1px solid;\">Propagação&nbsp;de&nbsp;Fake&nbsp;News</td><td  style=\"border-left: 1px solid;border-right: 1px solid;border-top: 1px solid;border-bottom: 1px solid;\">1</td></tr></table></td><td>Mateus:<table border=\"1\" cellpadding=\"3\" cellspacing=\"0\"  style=\"border:black; border-collapse:collapse;\"><tr><td  style=\"border-left: 1px solid;border-right: 1px solid;border-top: 1px solid;border-bottom: 1px solid;\">Não&nbsp;Relacionado</td><td  style=\"border-left: 1px solid;border-right: 1px solid;border-top: 1px solid;border-bottom: 1px solid;\">9</td></tr><tr><td  style=\"border-left: 1px solid;border-right: 1px solid;border-top: 1px solid;border-bottom: 1px solid;\">Contra&nbsp;Fake&nbsp;News</td><td  style=\"border-left: 1px solid;border-right: 1px solid;border-top: 1px solid;border-bottom: 1px solid;\">6</td></tr><tr><td  style=\"border-left: 1px solid;border-right: 1px solid;border-top: 1px solid;border-bottom: 1px solid;\">Relacionado</td><td  style=\"border-left: 1px solid;border-right: 1px solid;border-top: 1px solid;border-bottom: 1px solid;\">6</td></tr></table></td></tr></table><h2>Eixo 01: Relação com a notícia</h2><br>Kappa: Eduarda X Mateus: 0.0<table border=\"1\" cellpadding=\"3\" cellspacing=\"0\"  style=\"border:black; border-collapse:collapse;\"><tr><td  style=\"border-left: 1px solid;border-right: 1px solid;border-top: 1px solid;border-bottom: 1px solid;\"></td><td  style=\"border-left: 1px solid;border-right: 1px solid;border-top: 1px solid;border-bottom: 1px solid;\">relacionado</td><td  style=\"border-left: 1px solid;border-right: 1px solid;border-top: 1px solid;border-bottom: 1px solid;\">não&nbsp;relacionado</td></tr><tr><td  style=\"border-left: 1px solid;border-right: 1px solid;border-top: 1px solid;border-bottom: 1px solid;\">relacionado</td><td  style=\"border-left: 1px solid;border-right: 1px solid;border-top: 1px solid;border-bottom: 1px solid;\">6</td><td  style=\"border-left: 1px solid;border-right: 1px solid;border-top: 1px solid;border-bottom: 1px solid;\">0</td></tr><tr><td  style=\"border-left: 1px solid;border-right: 1px solid;border-top: 1px solid;border-bottom: 1px solid;\">não&nbsp;relacionado</td><td  style=\"border-left: 1px solid;border-right: 1px solid;border-top: 1px solid;border-bottom: 1px solid;\">9</td><td  style=\"border-left: 1px solid;border-right: 1px solid;border-top: 1px solid;border-bottom: 1px solid;\">0</td></tr></table>\"Bolsonaro não nomeará 'condenados por corrupção'.\"\n",
       " Pra começar: Onix Lorenzoni recebeu \"Caixa 2 da JBS (2014) e foi pego por corrupção. Paulo Guedes está no bico do corvo na Operação Greenfield da PF. Augusto Heleno tem um super-salário da COB (dinheiro público).\n",
       "\n",
       "#EuAvisei<br>Eduarda: Relacionado<br>Mateus : Não Relacionado<br>---<br>Uééé, não era a CHAPA MAIS HONESTA DA GALÁXIA?\n",
       "\n",
       "\"A Procuradoria da República no Distrito Federal abriu oficialmente investigação contra o economista , guru do candidato à presidente Jair Bolsonaro, no âmbito da Operação Greenfield.\"\n",
       "https://t.co/8OEd8nWjg5<br>Eduarda: Relacionado<br>Mateus : Não Relacionado<br>---<br>O ex-tesoureiro do PT, João Vaccari Neto, condenado por corrupção na Lava Jato, virou réu, mais uma vez, no âmbito da Operação Greenfield, por decisão do juiz Vallisney de Souza Oliveira, da 10ª Vara Federal de Brasília. Além do petista, também são alvo da ação outras 13 pessoas.<br>Eduarda: Relacionado<br>Mateus : Não Relacionado<br>---<br>Ao abrir Investigatório Criminal contra Paulo Guedes, o ‘Posto Ipiranga’ da equipe econômica do candidato à Presidência Jair Bolsonaro a força-tarefa Greenfield citou a necessidade de apurar as ‘conexões’entre doações deR$ 53 milhões a partidos e políticos\n",
       "https://t.co/nLdFMCqJfV<br>Eduarda: Relacionado<br>Mateus : Não Relacionado<br>---<br>@rogerchequer @Haddad_Fernando @jairbolsonaro Eu também gostaria de saber do Bolsonaro em relação à Operação Greenfield. A resposta do Haddad não me interessa, pois ele tornou-se cúmplice da raposa que saqueou os fundos de pensão. E não acreditaria em nada de positivo que ele viesse a dizer. Como também jamais votaria no PT.<br>Eduarda: Relacionado<br>Mateus : Não Relacionado<br>---<br>Vamos, tem esse aqui também para ler:\n",
       "https://t.co/C0NF1Qpy1w\n",
       "E esse:\n",
       "MPF abriu investigação/Greenfield, para apurar desvios nos principais fundos de pensão do País, mas quem deve não teme não é? Afinal, é super normal ganhar 1bi em 5 anos.\n",
       "https://t.co/12FxH3vvZF\n",
       "Boa leitura!😉<br>Eduarda: Relacionado<br>Mateus : Não Relacionado<br>---<br>QUem lembra OPERAÇÃO GREENFIELD? 😹😹😹 FUNDO DE PENSÃO E BANQUEIROS LUCRANDO!¡!!  https://t.co/g9pHLuvxb5<br>Eduarda: Relacionado<br>Mateus : Não Relacionado<br>---<br>Vamos pesquisar sobre a Operação Greenfield, que apura esquemas de pagamento de propina em fundos de pensão envolvendo Sr. Paulo Guedes? Tá aberto o processo, na procuradoria do DF.<br>Eduarda: Relacionado<br>Mateus : Não Relacionado<br>---<br>OPERAÇÃO GREENFIELD | Paulo Guedes, economista e guru de Bolsonaro, é investigado por fraude https://t.co/FBuUdMT9mi https://t.co/B8dGj5gXI6<br>Eduarda: Relacionado<br>Mateus : Não Relacionado<br>---<br><h2>Eixo 02: Fake News</h2><br>Kappa: Eduarda X Mateus: 0.0<table border=\"1\" cellpadding=\"3\" cellspacing=\"0\"  style=\"border:black; border-collapse:collapse;\"><tr><td  style=\"border-left: 1px solid;border-right: 1px solid;border-top: 1px solid;border-bottom: 1px solid;\"></td><td  style=\"border-left: 1px solid;border-right: 1px solid;border-top: 1px solid;border-bottom: 1px solid;\">Propagação</td><td  style=\"border-left: 1px solid;border-right: 1px solid;border-top: 1px solid;border-bottom: 1px solid;\">Contra</td><td  style=\"border-left: 1px solid;border-right: 1px solid;border-top: 1px solid;border-bottom: 1px solid;\">Réplica</td></tr><tr><td  style=\"border-left: 1px solid;border-right: 1px solid;border-top: 1px solid;border-bottom: 1px solid;\">Propagação</td><td  style=\"border-left: 1px solid;border-right: 1px solid;border-top: 1px solid;border-bottom: 1px solid;\">0</td><td  style=\"border-left: 1px solid;border-right: 1px solid;border-top: 1px solid;border-bottom: 1px solid;\">0</td><td  style=\"border-left: 1px solid;border-right: 1px solid;border-top: 1px solid;border-bottom: 1px solid;\">0</td></tr><tr><td  style=\"border-left: 1px solid;border-right: 1px solid;border-top: 1px solid;border-bottom: 1px solid;\">Contra</td><td  style=\"border-left: 1px solid;border-right: 1px solid;border-top: 1px solid;border-bottom: 1px solid;\">1</td><td  style=\"border-left: 1px solid;border-right: 1px solid;border-top: 1px solid;border-bottom: 1px solid;\">2</td><td  style=\"border-left: 1px solid;border-right: 1px solid;border-top: 1px solid;border-bottom: 1px solid;\">0</td></tr><tr><td  style=\"border-left: 1px solid;border-right: 1px solid;border-top: 1px solid;border-bottom: 1px solid;\">Réplica</td><td  style=\"border-left: 1px solid;border-right: 1px solid;border-top: 1px solid;border-bottom: 1px solid;\">0</td><td  style=\"border-left: 1px solid;border-right: 1px solid;border-top: 1px solid;border-bottom: 1px solid;\">0</td><td  style=\"border-left: 1px solid;border-right: 1px solid;border-top: 1px solid;border-bottom: 1px solid;\">0</td></tr></table>Cunhado de ex diretor do BNDES alvo da Operação Greenfield visita Lula na cadeia<br>Eduarda: Propagação de Fake News<br>Mateus : Contra Fake News<br>---<br>"
      ],
      "text/plain": [
       "<IPython.core.display.HTML object>"
      ]
     },
     "execution_count": 205,
     "metadata": {},
     "output_type": "execute_result"
    }
   ],
   "source": [
    "compara(142, 154, \"Eduarda\", \"Mateus\")"
   ]
  }
 ],
 "metadata": {
  "kernelspec": {
   "display_name": "Python 3",
   "language": "python",
   "name": "python3"
  },
  "language_info": {
   "codemirror_mode": {
    "name": "ipython",
    "version": 3
   },
   "file_extension": ".py",
   "mimetype": "text/x-python",
   "name": "python",
   "nbconvert_exporter": "python",
   "pygments_lexer": "ipython3",
   "version": "3.7.3"
  }
 },
 "nbformat": 4,
 "nbformat_minor": 2
}
