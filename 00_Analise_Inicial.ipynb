{
 "cells": [
  {
   "cell_type": "markdown",
   "metadata": {},
   "source": [
    "# Análise Inicial Tweets"
   ]
  },
  {
   "cell_type": "code",
   "execution_count": 71,
   "metadata": {},
   "outputs": [
    {
     "name": "stdout",
     "output_type": "stream",
     "text": [
      "postgres functions loaded...\n"
     ]
    }
   ],
   "source": [
    "import ipy_table\n",
    "import re\n",
    "import matplotlib.pyplot as plt\n",
    "import matplotlib as mp\n",
    "import numpy as np\n",
    "\n",
    "%run ../aux/postgres.py"
   ]
  },
  {
   "cell_type": "markdown",
   "metadata": {},
   "source": [
    "## Total coletado via streamming api:"
   ]
  },
  {
   "cell_type": "code",
   "execution_count": 60,
   "metadata": {},
   "outputs": [
    {
     "name": "stdout",
     "output_type": "stream",
     "text": [
      "Eleições 2018 (api)\n",
      "47.349.870\n"
     ]
    }
   ],
   "source": [
    "cod = '36'\n",
    "cmd = \"select descricao from projeto where codprojeto = \" + cod\n",
    "res = query(cmd)\n",
    "print(res[0][0])\n",
    "\n",
    "cmd = \"select count(*) from tweet where codprojeto = \" + cod\n",
    "res = query(cmd)\n",
    "print(\"{:,}\".format(res[0][0]).replace(',','.'))"
   ]
  },
  {
   "cell_type": "code",
   "execution_count": 61,
   "metadata": {},
   "outputs": [],
   "source": [
    "cod = '36'\n",
    "cmd = (\"SELECT \"\n",
    "       \"to_char(datatweet, 'YYYY-MM') as data, \"\n",
    "       \"count(codtweet) AS tweet \"\n",
    "       \"FROM tweet \"\n",
    "       \"WHERE codprojeto = \" + cod + \" \"\n",
    "       \"GROUP BY 1\"\n",
    "       \"ORDER BY 1\"\n",
    "      )\n",
    "res = query(cmd)"
   ]
  },
  {
   "cell_type": "code",
   "execution_count": 62,
   "metadata": {},
   "outputs": [
    {
     "data": {
      "text/plain": [
       "[('2018-10', 47100064), ('2018-11', 249806)]"
      ]
     },
     "execution_count": 62,
     "metadata": {},
     "output_type": "execute_result"
    }
   ],
   "source": [
    "res"
   ]
  },
  {
   "cell_type": "code",
   "execution_count": 66,
   "metadata": {},
   "outputs": [],
   "source": [
    "cod = '36'\n",
    "cmd = (\"SELECT \"\n",
    "       \"datatweet as data, \"\n",
    "       \"count(codtweet) AS tweet \"\n",
    "       \"FROM tweet \"\n",
    "       \"WHERE codprojeto = \" + cod + \" \"\n",
    "       \"AND datatweet BETWEEN '2018-10-01' AND '2018-10-31' \"\n",
    "       \"GROUP BY 1\"\n",
    "       \"ORDER BY 1\"\n",
    "      )\n",
    "res1 = query(cmd)"
   ]
  },
  {
   "cell_type": "code",
   "execution_count": 96,
   "metadata": {},
   "outputs": [],
   "source": [
    "cmd = (\"INSERT INTO amostratweet (codamostra, codtweet) \" +\n",
    "       \"SELECT 130, t.codtweet \" +\n",
    "       \"FROM tweet t \" +\n",
    "       \"WHERE t.codprojeto = 36 \" +\n",
    "       \"AND datatweet BETWEEN '2018-10-01' AND '2018-10-31' \")\n",
    "execSQL(cmd)"
   ]
  },
  {
   "cell_type": "code",
   "execution_count": 97,
   "metadata": {},
   "outputs": [
    {
     "data": {
      "text/plain": [
       "[(47100064,)]"
      ]
     },
     "execution_count": 97,
     "metadata": {},
     "output_type": "execute_result"
    }
   ],
   "source": [
    "cmd = \"select count(*) from amostratweet where codamostra = 130\"\n",
    "res2 = query(cmd)\n",
    "res2"
   ]
  },
  {
   "cell_type": "code",
   "execution_count": 67,
   "metadata": {},
   "outputs": [
    {
     "data": {
      "text/plain": [
       "[(datetime.date(2018, 10, 1), 592822),\n",
       " (datetime.date(2018, 10, 2), 1378046),\n",
       " (datetime.date(2018, 10, 3), 1117395),\n",
       " (datetime.date(2018, 10, 4), 1175614),\n",
       " (datetime.date(2018, 10, 5), 1470282),\n",
       " (datetime.date(2018, 10, 6), 1094811),\n",
       " (datetime.date(2018, 10, 7), 1872461),\n",
       " (datetime.date(2018, 10, 8), 2644180),\n",
       " (datetime.date(2018, 10, 9), 1791208),\n",
       " (datetime.date(2018, 10, 10), 1807450),\n",
       " (datetime.date(2018, 10, 11), 1689248),\n",
       " (datetime.date(2018, 10, 12), 1414978),\n",
       " (datetime.date(2018, 10, 13), 1232011),\n",
       " (datetime.date(2018, 10, 14), 1109438),\n",
       " (datetime.date(2018, 10, 15), 1268985),\n",
       " (datetime.date(2018, 10, 16), 1344505),\n",
       " (datetime.date(2018, 10, 17), 1151850),\n",
       " (datetime.date(2018, 10, 18), 1611005),\n",
       " (datetime.date(2018, 10, 19), 1810186),\n",
       " (datetime.date(2018, 10, 20), 1358818),\n",
       " (datetime.date(2018, 10, 21), 1234886),\n",
       " (datetime.date(2018, 10, 22), 1245830),\n",
       " (datetime.date(2018, 10, 23), 1605055),\n",
       " (datetime.date(2018, 10, 24), 1552116),\n",
       " (datetime.date(2018, 10, 25), 1631747),\n",
       " (datetime.date(2018, 10, 26), 1774448),\n",
       " (datetime.date(2018, 10, 27), 2088377),\n",
       " (datetime.date(2018, 10, 28), 2613833),\n",
       " (datetime.date(2018, 10, 29), 2158268),\n",
       " (datetime.date(2018, 10, 30), 1204419),\n",
       " (datetime.date(2018, 10, 31), 1055792)]"
      ]
     },
     "execution_count": 67,
     "metadata": {},
     "output_type": "execute_result"
    }
   ],
   "source": [
    "res1"
   ]
  },
  {
   "cell_type": "code",
   "execution_count": 68,
   "metadata": {},
   "outputs": [
    {
     "data": {
      "image/png": "[encoded data removed]",
      "text/plain": [
       "<matplotlib.figure.Figure at 0x7f9cce073b38>"
      ]
     },
     "metadata": {},
     "output_type": "display_data"
    }
   ],
   "source": [
    "y = [ x[0] for x in res1 ]\n",
    "x = [ x[1] for x in res1 ]\n",
    "y_pos = np.arange(len(y))\n",
    "\n",
    "plt.bar(y_pos, x, align='center', alpha=0.5)\n",
    "plt.xticks(y_pos, y, rotation='vertical')\n",
    "#plt.ylabel('Usage')\n",
    "#plt.title('Programming language usage')\n",
    "#fig_size = plt.rcParams[\"figure.figsize\"]\n",
    "#print(\"Current size:\", fig_size)\n",
    "#fig_size[0] = 16\n",
    "#fig_size[1] = 9\n",
    "#plt.rcParams[\"figure.figsize\"] = fig_size    \n",
    "    \n",
    "plt.show()"
   ]
  },
  {
   "cell_type": "code",
   "execution_count": 93,
   "metadata": {},
   "outputs": [],
   "source": [
    "cmap = mp.colors.LinearSegmentedColormap.from_list('custom blue', ['#56B1F7','#ff0000'], N=256)"
   ]
  },
  {
   "cell_type": "code",
   "execution_count": 94,
   "metadata": {},
   "outputs": [
    {
     "data": {
      "image/png": "[encoded data removed]",
      "text/plain": [
       "<matplotlib.figure.Figure at 0x7f9ccde56cf8>"
      ]
     },
     "metadata": {},
     "output_type": "display_data"
    }
   ],
   "source": [
    "data = x\n",
    " \n",
    "# Colorize the graph based on likeability:\n",
    "likeability_scores = np.array(data)\n",
    " \n",
    "data_normalizer = mp.colors.Normalize()\n",
    "color_map = mp.colors.LinearSegmentedColormap(\n",
    "    \"my_map\",\n",
    "    {\n",
    "        \"red\": [(0, 1.0, 1.0),\n",
    "                (1.0, .5, .5)],\n",
    "        \"green\": [(0, 0.5, 0.5),\n",
    "                  (1.0, 0, 0)],\n",
    "        \"blue\": [(0, 0.50, 0.5),\n",
    "                 (1.0, 0, 0)]\n",
    "    }\n",
    ")\n",
    " \n",
    "# Map xs to numbers:\n",
    "N = len(data)\n",
    "x_nums = np.arange(1, N+1)\n",
    " \n",
    "# Plot a bar graph:\n",
    "plt.bar(\n",
    "    x_nums,\n",
    "    data,\n",
    "    align=\"center\",\n",
    "    color=cmap(data_normalizer(likeability_scores))\n",
    ")\n",
    "plt.xticks(x_nums, y, rotation='vertical')\n",
    "#plt.xticks(x_nums, data, rotation='vertical')\n",
    "plt.show()"
   ]
  },
  {
   "cell_type": "markdown",
   "metadata": {},
   "source": [
    "## Total coletado via TweetScrapy (coletor retroativo):"
   ]
  },
  {
   "cell_type": "code",
   "execution_count": 16,
   "metadata": {},
   "outputs": [
    {
     "name": "stdout",
     "output_type": "stream",
     "text": [
      "Eleições 2018 (tweets) - Coletados via TweetScrapy\n",
      "552.538\n"
     ]
    }
   ],
   "source": [
    "cod = '34'\n",
    "cmd = \"select descricao, observacao from projeto where codprojeto = \" + cod\n",
    "res = query(cmd)\n",
    "print(res[0][0] + \" - \" + res[0][1])\n",
    "\n",
    "cmd = \"select count(*) from tweet where codprojeto = \" + cod\n",
    "res = query(cmd)\n",
    "print(\"{:,}\".format(res[0][0]).replace(',','.'))"
   ]
  },
  {
   "cell_type": "code",
   "execution_count": 27,
   "metadata": {},
   "outputs": [],
   "source": [
    "cod = '34'\n",
    "cmd = (\"SELECT \"\n",
    "       \"to_char(datatweet, 'YYYY-MM') as data, \"\n",
    "       \"count(codtweet) AS tweet \"\n",
    "       \"FROM tweet \"\n",
    "       \"WHERE codprojeto = \" + cod + \" \"\n",
    "       \"GROUP BY 1\"\n",
    "       \"ORDER BY 1\"\n",
    "      )\n",
    "res = query(cmd)"
   ]
  },
  {
   "cell_type": "code",
   "execution_count": 28,
   "metadata": {},
   "outputs": [
    {
     "data": {
      "text/plain": [
       "[('2010-07', 2),\n",
       " ('2010-10', 2),\n",
       " ('2010-11', 3),\n",
       " ('2011-01', 1),\n",
       " ('2011-03', 1),\n",
       " ('2011-07', 3),\n",
       " ('2011-08', 1),\n",
       " ('2011-09', 5),\n",
       " ('2011-10', 1),\n",
       " ('2011-11', 1),\n",
       " ('2012-01', 1),\n",
       " ('2012-02', 2),\n",
       " ('2012-03', 1),\n",
       " ('2012-05', 1),\n",
       " ('2012-09', 1),\n",
       " ('2012-10', 1),\n",
       " ('2013-01', 1),\n",
       " ('2013-04', 2),\n",
       " ('2013-05', 2),\n",
       " ('2013-07', 1),\n",
       " ('2013-08', 2),\n",
       " ('2013-09', 2),\n",
       " ('2013-12', 2),\n",
       " ('2014-01', 1),\n",
       " ('2014-05', 2),\n",
       " ('2014-07', 1),\n",
       " ('2014-09', 3),\n",
       " ('2014-10', 1),\n",
       " ('2014-12', 1),\n",
       " ('2015-01', 1),\n",
       " ('2015-02', 1),\n",
       " ('2015-04', 1),\n",
       " ('2015-08', 2),\n",
       " ('2016-02', 1),\n",
       " ('2016-06', 1),\n",
       " ('2016-09', 1),\n",
       " ('2016-12', 1),\n",
       " ('2017-02', 1),\n",
       " ('2017-06', 1),\n",
       " ('2018-05', 1),\n",
       " ('2018-06', 1),\n",
       " ('2018-09', 517302),\n",
       " ('2018-10', 35175)]"
      ]
     },
     "execution_count": 28,
     "metadata": {},
     "output_type": "execute_result"
    }
   ],
   "source": [
    "res"
   ]
  },
  {
   "cell_type": "code",
   "execution_count": null,
   "metadata": {},
   "outputs": [],
   "source": []
  },
  {
   "cell_type": "code",
   "execution_count": null,
   "metadata": {},
   "outputs": [],
   "source": []
  },
  {
   "cell_type": "markdown",
   "metadata": {},
   "source": [
    "## Amostras Geradas"
   ]
  },
  {
   "cell_type": "code",
   "execution_count": 9,
   "metadata": {},
   "outputs": [
    {
     "name": "stdout",
     "output_type": "stream",
     "text": [
      "Eleições Retroativo\n",
      "552.538\n"
     ]
    }
   ],
   "source": [
    "cod = '100'\n",
    "cmd = \"select descricao from amostra where codamostra = \" + cod\n",
    "res = query(cmd)\n",
    "print(res[0][0])\n",
    "cmd = \"select count(*) from amostratweet tweet where codamostra = \" + cod\n",
    "res = query(cmd)\n",
    "print(\"{:,}\".format(res[0][0]).replace(',','.'))"
   ]
  },
  {
   "cell_type": "code",
   "execution_count": 11,
   "metadata": {},
   "outputs": [
    {
     "name": "stdout",
     "output_type": "stream",
     "text": [
      "Eleições Tweets Notícias\n",
      "207.355\n"
     ]
    }
   ],
   "source": [
    "cod = '102'\n",
    "cmd = \"select descricao from amostra where codamostra = \" + cod\n",
    "res = query(cmd)\n",
    "print(res[0][0])\n",
    "cmd = \"select count(*) from amostratweet tweet where codamostra = \" + cod\n",
    "res = query(cmd)\n",
    "print(\"{:,}\".format(res[0][0]).replace(',','.'))"
   ]
  },
  {
   "cell_type": "code",
   "execution_count": 19,
   "metadata": {},
   "outputs": [
    {
     "name": "stdout",
     "output_type": "stream",
     "text": [
      "Eleições [retroativo + api]\n",
      "24.411.949\n"
     ]
    }
   ],
   "source": [
    "cod = '99'\n",
    "cmd = \"select descricao from amostra where codamostra = \" + cod\n",
    "res = query(cmd)\n",
    "print(res[0][0])\n",
    "cmd = \"select count(*) from amostratweet tweet where codamostra = \" + cod\n",
    "res = query(cmd)\n",
    "print(\"{:,}\".format(res[0][0]).replace(',','.'))"
   ]
  },
  {
   "cell_type": "code",
   "execution_count": 31,
   "metadata": {},
   "outputs": [],
   "source": [
    "cod = '99'\n",
    "cmd = (\"SELECT \"\n",
    "       \"to_char(t.datatweet, 'YYYY-MM') as data, \"\n",
    "       \"count(at.codtweet) AS tweet \"\n",
    "       \"FROM amostratweet at \"\n",
    "       \"INNER JOIN tweet t ON at.codtweet = t.codtweet \"\n",
    "       \"WHERE codamostra = \" + cod + \" \"\n",
    "       \"GROUP BY 1\"\n",
    "       \"ORDER BY 1\"\n",
    "      )\n",
    "res = query(cmd)"
   ]
  },
  {
   "cell_type": "code",
   "execution_count": 32,
   "metadata": {},
   "outputs": [
    {
     "data": {
      "text/plain": [
       "[('2010-07', 2),\n",
       " ('2010-10', 2),\n",
       " ('2010-11', 3),\n",
       " ('2011-01', 1),\n",
       " ('2011-03', 1),\n",
       " ('2011-07', 3),\n",
       " ('2011-08', 1),\n",
       " ('2011-09', 5),\n",
       " ('2011-10', 1),\n",
       " ('2011-11', 1),\n",
       " ('2012-01', 1),\n",
       " ('2012-02', 2),\n",
       " ('2012-03', 1),\n",
       " ('2012-05', 1),\n",
       " ('2012-09', 1),\n",
       " ('2012-10', 1),\n",
       " ('2013-01', 1),\n",
       " ('2013-04', 2),\n",
       " ('2013-05', 2),\n",
       " ('2013-07', 1),\n",
       " ('2013-08', 2),\n",
       " ('2013-09', 2),\n",
       " ('2013-12', 2),\n",
       " ('2014-01', 1),\n",
       " ('2014-05', 2),\n",
       " ('2014-07', 1),\n",
       " ('2014-09', 3),\n",
       " ('2014-10', 1),\n",
       " ('2014-12', 1),\n",
       " ('2015-01', 1),\n",
       " ('2015-02', 1),\n",
       " ('2015-04', 1),\n",
       " ('2015-08', 2),\n",
       " ('2016-02', 1),\n",
       " ('2016-06', 1),\n",
       " ('2016-09', 1),\n",
       " ('2016-12', 1),\n",
       " ('2017-02', 1),\n",
       " ('2017-06', 1),\n",
       " ('2018-05', 1),\n",
       " ('2018-06', 1),\n",
       " ('2018-09', 517302),\n",
       " ('2018-10', 23894586)]"
      ]
     },
     "execution_count": 32,
     "metadata": {},
     "output_type": "execute_result"
    }
   ],
   "source": [
    "res"
   ]
  },
  {
   "cell_type": "code",
   "execution_count": 35,
   "metadata": {},
   "outputs": [],
   "source": [
    "cod = '99'\n",
    "cmd = (\"SELECT \"\n",
    "       \"t.datatweet as data, \"\n",
    "       \"count(at.codtweet) AS tweet \"\n",
    "       \"FROM amostratweet at \"\n",
    "       \"INNER JOIN tweet t ON at.codtweet = t.codtweet \"\n",
    "       \"WHERE codamostra = \" + cod + \" \"\n",
    "       \"GROUP BY 1\"\n",
    "       \"ORDER BY 1\"\n",
    "      )\n",
    "res = query(cmd)"
   ]
  },
  {
   "cell_type": "code",
   "execution_count": 36,
   "metadata": {},
   "outputs": [
    {
     "data": {
      "text/plain": [
       "[(datetime.date(2010, 7, 13), 1),\n",
       " (datetime.date(2010, 7, 31), 1),\n",
       " (datetime.date(2010, 10, 3), 1),\n",
       " (datetime.date(2010, 10, 6), 1),\n",
       " (datetime.date(2010, 11, 4), 1),\n",
       " (datetime.date(2010, 11, 8), 1),\n",
       " (datetime.date(2010, 11, 24), 1),\n",
       " (datetime.date(2011, 1, 23), 1),\n",
       " (datetime.date(2011, 3, 22), 1),\n",
       " (datetime.date(2011, 7, 10), 1),\n",
       " (datetime.date(2011, 7, 11), 1),\n",
       " (datetime.date(2011, 7, 17), 1),\n",
       " (datetime.date(2011, 8, 10), 1),\n",
       " (datetime.date(2011, 9, 6), 1),\n",
       " (datetime.date(2011, 9, 8), 2),\n",
       " (datetime.date(2011, 9, 17), 1),\n",
       " (datetime.date(2011, 9, 18), 1),\n",
       " (datetime.date(2011, 10, 30), 1),\n",
       " (datetime.date(2011, 11, 24), 1),\n",
       " (datetime.date(2012, 1, 28), 1),\n",
       " (datetime.date(2012, 2, 7), 1),\n",
       " (datetime.date(2012, 2, 12), 1),\n",
       " (datetime.date(2012, 3, 9), 1),\n",
       " (datetime.date(2012, 5, 4), 1),\n",
       " (datetime.date(2012, 9, 11), 1),\n",
       " (datetime.date(2012, 10, 30), 1),\n",
       " (datetime.date(2013, 1, 9), 1),\n",
       " (datetime.date(2013, 4, 13), 1),\n",
       " (datetime.date(2013, 4, 29), 1),\n",
       " (datetime.date(2013, 5, 17), 1),\n",
       " (datetime.date(2013, 5, 31), 1),\n",
       " (datetime.date(2013, 7, 25), 1),\n",
       " (datetime.date(2013, 8, 19), 1),\n",
       " (datetime.date(2013, 8, 31), 1),\n",
       " (datetime.date(2013, 9, 4), 1),\n",
       " (datetime.date(2013, 9, 8), 1),\n",
       " (datetime.date(2013, 12, 5), 1),\n",
       " (datetime.date(2013, 12, 10), 1),\n",
       " (datetime.date(2014, 1, 31), 1),\n",
       " (datetime.date(2014, 5, 15), 1),\n",
       " (datetime.date(2014, 5, 26), 1),\n",
       " (datetime.date(2014, 7, 1), 1),\n",
       " (datetime.date(2014, 9, 20), 2),\n",
       " (datetime.date(2014, 9, 24), 1),\n",
       " (datetime.date(2014, 10, 24), 1),\n",
       " (datetime.date(2014, 12, 20), 1),\n",
       " (datetime.date(2015, 1, 28), 1),\n",
       " (datetime.date(2015, 2, 13), 1),\n",
       " (datetime.date(2015, 4, 6), 1),\n",
       " (datetime.date(2015, 8, 2), 1),\n",
       " (datetime.date(2015, 8, 10), 1),\n",
       " (datetime.date(2016, 2, 9), 1),\n",
       " (datetime.date(2016, 6, 2), 1),\n",
       " (datetime.date(2016, 9, 22), 1),\n",
       " (datetime.date(2016, 12, 27), 1),\n",
       " (datetime.date(2017, 2, 20), 1),\n",
       " (datetime.date(2017, 6, 22), 1),\n",
       " (datetime.date(2018, 5, 10), 1),\n",
       " (datetime.date(2018, 6, 7), 1),\n",
       " (datetime.date(2018, 9, 12), 1),\n",
       " (datetime.date(2018, 9, 13), 17118),\n",
       " (datetime.date(2018, 9, 14), 23127),\n",
       " (datetime.date(2018, 9, 15), 14050),\n",
       " (datetime.date(2018, 9, 16), 12927),\n",
       " (datetime.date(2018, 9, 17), 8656),\n",
       " (datetime.date(2018, 9, 18), 10014),\n",
       " (datetime.date(2018, 9, 19), 7624),\n",
       " (datetime.date(2018, 9, 20), 5819),\n",
       " (datetime.date(2018, 9, 21), 4993),\n",
       " (datetime.date(2018, 9, 22), 3553),\n",
       " (datetime.date(2018, 9, 23), 5233),\n",
       " (datetime.date(2018, 9, 24), 16248),\n",
       " (datetime.date(2018, 9, 25), 23869),\n",
       " (datetime.date(2018, 9, 26), 45837),\n",
       " (datetime.date(2018, 9, 27), 35634),\n",
       " (datetime.date(2018, 9, 28), 48428),\n",
       " (datetime.date(2018, 9, 29), 142094),\n",
       " (datetime.date(2018, 9, 30), 92077),\n",
       " (datetime.date(2018, 10, 1), 627997),\n",
       " (datetime.date(2018, 10, 2), 1378046),\n",
       " (datetime.date(2018, 10, 3), 1117395),\n",
       " (datetime.date(2018, 10, 4), 1175614),\n",
       " (datetime.date(2018, 10, 5), 1470282),\n",
       " (datetime.date(2018, 10, 6), 1094811),\n",
       " (datetime.date(2018, 10, 7), 1872461),\n",
       " (datetime.date(2018, 10, 8), 2644180),\n",
       " (datetime.date(2018, 10, 9), 1791208),\n",
       " (datetime.date(2018, 10, 10), 1807450),\n",
       " (datetime.date(2018, 10, 11), 1689248),\n",
       " (datetime.date(2018, 10, 12), 1414978),\n",
       " (datetime.date(2018, 10, 13), 1232011),\n",
       " (datetime.date(2018, 10, 14), 1109438),\n",
       " (datetime.date(2018, 10, 15), 1268985),\n",
       " (datetime.date(2018, 10, 16), 1344505),\n",
       " (datetime.date(2018, 10, 17), 855977)]"
      ]
     },
     "execution_count": 36,
     "metadata": {},
     "output_type": "execute_result"
    }
   ],
   "source": [
    "res"
   ]
  },
  {
   "cell_type": "code",
   "execution_count": 41,
   "metadata": {},
   "outputs": [],
   "source": []
  },
  {
   "cell_type": "code",
   "execution_count": 45,
   "metadata": {},
   "outputs": [],
   "source": []
  },
  {
   "cell_type": "code",
   "execution_count": 58,
   "metadata": {},
   "outputs": [
    {
     "name": "stdout",
     "output_type": "stream",
     "text": [
      "Current size: [16.0, 9.0]\n"
     ]
    },
    {
     "data": {
      "image/png": "[encoded data removed]",
      "text/plain": [
       "<matplotlib.figure.Figure at 0x7f9ccdcc5048>"
      ]
     },
     "metadata": {},
     "output_type": "display_data"
    }
   ],
   "source": [
    "y = [ x[0] for x in res ]\n",
    "x = [ x[1] for x in res ]\n",
    "y_pos = np.arange(len(y))\n",
    "\n",
    "plt.bar(y_pos, x, align='center', alpha=0.5)\n",
    "plt.xticks(y_pos, y, rotation='vertical')\n",
    "#plt.ylabel('Usage')\n",
    "#plt.title('Programming language usage')\n",
    "fig_size = plt.rcParams[\"figure.figsize\"]\n",
    "print(\"Current size:\", fig_size)\n",
    "fig_size[0] = 16\n",
    "fig_size[1] = 9\n",
    "plt.rcParams[\"figure.figsize\"] = fig_size    \n",
    "    \n",
    "plt.show()"
   ]
  },
  {
   "cell_type": "code",
   "execution_count": null,
   "metadata": {},
   "outputs": [],
   "source": []
  }
 ],
 "metadata": {
  "kernelspec": {
   "display_name": "Python 3",
   "language": "python",
   "name": "python3"
  },
  "language_info": {
   "codemirror_mode": {
    "name": "ipython",
    "version": 3
   },
   "file_extension": ".py",
   "mimetype": "text/x-python",
   "name": "python",
   "nbconvert_exporter": "python",
   "pygments_lexer": "ipython3",
   "version": "3.5.3"
  }
 },
 "nbformat": 4,
 "nbformat_minor": 2
}
