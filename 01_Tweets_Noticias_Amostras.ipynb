{
 "cells": [
  {
   "cell_type": "markdown",
   "metadata": {},
   "source": [
    "# Notícias e Tweets Eleições: gerando amostras"
   ]
  },
  {
   "cell_type": "code",
   "execution_count": 11,
   "metadata": {},
   "outputs": [
    {
     "name": "stdout",
     "output_type": "stream",
     "text": [
      "postgres functions loaded...\n"
     ]
    }
   ],
   "source": [
    "import ipy_table\n",
    "import re\n",
    "%run ../aux/postgres.py"
   ]
  },
  {
   "cell_type": "code",
   "execution_count": 75,
   "metadata": {},
   "outputs": [
    {
     "name": "stdout",
     "output_type": "stream",
     "text": [
      "INSERT INTO amostra(descricao) VALUES ('Eleições Notícia 11');\n",
      "INSERT INTO amostra(descricao) VALUES ('Eleições Notícia 11 [no similar]');\n",
      "INSERT INTO amostra(descricao) VALUES ('Eleições Notícia 12');\n",
      "INSERT INTO amostra(descricao) VALUES ('Eleições Notícia 12 [no similar]');\n",
      "INSERT INTO amostra(descricao) VALUES ('Eleições Notícia 13');\n",
      "INSERT INTO amostra(descricao) VALUES ('Eleições Notícia 13 [no similar]');\n"
     ]
    }
   ],
   "source": [
    "# criando amostras\n",
    "for i in range(11, 14):\n",
    "    ii = str(i).zfill(2)\n",
    "    cmd = \"INSERT INTO amostra(descricao) VALUES ('Eleições Notícia \" + ii + \"');\"\n",
    "    print(cmd)\n",
    "    #execSQL(cmd)\n",
    "    cmd = \"INSERT INTO amostra(descricao) VALUES ('Eleições Notícia \" + ii + \" [no similar]');\"\n",
    "    print(cmd)\n",
    "    #execSQL(cmd)"
   ]
  },
  {
   "cell_type": "code",
   "execution_count": null,
   "metadata": {},
   "outputs": [
    {
     "data": {
      "text/plain": [
       "[(104, 'Eleições Notícia 01', None, None, None, None),\n",
       " (105, 'Eleições Notícia 01 [no similar]', None, None, None, None),\n",
       " (106, 'Eleições Notícia 02', None, None, None, None),\n",
       " (107, 'Eleições Notícia 02 [no similar]', None, None, None, None),\n",
       " (108, 'Eleições Notícia 03', None, None, None, None),\n",
       " (109, 'Eleições Notícia 03 [no similar]', None, None, None, None),\n",
       " (110, 'Eleições Notícia 04', None, None, None, None),\n",
       " (111, 'Eleições Notícia 04 [no similar]', None, None, None, None),\n",
       " (112, 'Eleições Notícia 05', None, None, None, None),\n",
       " (113, 'Eleições Notícia 05 [no similar]', None, None, None, None),\n",
       " (114, 'Eleições Notícia 06', None, None, None, None),\n",
       " (115, 'Eleições Notícia 06 [no similar]', None, None, None, None),\n",
       " (116, 'Eleições Notícia 07', None, None, None, None),\n",
       " (117, 'Eleições Notícia 07 [no similar]', None, None, None, None),\n",
       " (118, 'Eleições Notícia 08', None, None, None, None),\n",
       " (119, 'Eleições Notícia 08 [no similar]', None, None, None, None),\n",
       " (120, 'Eleições Notícia 09', None, None, None, None),\n",
       " (121, 'Eleições Notícia 09 [no similar]', None, None, None, None),\n",
       " (122, 'Eleições Notícia 10', None, None, None, None),\n",
       " (123, 'Eleições Notícia 10 [no similar]', None, None, None, None),\n",
       " (124, 'Eleições Notícia 11', None, None, None, None),\n",
       " (125, 'Eleições Notícia 11 [no similar]', None, None, None, None),\n",
       " (126, 'Eleições Notícia 12', None, None, None, None),\n",
       " (127, 'Eleições Notícia 12 [no similar]', None, None, None, None),\n",
       " (128, 'Eleições Notícia 13', None, None, None, None),\n",
       " (129, 'Eleições Notícia 13 [no similar]', None, None, None, None)]"
      ]
     },
     "execution_count": 105,
     "metadata": {},
     "output_type": "execute_result"
    }
   ],
   "source": [
    "cmd = \"select * from amostra where descricao like 'Eleições Notícia%'\"\n",
    "res = query(cmd)\n",
    "res"
   ]
  },
  {
   "cell_type": "code",
   "execution_count": 62,
   "metadata": {},
   "outputs": [
    {
     "data": {
      "text/plain": [
       "[('not01', 1920),\n",
       " ('not02', 9),\n",
       " ('not03', 9199),\n",
       " ('not04', 2130),\n",
       " ('not05', 42),\n",
       " ('not06', 181662),\n",
       " ('not06;not08', 135),\n",
       " ('not06;not10', 2),\n",
       " ('not07', 56),\n",
       " ('not08', 10580),\n",
       " ('not09', 1110),\n",
       " ('not10', 478),\n",
       " ('not11', 30),\n",
       " ('not12', 1),\n",
       " ('not13', 1)]"
      ]
     },
     "execution_count": 62,
     "metadata": {},
     "output_type": "execute_result"
    }
   ],
   "source": [
    "cmd = (\"SELECT observacao, count(*) \" +\n",
    "       \"FROM public.analisetweet \" +\n",
    "       \"WHERE codanaliseamostra = 121 \" +\n",
    "       \"group by 1 \" +\n",
    "       \"order by 1\")\n",
    "res = query(cmd)\n",
    "res"
   ]
  },
  {
   "cell_type": "code",
   "execution_count": 17,
   "metadata": {},
   "outputs": [
    {
     "name": "stdout",
     "output_type": "stream",
     "text": [
      "100\n"
     ]
    }
   ],
   "source": [
    "cmd = (\"select t.text, am.similaridade \" +\n",
    "        \"from tweet t inner join amostratweet am on am.codtweet = t.codtweet \" +\n",
    "       \"where am.codamostra = 101 and similaridade > 0.24  limit 100\")\n",
    "tweets = query(cmd)\n",
    "print(len(tweets))"
   ]
  },
  {
   "cell_type": "code",
   "execution_count": 18,
   "metadata": {},
   "outputs": [
    {
     "data": {
      "text/plain": [
       "[('RT @Comprova: 6 | É falsa a inscrição preconceituosa sobre nordestinos em camisa de filho de Bolsonaro | https://t.co/MR9p9jmwvy',\n",
       "  0.242938),\n",
       " ('A atriz global Luma Costa se envolveu em uma polêmica no último fim de semana ao contestar a campanha #EleNão , contrária à candidatura de Jair Bolsonaro (PSL) à presidência. Pelas redes sociais, Luma chegou a dizer que as mulheres participantes do ato são “burras”.  pic.twitter.com/CA4wPbayta',\n",
       "  0.256293),\n",
       " ('A manifestação #EleNão  em repúdio ao candidato a presidente Jair Bolsonaro, que se espalhou por cidades brasileiras neste sábado, foi a maior manifestação de mulheres na história do Brasil. Foi também das maiores manifestações contra um candidato, independentemente das mulheres.',\n",
       "  0.24505),\n",
       " ('Segue o trajeto da CARREATA VOLUNTÁRIA em prol da candidatura do @jairbolsonaro  à Presidência da República que ocorrerá no dia 06/10/2018 às 14 horas em MONTES CLAROS MG. Contamos com sua presença! Nessa reta final é ainda mais importante sua participação! #Bolsonaro2018  #EleSim   pic.twitter.com/pgTePM7CYe',\n",
       "  0.248337),\n",
       " ('RT @Comprova: 6 | É falsa a inscrição preconceituosa sobre nordestinos em camisa de filho de Bolsonaro | https://t.co/MR9p9jmwvy',\n",
       "  0.242938),\n",
       " ('No primeiro levantamento do Ibope sobre o segundo turno das eleições presidenciais, Jair Bolsonaro (PSL) aparece à… https://t.co/SittTbMcVe',\n",
       "  0.252078),\n",
       " ('RT @EsquerdaDiario: A menos de duas semanas para o segundo turno da eleição presidencial, o candidato do PSL, Jair Bolsonaro, tem 59% das i…',\n",
       "  0.24581),\n",
       " ('RT @Comprova: 6 | É falsa a inscrição preconceituosa sobre nordestinos em camisa de filho de Bolsonaro | https://t.co/MR9p9jmwvy',\n",
       "  0.242938),\n",
       " ('RT @RenovaMidia: O candidato do PSL à Presidência da República, Jair Bolsonaro, aparece em primeiro lugar com 69,6% das intenções de votos…',\n",
       "  0.258427),\n",
       " ('RT @RenovaMidia: O candidato do PSL à Presidência da República, Jair Bolsonaro, aparece em primeiro lugar com 69,6% das intenções de votos…',\n",
       "  0.258427),\n",
       " ('RT @RenovaMidia: O candidato do PSL à Presidência da República, Jair Bolsonaro, aparece em primeiro lugar com 69,6% das intenções de votos…',\n",
       "  0.258427),\n",
       " ('RT @RenovaMidia: O candidato do PSL à Presidência da República, Jair Bolsonaro, aparece em primeiro lugar com 69,6% das intenções de votos…',\n",
       "  0.258427),\n",
       " ('RT @RenovaMidia: O candidato do PSL à Presidência da República, Jair Bolsonaro, aparece em primeiro lugar com 69,6% das intenções de votos…',\n",
       "  0.258427),\n",
       " ('RT @RenovaMidia: O candidato do PSL à Presidência da República, Jair Bolsonaro, aparece em primeiro lugar com 69,6% das intenções de votos…',\n",
       "  0.258427),\n",
       " ('RT @RenovaMidia: O candidato do PSL à Presidência da República, Jair Bolsonaro, aparece em primeiro lugar com 69,6% das intenções de votos…',\n",
       "  0.258427),\n",
       " ('RT @RenovaMidia: O candidato do PSL à Presidência da República, Jair Bolsonaro, aparece em primeiro lugar com 69,6% das intenções de votos…',\n",
       "  0.258427),\n",
       " ('RT @RenovaMidia: O candidato do PSL à Presidência da República, Jair Bolsonaro, aparece em primeiro lugar com 69,6% das intenções de votos…',\n",
       "  0.258427),\n",
       " ('RT @RenovaMidia: O candidato do PSL à Presidência da República, Jair Bolsonaro, aparece em primeiro lugar com 69,6% das intenções de votos…',\n",
       "  0.258427),\n",
       " ('RT @RenovaMidia: O candidato do PSL à Presidência da República, Jair Bolsonaro, aparece em primeiro lugar com 69,6% das intenções de votos…',\n",
       "  0.258427),\n",
       " ('RT @RenovaMidia: O candidato do PSL à Presidência da República, Jair Bolsonaro, aparece em primeiro lugar com 69,6% das intenções de votos…',\n",
       "  0.258427),\n",
       " ('RT @RenovaMidia: O candidato do PSL à Presidência da República, Jair Bolsonaro, aparece em primeiro lugar com 69,6% das intenções de votos…',\n",
       "  0.258427),\n",
       " ('RT @RenovaMidia: O candidato do PSL à Presidência da República, Jair Bolsonaro, aparece em primeiro lugar com 69,6% das intenções de votos…',\n",
       "  0.258427),\n",
       " ('RT @RenovaMidia: O candidato do PSL à Presidência da República, Jair Bolsonaro, aparece em primeiro lugar com 69,6% das intenções de votos…',\n",
       "  0.258427),\n",
       " ('RT @RenovaMidia: O candidato do PSL à Presidência da República, Jair Bolsonaro, aparece em primeiro lugar com 69,6% das intenções de votos…',\n",
       "  0.258427),\n",
       " ('RT @RenovaMidia: O candidato do PSL à Presidência da República, Jair Bolsonaro, aparece em primeiro lugar com 69,6% das intenções de votos…',\n",
       "  0.258427),\n",
       " ('RT @RenovaMidia: O candidato do PSL à Presidência da República, Jair Bolsonaro, aparece em primeiro lugar com 69,6% das intenções de votos…',\n",
       "  0.258427),\n",
       " ('RT @RenovaMidia: O candidato do PSL à Presidência da República, Jair Bolsonaro, aparece em primeiro lugar com 69,6% das intenções de votos…',\n",
       "  0.258427),\n",
       " ('RT @RenovaMidia: O candidato do PSL à Presidência da República, Jair Bolsonaro, aparece em primeiro lugar com 69,6% das intenções de votos…',\n",
       "  0.258427),\n",
       " ('RT @RenovaMidia: O candidato do PSL à Presidência da República, Jair Bolsonaro, aparece em primeiro lugar com 69,6% das intenções de votos…',\n",
       "  0.258427),\n",
       " ('RT @RenovaMidia: O candidato do PSL à Presidência da República, Jair Bolsonaro, aparece em primeiro lugar com 69,6% das intenções de votos…',\n",
       "  0.258427),\n",
       " ('RT @RenovaMidia: O candidato do PSL à Presidência da República, Jair Bolsonaro, aparece em primeiro lugar com 69,6% das intenções de votos…',\n",
       "  0.258427),\n",
       " ('RT @RenovaMidia: O candidato do PSL à Presidência da República, Jair Bolsonaro, aparece em primeiro lugar com 69,6% das intenções de votos…',\n",
       "  0.258427),\n",
       " ('RT @RenovaMidia: O candidato do PSL à Presidência da República, Jair Bolsonaro, aparece em primeiro lugar com 69,6% das intenções de votos…',\n",
       "  0.258427),\n",
       " ('RT @RenovaMidia: O candidato do PSL à Presidência da República, Jair Bolsonaro, aparece em primeiro lugar com 69,6% das intenções de votos…',\n",
       "  0.258427),\n",
       " ('RT @RenovaMidia: O candidato do PSL à Presidência da República, Jair Bolsonaro, aparece em primeiro lugar com 69,6% das intenções de votos…',\n",
       "  0.258427),\n",
       " ('RT @RenovaMidia: O candidato do PSL à Presidência da República, Jair Bolsonaro, aparece em primeiro lugar com 69,6% das intenções de votos…',\n",
       "  0.258427),\n",
       " ('RT @RenovaMidia: O candidato do PSL à Presidência da República, Jair Bolsonaro, aparece em primeiro lugar com 69,6% das intenções de votos…',\n",
       "  0.258427),\n",
       " ('RT @RenovaMidia: O candidato do PSL à Presidência da República, Jair Bolsonaro, aparece em primeiro lugar com 69,6% das intenções de votos…',\n",
       "  0.258427),\n",
       " ('RT @RenovaMidia: O candidato do PSL à Presidência da República, Jair Bolsonaro, aparece em primeiro lugar com 69,6% das intenções de votos…',\n",
       "  0.258427),\n",
       " ('RT @RenovaMidia: O candidato do PSL à Presidência da República, Jair Bolsonaro, aparece em primeiro lugar com 69,6% das intenções de votos…',\n",
       "  0.258427),\n",
       " ('RT @RenovaMidia: O candidato do PSL à Presidência da República, Jair Bolsonaro, aparece em primeiro lugar com 69,6% das intenções de votos…',\n",
       "  0.258427),\n",
       " ('RT @RenovaMidia: O candidato do PSL à Presidência da República, Jair Bolsonaro, aparece em primeiro lugar com 69,6% das intenções de votos…',\n",
       "  0.258427),\n",
       " ('RT @RenovaMidia: O candidato do PSL à Presidência da República, Jair Bolsonaro, aparece em primeiro lugar com 69,6% das intenções de votos…',\n",
       "  0.258427),\n",
       " ('RT @RenovaMidia: O candidato do PSL à Presidência da República, Jair Bolsonaro, aparece em primeiro lugar com 69,6% das intenções de votos…',\n",
       "  0.258427),\n",
       " ('RT @RenovaMidia: O candidato do PSL à Presidência da República, Jair Bolsonaro, aparece em primeiro lugar com 69,6% das intenções de votos…',\n",
       "  0.258427),\n",
       " ('RT @RenovaMidia: O candidato do PSL à Presidência da República, Jair Bolsonaro, aparece em primeiro lugar com 69,6% das intenções de votos…',\n",
       "  0.258427),\n",
       " ('RT @RenovaMidia: O candidato do PSL à Presidência da República, Jair Bolsonaro, aparece em primeiro lugar com 69,6% das intenções de votos…',\n",
       "  0.258427),\n",
       " ('RT @RenovaMidia: O candidato do PSL à Presidência da República, Jair Bolsonaro, aparece em primeiro lugar com 69,6% das intenções de votos…',\n",
       "  0.258427),\n",
       " ('RT @RenovaMidia: O candidato do PSL à Presidência da República, Jair Bolsonaro, aparece em primeiro lugar com 69,6% das intenções de votos…',\n",
       "  0.258427),\n",
       " ('RT @RenovaMidia: O candidato do PSL à Presidência da República, Jair Bolsonaro, aparece em primeiro lugar com 69,6% das intenções de votos…',\n",
       "  0.258427),\n",
       " ('RT @RenovaMidia: O candidato do PSL à Presidência da República, Jair Bolsonaro, aparece em primeiro lugar com 69,6% das intenções de votos…',\n",
       "  0.258427),\n",
       " ('RT @RenovaMidia: O candidato do PSL à Presidência da República, Jair Bolsonaro, aparece em primeiro lugar com 69,6% das intenções de votos…',\n",
       "  0.258427),\n",
       " ('RT @RenovaMidia: O candidato do PSL à Presidência da República, Jair Bolsonaro, aparece em primeiro lugar com 69,6% das intenções de votos…',\n",
       "  0.258427),\n",
       " ('RT @RenovaMidia: O candidato do PSL à Presidência da República, Jair Bolsonaro, aparece em primeiro lugar com 69,6% das intenções de votos…',\n",
       "  0.258427),\n",
       " ('RT @RenovaMidia: O candidato do PSL à Presidência da República, Jair Bolsonaro, aparece em primeiro lugar com 69,6% das intenções de votos…',\n",
       "  0.258427),\n",
       " ('RT @RenovaMidia: O candidato do PSL à Presidência da República, Jair Bolsonaro, aparece em primeiro lugar com 69,6% das intenções de votos…',\n",
       "  0.258427),\n",
       " ('Folha de S. Paulo: É falsa a inscrição preconceituosa sobre nordestinos em camisa de filho de Bolsonaro',\n",
       "  0.244048),\n",
       " ('RT @RenovaMidia: O candidato do PSL à Presidência da República, Jair Bolsonaro, aparece em primeiro lugar com 69,6% das intenções de votos…',\n",
       "  0.258427),\n",
       " ('RT @RenovaMidia: O candidato do PSL à Presidência da República, Jair Bolsonaro, aparece em primeiro lugar com 69,6% das intenções de votos…',\n",
       "  0.258427),\n",
       " ('RT @RenovaMidia: O candidato do PSL à Presidência da República, Jair Bolsonaro, aparece em primeiro lugar com 69,6% das intenções de votos…',\n",
       "  0.258427),\n",
       " ('RT @RenovaMidia: O candidato do PSL à Presidência da República, Jair Bolsonaro, aparece em primeiro lugar com 69,6% das intenções de votos…',\n",
       "  0.258427),\n",
       " ('RT @RenovaMidia: O candidato do PSL à Presidência da República, Jair Bolsonaro, aparece em primeiro lugar com 69,6% das intenções de votos…',\n",
       "  0.258427),\n",
       " ('RT @RenovaMidia: O candidato do PSL à Presidência da República, Jair Bolsonaro, aparece em primeiro lugar com 69,6% das intenções de votos…',\n",
       "  0.258427),\n",
       " ('RT @RenovaMidia: O candidato do PSL à Presidência da República, Jair Bolsonaro, aparece em primeiro lugar com 69,6% das intenções de votos…',\n",
       "  0.258427),\n",
       " ('RT @RenovaMidia: O candidato do PSL à Presidência da República, Jair Bolsonaro, aparece em primeiro lugar com 69,6% das intenções de votos…',\n",
       "  0.258427),\n",
       " ('RT @RenovaMidia: O candidato do PSL à Presidência da República, Jair Bolsonaro, aparece em primeiro lugar com 69,6% das intenções de votos…',\n",
       "  0.258427),\n",
       " ('RT @RenovaMidia: O candidato do PSL à Presidência da República, Jair Bolsonaro, aparece em primeiro lugar com 69,6% das intenções de votos…',\n",
       "  0.258427),\n",
       " ('RT @RenovaMidia: O candidato do PSL à Presidência da República, Jair Bolsonaro, aparece em primeiro lugar com 69,6% das intenções de votos…',\n",
       "  0.258427),\n",
       " ('RT @RenovaMidia: O candidato do PSL à Presidência da República, Jair Bolsonaro, aparece em primeiro lugar com 69,6% das intenções de votos…',\n",
       "  0.258427),\n",
       " ('RT @RenovaMidia: O candidato do PSL à Presidência da República, Jair Bolsonaro, aparece em primeiro lugar com 69,6% das intenções de votos…',\n",
       "  0.258427),\n",
       " ('RT @RenovaMidia: O candidato do PSL à Presidência da República, Jair Bolsonaro, aparece em primeiro lugar com 69,6% das intenções de votos…',\n",
       "  0.258427),\n",
       " ('RT @RenovaMidia: O candidato do PSL à Presidência da República, Jair Bolsonaro, aparece em primeiro lugar com 69,6% das intenções de votos…',\n",
       "  0.258427),\n",
       " ('RT @RenovaMidia: O candidato do PSL à Presidência da República, Jair Bolsonaro, aparece em primeiro lugar com 69,6% das intenções de votos…',\n",
       "  0.258427),\n",
       " ('RT @RenovaMidia: O candidato do PSL à Presidência da República, Jair Bolsonaro, aparece em primeiro lugar com 69,6% das intenções de votos…',\n",
       "  0.258427),\n",
       " ('RT @RenovaMidia: O candidato do PSL à Presidência da República, Jair Bolsonaro, aparece em primeiro lugar com 69,6% das intenções de votos…',\n",
       "  0.258427),\n",
       " ('RT @RenovaMidia: O candidato do PSL à Presidência da República, Jair Bolsonaro, aparece em primeiro lugar com 69,6% das intenções de votos…',\n",
       "  0.258427),\n",
       " ('RT @RenovaMidia: O candidato do PSL à Presidência da República, Jair Bolsonaro, aparece em primeiro lugar com 69,6% das intenções de votos…',\n",
       "  0.258427),\n",
       " ('RT @RenovaMidia: O candidato do PSL à Presidência da República, Jair Bolsonaro, aparece em primeiro lugar com 69,6% das intenções de votos…',\n",
       "  0.258427),\n",
       " ('RT @RenovaMidia: O candidato do PSL à Presidência da República, Jair Bolsonaro, aparece em primeiro lugar com 69,6% das intenções de votos…',\n",
       "  0.258427),\n",
       " ('RT @RenovaMidia: O candidato do PSL à Presidência da República, Jair Bolsonaro, aparece em primeiro lugar com 69,6% das intenções de votos…',\n",
       "  0.258427),\n",
       " ('RT @RenovaMidia: O candidato do PSL à Presidência da República, Jair Bolsonaro, aparece em primeiro lugar com 69,6% das intenções de votos…',\n",
       "  0.258427),\n",
       " ('RT @RenovaMidia: O candidato do PSL à Presidência da República, Jair Bolsonaro, aparece em primeiro lugar com 69,6% das intenções de votos…',\n",
       "  0.258427),\n",
       " ('RT @RenovaMidia: O candidato do PSL à Presidência da República, Jair Bolsonaro, aparece em primeiro lugar com 69,6% das intenções de votos…',\n",
       "  0.258427),\n",
       " ('RT @RenovaMidia: O candidato do PSL à Presidência da República, Jair Bolsonaro, aparece em primeiro lugar com 69,6% das intenções de votos…',\n",
       "  0.258427),\n",
       " ('RT @RenovaMidia: O candidato do PSL à Presidência da República, Jair Bolsonaro, aparece em primeiro lugar com 69,6% das intenções de votos…',\n",
       "  0.258427),\n",
       " ('RT @RenovaMidia: O candidato do PSL à Presidência da República, Jair Bolsonaro, aparece em primeiro lugar com 69,6% das intenções de votos…',\n",
       "  0.258427),\n",
       " ('RT @RenovaMidia: O candidato do PSL à Presidência da República, Jair Bolsonaro, aparece em primeiro lugar com 69,6% das intenções de votos…',\n",
       "  0.258427),\n",
       " ('RT @RenovaMidia: O candidato do PSL à Presidência da República, Jair Bolsonaro, aparece em primeiro lugar com 69,6% das intenções de votos…',\n",
       "  0.258427),\n",
       " ('RT @RenovaMidia: O candidato do PSL à Presidência da República, Jair Bolsonaro, aparece em primeiro lugar com 69,6% das intenções de votos…',\n",
       "  0.258427),\n",
       " ('RT @RenovaMidia: O candidato do PSL à Presidência da República, Jair Bolsonaro, aparece em primeiro lugar com 69,6% das intenções de votos…',\n",
       "  0.258427),\n",
       " ('RT @RenovaMidia: O candidato do PSL à Presidência da República, Jair Bolsonaro, aparece em primeiro lugar com 69,6% das intenções de votos…',\n",
       "  0.258427),\n",
       " ('RT @RenovaMidia: O candidato do PSL à Presidência da República, Jair Bolsonaro, aparece em primeiro lugar com 69,6% das intenções de votos…',\n",
       "  0.258427),\n",
       " ('RT @RenovaMidia: O candidato do PSL à Presidência da República, Jair Bolsonaro, aparece em primeiro lugar com 69,6% das intenções de votos…',\n",
       "  0.258427),\n",
       " ('RT @RenovaMidia: O candidato do PSL à Presidência da República, Jair Bolsonaro, aparece em primeiro lugar com 69,6% das intenções de votos…',\n",
       "  0.258427),\n",
       " ('RT @RenovaMidia: O candidato do PSL à Presidência da República, Jair Bolsonaro, aparece em primeiro lugar com 69,6% das intenções de votos…',\n",
       "  0.258427),\n",
       " ('RT @RenovaMidia: O candidato do PSL à Presidência da República, Jair Bolsonaro, aparece em primeiro lugar com 69,6% das intenções de votos…',\n",
       "  0.258427),\n",
       " ('RT @RenovaMidia: O candidato do PSL à Presidência da República, Jair Bolsonaro, aparece em primeiro lugar com 69,6% das intenções de votos…',\n",
       "  0.258427),\n",
       " ('RT @RenovaMidia: O candidato do PSL à Presidência da República, Jair Bolsonaro, aparece em primeiro lugar com 69,6% das intenções de votos…',\n",
       "  0.258427),\n",
       " ('RT @RenovaMidia: O candidato do PSL à Presidência da República, Jair Bolsonaro, aparece em primeiro lugar com 69,6% das intenções de votos…',\n",
       "  0.258427),\n",
       " ('RT @RenovaMidia: O candidato do PSL à Presidência da República, Jair Bolsonaro, aparece em primeiro lugar com 69,6% das intenções de votos…',\n",
       "  0.258427)]"
      ]
     },
     "execution_count": 18,
     "metadata": {},
     "output_type": "execute_result"
    }
   ],
   "source": [
    "tweets"
   ]
  },
  {
   "cell_type": "code",
   "execution_count": 126,
   "metadata": {},
   "outputs": [],
   "source": [
    "def buscaTweets(filtro, cod1, cod2, onlyVerify=False):\n",
    "    cod1 = str(cod1)\n",
    "    cod2 = str(cod2)\n",
    "\n",
    "    \n",
    "    cmd = \"DELETE FROM amostratweet WHERE codamostra = \" + cod1\n",
    "    print(cmd)\n",
    "    execSQL(cmd)\n",
    "    \n",
    "    cmd = \"DELETE FROM amostratweet WHERE codamostra = \" + cod2\n",
    "    print(cmd)\n",
    "    execSQL(cmd)\n",
    "    print(\"\")\n",
    "\n",
    "    cmd = (\"SELECT COUNT(*) \" +\n",
    "           \"FROM amostratweet at \" +\n",
    "           \"INNER JOIN tweet t ON t.codtweet = at.codtweet \" +\n",
    "           \"WHERE at.codamostra = 130 \" +\n",
    "           filtro\n",
    "          )\n",
    "    count = query(cmd)\n",
    "    print(\"Total de noticias: %s\\n\" % count[0])\n",
    "\n",
    "    cmd = (\"SELECT t.text \" +\n",
    "           \"FROM amostratweet at \" +\n",
    "           \"INNER JOIN tweet t ON t.codtweet = at.codtweet \" +\n",
    "           \"WHERE at.codamostra = 130 \" +\n",
    "           filtro +\n",
    "           \"LIMIT 5\")\n",
    "    tws = query(cmd)\n",
    "\n",
    "    for tw in tws:\n",
    "        print(tw)\n",
    "    \n",
    "    if onlyVerify:\n",
    "        return\n",
    "    # gerando amostra\n",
    "\n",
    "    \n",
    "    \n",
    "    #execSQL(cmd)\n",
    "    try:\n",
    "        cmd = (\"INSERT INTO amostratweet (codamostra, codtweet) \" +\n",
    "               \"SELECT \" + cod1 + \", t.codtweet \" +\n",
    "               \"FROM amostratweet at \" +\n",
    "               \"INNER JOIN tweet t ON t.codtweet = at.codtweet \" +\n",
    "               \"WHERE at.codamostra = 130 \" +\n",
    "               filtro )\n",
    "        print(cmd+\"\\n\")\n",
    "        execSQL(cmd)\n",
    "    except psycopg2.IntegrityError as e:\n",
    "        print(e)\n",
    "\n",
    "    try:\n",
    "        cmd = (\"INSERT INTO amostratweet (codamostra, codtweet) \" +\n",
    "               \"SELECT \" + cod2 + \", t.codtweet \" +\n",
    "               \"FROM amostratweet at \" +\n",
    "               \"INNER JOIN tweet t ON t.codtweet = at.codtweet \" +\n",
    "               \"WHERE at.codamostra = 130 \" +\n",
    "               filtro )\n",
    "        print(cmd+\"\\n\")\n",
    "        execSQL(cmd)    \n",
    "    except psycopg2.IntegrityError as e:\n",
    "        print(e)\n",
    "    \n",
    "    cmd = \"SELECT count(*) FROM amostratweet WHERE codamostra = \" + str(cod1)\n",
    "    print(cmd)\n",
    "    total = query(cmd)\n",
    "    print(\"total %s: %s\\n\" % (cod1, total[0][0]))\n",
    "\n",
    "    cmd = \"SELECT count(*) FROM amostratweet WHERE codamostra = \" + str(cod2)\n",
    "    print(cmd)\n",
    "    total = query(cmd)\n",
    "    print(\"total %s: %s\" % (cod2, total[0][0]))"
   ]
  },
  {
   "cell_type": "markdown",
   "metadata": {},
   "source": [
    "# Notícia 01:\n",
    "\n",
    "É falsa a inscrição preconceituosa sobre nordestinos em camisa de filho de Bolsonaro"
   ]
  },
  {
   "cell_type": "code",
   "execution_count": 127,
   "metadata": {},
   "outputs": [
    {
     "name": "stdout",
     "output_type": "stream",
     "text": [
      "DELETE FROM amostratweet WHERE codamostra = 104\n",
      "DELETE FROM amostratweet WHERE codamostra = 105\n",
      "\n",
      "Total de noticias: 4611\n",
      "\n",
      "('RT @MajiwkiJacques: Não vejo camisas do @Haddad_Fernando, adesivos nos carros, pessoas fazendo manifestações, e olha q sou do Nordeste, com…',)\n",
      "('RT @MajiwkiJacques: Não vejo camisas do @Haddad_Fernando, adesivos nos carros, pessoas fazendo manifestações, e olha q sou do Nordeste, com…',)\n",
      "('RT @MajiwkiJacques: Não vejo camisas do @Haddad_Fernando, adesivos nos carros, pessoas fazendo manifestações, e olha q sou do Nordeste, com…',)\n",
      "('RT @camisanumero7: Vocês sabem qual região do Brasil mais se beneficiará com a eleição de @jairbolsonaro ?\\n\\nSim, O NORDESTE !!!\\n\\nRegião com…',)\n",
      "('RT @camisanumero7: Vocês sabem qual região do Brasil mais se beneficiará com a eleição de @jairbolsonaro ?\\n\\nSim, O NORDESTE !!!\\n\\nRegião com…',)\n",
      "INSERT INTO amostratweet (codamostra, codtweet) SELECT 104, t.codtweet FROM amostratweet at INNER JOIN tweet t ON t.codtweet = at.codtweet WHERE at.codamostra = 130 AND lower(t.text) like '%camisa%' AND lower(t.text) like '%nordest%' \n",
      "\n",
      "INSERT INTO amostratweet (codamostra, codtweet) SELECT 105, t.codtweet FROM amostratweet at INNER JOIN tweet t ON t.codtweet = at.codtweet WHERE at.codamostra = 130 AND lower(t.text) like '%camisa%' AND lower(t.text) like '%nordest%' \n",
      "\n",
      "SELECT count(*) FROM amostratweet WHERE codamostra = 104\n",
      "total 104: 4611\n",
      "\n",
      "SELECT count(*) FROM amostratweet WHERE codamostra = 105\n",
      "total 105: 4611\n"
     ]
    }
   ],
   "source": [
    "filtro = (\n",
    "    \"AND lower(t.text) like '%camisa%' \"\n",
    "    \"AND lower(t.text) like '%nordest%' \"\n",
    ")\n",
    "buscaTweets(filtro, 104, 105)"
   ]
  },
  {
   "cell_type": "markdown",
   "metadata": {},
   "source": [
    "# Notícia 02:\n",
    "\n",
    "#Verificamos: Bolsonaro não disse que ‘paciente com câncer custa caro para o Estado’ e que vai ‘cortar essa farra’"
   ]
  },
  {
   "cell_type": "code",
   "execution_count": 128,
   "metadata": {},
   "outputs": [
    {
     "name": "stdout",
     "output_type": "stream",
     "text": [
      "DELETE FROM amostratweet WHERE codamostra = 106\n",
      "DELETE FROM amostratweet WHERE codamostra = 107\n",
      "\n",
      "Total de noticias: 12\n",
      "\n",
      "('@efarsas Precisamos cortar a \"farra do fake news\"... isso virou um câncer.',)\n",
      "('Bolsonaro não disse que ‘paciente com câncer custa caro para o Estado’ e que vai ‘cortar essa farra’. Leia em:… https://t.co/nWyPHFiBHS',)\n",
      "('[Agência Lupa] Bolsonaro não disse que ‘paciente com câncer custa caro para o Estado’ e que vai ‘cortar essa farra’ https://t.co/Jsi6FZYcH0',)\n",
      "('Câncer e Aids são farras?????Onde vamos parar com esse coiso, cada dia mais louco?. AFF!!!!',)\n",
      "('RT @Amarulacarvalho: Câncer e Aids são farras?????Onde vamos parar com esse coiso, cada dia mais louco?. AFF!!!! https://t.co/fxOYKrlUJV',)\n",
      "INSERT INTO amostratweet (codamostra, codtweet) SELECT 106, t.codtweet FROM amostratweet at INNER JOIN tweet t ON t.codtweet = at.codtweet WHERE at.codamostra = 130 AND lower(t.text) like '%farra%' AND (lower(t.text) like '%câncer%' OR lower(t.text) like '%cancer%') \n",
      "\n",
      "INSERT INTO amostratweet (codamostra, codtweet) SELECT 107, t.codtweet FROM amostratweet at INNER JOIN tweet t ON t.codtweet = at.codtweet WHERE at.codamostra = 130 AND lower(t.text) like '%farra%' AND (lower(t.text) like '%câncer%' OR lower(t.text) like '%cancer%') \n",
      "\n",
      "SELECT count(*) FROM amostratweet WHERE codamostra = 106\n",
      "total 106: 12\n",
      "\n",
      "SELECT count(*) FROM amostratweet WHERE codamostra = 107\n",
      "total 107: 12\n"
     ]
    }
   ],
   "source": [
    "filtro = (\n",
    "    \"AND lower(t.text) like '%farra%' \"\n",
    "    \"AND (lower(t.text) like '%câncer%' OR lower(t.text) like '%cancer%') \"\n",
    ")\n",
    "buscaTweets(filtro, 106, 107)"
   ]
  },
  {
   "cell_type": "markdown",
   "metadata": {},
   "source": [
    "# Notícia 03:\n",
    "\n",
    "Post com propostas atribuídas a Bolsonaro mistura informações falsas e verdadeiras"
   ]
  },
  {
   "cell_type": "code",
   "execution_count": 129,
   "metadata": {},
   "outputs": [
    {
     "name": "stdout",
     "output_type": "stream",
     "text": [
      "DELETE FROM amostratweet WHERE codamostra = 108\n",
      "DELETE FROM amostratweet WHERE codamostra = 109\n",
      "\n",
      "Total de noticias: 9204\n",
      "\n",
      "('RT @cinefilo_K: PROPOSTAS DE BOLSONARO\\n- Fim do 13º e férias\\n- Redução da licença maternidade\\n- IR igual pra ricos e POBRES\\n- Volta da CPMF…',)\n",
      "('RT @cinefilo_K: PROPOSTAS DE BOLSONARO\\n- Fim do 13º e férias\\n- Redução da licença maternidade\\n- IR igual pra ricos e POBRES\\n- Volta da CPMF…',)\n",
      "('RT @cinefilo_K: PROPOSTAS DE BOLSONARO\\n- Fim do 13º e férias\\n- Redução da licença maternidade\\n- IR igual pra ricos e POBRES\\n- Volta da CPMF…',)\n",
      "('RT @cinefilo_K: PROPOSTAS DE BOLSONARO\\n- Fim do 13º e férias\\n- Redução da licença maternidade\\n- IR igual pra ricos e POBRES\\n- Volta da CPMF…',)\n",
      "('RT @cinefilo_K: PROPOSTAS DE BOLSONARO\\n- Fim do 13º e férias\\n- Redução da licença maternidade\\n- IR igual pra ricos e POBRES\\n- Volta da CPMF…',)\n",
      "INSERT INTO amostratweet (codamostra, codtweet) SELECT 108, t.codtweet FROM amostratweet at INNER JOIN tweet t ON t.codtweet = at.codtweet WHERE at.codamostra = 130 AND lower(t.text) like '%propostas%' AND lower(t.text) like '%bolsonaro%' AND lower(t.text) like '%fim%' AND lower(t.text) like '%maternidade%' \n",
      "\n",
      "INSERT INTO amostratweet (codamostra, codtweet) SELECT 109, t.codtweet FROM amostratweet at INNER JOIN tweet t ON t.codtweet = at.codtweet WHERE at.codamostra = 130 AND lower(t.text) like '%propostas%' AND lower(t.text) like '%bolsonaro%' AND lower(t.text) like '%fim%' AND lower(t.text) like '%maternidade%' \n",
      "\n",
      "SELECT count(*) FROM amostratweet WHERE codamostra = 108\n",
      "total 108: 9204\n",
      "\n",
      "SELECT count(*) FROM amostratweet WHERE codamostra = 109\n",
      "total 109: 9204\n"
     ]
    }
   ],
   "source": [
    "filtro = (\n",
    "    \"AND lower(t.text) like '%propostas%' \"\n",
    "    \"AND lower(t.text) like '%bolsonaro%' \"\n",
    "    \"AND lower(t.text) like '%fim%' \"\n",
    "    \"AND lower(t.text) like '%maternidade%' \"\n",
    ")\n",
    "buscaTweets(filtro, 108, 109)"
   ]
  },
  {
   "cell_type": "markdown",
   "metadata": {},
   "source": [
    "# Notícia 04:\n",
    "\n",
    "General Mourão não propôs o confisco da poupança"
   ]
  },
  {
   "cell_type": "code",
   "execution_count": 130,
   "metadata": {},
   "outputs": [
    {
     "name": "stdout",
     "output_type": "stream",
     "text": [
      "DELETE FROM amostratweet WHERE codamostra = 110\n",
      "DELETE FROM amostratweet WHERE codamostra = 111\n",
      "\n",
      "Total de noticias: 2304\n",
      "\n",
      "('RT @HenriqueFontana: URGENTE! Mourão, vice do Bolsonaro, também propõe confisco da poupança https://t.co/HIg2N07NLT',)\n",
      "('RT @folha: Não é verdade que general Mourão, vice de Bolsonaro, propôs o confisco da poupança https://t.co/NJEVZe3Imn',)\n",
      "('RT @folha: Não é verdade que general Mourão, vice de Bolsonaro, propôs o confisco da poupança https://t.co/NJEVZe3Imn',)\n",
      "('RT @folha: Não é verdade que general Mourão, vice de Bolsonaro, propôs o confisco da poupança https://t.co/NJEVZe3Imn',)\n",
      "('RT @folha: Não é verdade que general Mourão, vice de Bolsonaro, propôs o confisco da poupança https://t.co/NJEVZe3Imn',)\n",
      "INSERT INTO amostratweet (codamostra, codtweet) SELECT 110, t.codtweet FROM amostratweet at INNER JOIN tweet t ON t.codtweet = at.codtweet WHERE at.codamostra = 130 AND lower(t.text) like '%confisco%' AND lower(t.text) like '%poupan%' \n",
      "\n",
      "INSERT INTO amostratweet (codamostra, codtweet) SELECT 111, t.codtweet FROM amostratweet at INNER JOIN tweet t ON t.codtweet = at.codtweet WHERE at.codamostra = 130 AND lower(t.text) like '%confisco%' AND lower(t.text) like '%poupan%' \n",
      "\n",
      "SELECT count(*) FROM amostratweet WHERE codamostra = 110\n",
      "total 110: 2304\n",
      "\n",
      "SELECT count(*) FROM amostratweet WHERE codamostra = 111\n",
      "total 111: 2304\n"
     ]
    }
   ],
   "source": [
    "filtro = (\n",
    "    \"AND lower(t.text) like '%confisco%' \"\n",
    "    \"AND lower(t.text) like '%poupan%' \"\n",
    ")\n",
    "buscaTweets(filtro, 110, 111)"
   ]
  },
  {
   "cell_type": "markdown",
   "metadata": {},
   "source": [
    "## Notícia 05:\n",
    "\n",
    "Áudio atribuído a Jair Bolsonaro no hospital é falso"
   ]
  },
  {
   "cell_type": "code",
   "execution_count": 131,
   "metadata": {},
   "outputs": [
    {
     "name": "stdout",
     "output_type": "stream",
     "text": [
      "DELETE FROM amostratweet WHERE codamostra = 112\n",
      "DELETE FROM amostratweet WHERE codamostra = 113\n",
      "\n",
      "Total de noticias: 283\n",
      "\n",
      "('RT @Profdrclaudio: O Povo baiano é simpático, hospitaleiro, alegre e têm musicalidade sem igual.São honestos e trabalhadores. Este lixo cha…',)\n",
      "('RT @Profdrclaudio: O Povo baiano é simpático, hospitaleiro, alegre e têm musicalidade sem igual.São honestos e trabalhadores. Este lixo cha…',)\n",
      "('RT @Profdrclaudio: O Povo baiano é simpático, hospitaleiro, alegre e têm musicalidade sem igual.São honestos e trabalhadores. Este lixo cha…',)\n",
      "('RT @Profdrclaudio: O Povo baiano é simpático, hospitaleiro, alegre e têm musicalidade sem igual.São honestos e trabalhadores. Este lixo cha…',)\n",
      "('RT @Profdrclaudio: O Povo baiano é simpático, hospitaleiro, alegre e têm musicalidade sem igual.São honestos e trabalhadores. Este lixo cha…',)\n",
      "INSERT INTO amostratweet (codamostra, codtweet) SELECT 112, t.codtweet FROM amostratweet at INNER JOIN tweet t ON t.codtweet = at.codtweet WHERE at.codamostra = 130 AND lower(t.text) like '%udio%' AND lower(t.text) like '%hospital%' \n",
      "\n",
      "INSERT INTO amostratweet (codamostra, codtweet) SELECT 113, t.codtweet FROM amostratweet at INNER JOIN tweet t ON t.codtweet = at.codtweet WHERE at.codamostra = 130 AND lower(t.text) like '%udio%' AND lower(t.text) like '%hospital%' \n",
      "\n",
      "SELECT count(*) FROM amostratweet WHERE codamostra = 112\n",
      "total 112: 283\n",
      "\n",
      "SELECT count(*) FROM amostratweet WHERE codamostra = 113\n",
      "total 113: 283\n"
     ]
    }
   ],
   "source": [
    "filtro = (\n",
    "    \"AND lower(t.text) like '%udio%' \"\n",
    "    \"AND lower(t.text) like '%hospital%' \"\n",
    ")\n",
    "buscaTweets(filtro, 112, 113)"
   ]
  },
  {
   "cell_type": "markdown",
   "metadata": {},
   "source": [
    "# Notícia 06:\n",
    "\n",
    "#Verificamos: Imagem apresentada como ‘capa do kit gay’ não está no material"
   ]
  },
  {
   "cell_type": "code",
   "execution_count": 132,
   "metadata": {},
   "outputs": [
    {
     "name": "stdout",
     "output_type": "stream",
     "text": [
      "DELETE FROM amostratweet WHERE codamostra = 114\n",
      "DELETE FROM amostratweet WHERE codamostra = 115\n",
      "\n",
      "Total de noticias: 285142\n",
      "\n",
      "('RT @QuebrandoOTabu: Tá circulando vídeo numa livraria que mostra que o livro que Bolsonaro disse ser kit gay existe.\\n\\nNinguém disse que o l…',)\n",
      "('RT @louieponto: ah pronto bolsonaro falando do kit gay no programa eleitoral depois de ter sido proibido pelo TSE porque é UMA MENTIRA',)\n",
      "('RT @vaIehomossexuaI: Bolsonaro meteu o vídeo do secretário do Haddad falando do beijo lésbico no lance do kit gay, hoje as tia do zap vão f…',)\n",
      "('RT @vaIehomossexuaI: Bolsonaro meteu o vídeo do secretário do Haddad falando do beijo lésbico no lance do kit gay, hoje as tia do zap vão f…',)\n",
      "('RT @rogeriotomazjr: O sinais da #HoraDaVirada que o Bolsonaro sentiu e entrou em desespero:\\n- uso do kitgay no horário eleitoral mesmo proi…',)\n",
      "INSERT INTO amostratweet (codamostra, codtweet) SELECT 114, t.codtweet FROM amostratweet at INNER JOIN tweet t ON t.codtweet = at.codtweet WHERE at.codamostra = 130 AND lower(t.text) like '%kit%' AND lower(t.text) like '%gay%' \n",
      "\n",
      "INSERT INTO amostratweet (codamostra, codtweet) SELECT 115, t.codtweet FROM amostratweet at INNER JOIN tweet t ON t.codtweet = at.codtweet WHERE at.codamostra = 130 AND lower(t.text) like '%kit%' AND lower(t.text) like '%gay%' \n",
      "\n",
      "SELECT count(*) FROM amostratweet WHERE codamostra = 114\n",
      "total 114: 285142\n",
      "\n",
      "SELECT count(*) FROM amostratweet WHERE codamostra = 115\n",
      "total 115: 285142\n"
     ]
    }
   ],
   "source": [
    "filtro = (\n",
    "    \"AND lower(t.text) like '%kit%' \"\n",
    "    \"AND lower(t.text) like '%gay%' \"\n",
    ")\n",
    "buscaTweets(filtro, 114, 115)"
   ]
  },
  {
   "cell_type": "markdown",
   "metadata": {},
   "source": [
    "# Notícia 07:\n",
    "\n",
    "Projeto não torna a pedofilia um ato legal e nem tem participação de Haddad"
   ]
  },
  {
   "cell_type": "code",
   "execution_count": 133,
   "metadata": {},
   "outputs": [
    {
     "name": "stdout",
     "output_type": "stream",
     "text": [
      "DELETE FROM amostratweet WHERE codamostra = 116\n",
      "DELETE FROM amostratweet WHERE codamostra = 117\n",
      "\n",
      "Total de noticias: 1682\n",
      "\n",
      "('RT @estadaoverifica: Projeto não torna a pedofilia um ato legal e nem tem participação de Haddad #Comprova https://t.co/u6TwZX8TYt',)\n",
      "('RT @UOL: Fotografia circula em redes sociais | Projeto não torna pedofilia um ato legal nem tem a participação de Haddad https://t.co/wwd70…',)\n",
      "('RT @GauchaZH: O projeto de lei em questão nada tem a ver com legalização da pedofilia e tramita no Congresso Nacional sob relatoria de um s…',)\n",
      "('RT @guilouress: Eu entro no facebook e tá la as fake news sobre existir projeto de lei do Pt a favor da pedofilia. Mano, se esses Cristãos…',)\n",
      "('RT @UOLNoticias: Projeto não torna a pedofilia um ato legal nem tem participação de Haddad #comprova  https://t.co/bddz58GQ54',)\n",
      "INSERT INTO amostratweet (codamostra, codtweet) SELECT 116, t.codtweet FROM amostratweet at INNER JOIN tweet t ON t.codtweet = at.codtweet WHERE at.codamostra = 130 AND lower(t.text) like '%pedofilia%' AND ( lower(t.text) like '%projeto%' OR lower(t.text) like '%236%' )\n",
      "\n",
      "INSERT INTO amostratweet (codamostra, codtweet) SELECT 117, t.codtweet FROM amostratweet at INNER JOIN tweet t ON t.codtweet = at.codtweet WHERE at.codamostra = 130 AND lower(t.text) like '%pedofilia%' AND ( lower(t.text) like '%projeto%' OR lower(t.text) like '%236%' )\n",
      "\n",
      "SELECT count(*) FROM amostratweet WHERE codamostra = 116\n",
      "total 116: 1682\n",
      "\n",
      "SELECT count(*) FROM amostratweet WHERE codamostra = 117\n",
      "total 117: 1682\n"
     ]
    }
   ],
   "source": [
    "filtro = (\n",
    "    \"AND lower(t.text) like '%pedofilia%' \"\n",
    "    \"AND ( lower(t.text) like '%projeto%' OR lower(t.text) like '%236%' )\"\n",
    ")\n",
    "buscaTweets(filtro, 116, 117)"
   ]
  },
  {
   "cell_type": "markdown",
   "metadata": {},
   "source": [
    "# Notícia 08:\n",
    "\n",
    "\"Mamadeiras eróticas\" não foram distribuídas em creches pelo PT"
   ]
  },
  {
   "cell_type": "code",
   "execution_count": 134,
   "metadata": {},
   "outputs": [
    {
     "name": "stdout",
     "output_type": "stream",
     "text": [
      "DELETE FROM amostratweet WHERE codamostra = 118\n",
      "DELETE FROM amostratweet WHERE codamostra = 119\n",
      "\n",
      "Total de noticias: 15426\n",
      "\n",
      "('RT @heisenboff: no passado: \"em 2018 teremos carros voadores\"\\n\\nem 2018: tendo que desmentir fake news que diz que distribuíram mamadeira co…',)\n",
      "('RT @AbalFelipe: Os caras acreditam em mamadeira com bico de pênis, que o PT pagou 90 milhões pro Roger Waters e que o Irã tem planos pra in…',)\n",
      "('RT @heisenboff: no passado: \"em 2018 teremos carros voadores\"\\n\\nem 2018: tendo que desmentir fake news que diz que distribuíram mamadeira co…',)\n",
      "('@Cellymonteiro @Tatiana76928697 Já vi que vc acredita em tudo que o Haddad diz.\\nO lance da mamadeira pênis foi cois… https://t.co/tcBBpGTH0Q',)\n",
      "('essa mamadeira de piroca com certeza é a melhor fake news de TODAS',)\n",
      "INSERT INTO amostratweet (codamostra, codtweet) SELECT 118, t.codtweet FROM amostratweet at INNER JOIN tweet t ON t.codtweet = at.codtweet WHERE at.codamostra = 130 AND lower(t.text) like '%mamadeira%' \n",
      "\n",
      "INSERT INTO amostratweet (codamostra, codtweet) SELECT 119, t.codtweet FROM amostratweet at INNER JOIN tweet t ON t.codtweet = at.codtweet WHERE at.codamostra = 130 AND lower(t.text) like '%mamadeira%' \n",
      "\n",
      "SELECT count(*) FROM amostratweet WHERE codamostra = 118\n",
      "total 118: 15426\n",
      "\n",
      "SELECT count(*) FROM amostratweet WHERE codamostra = 119\n",
      "total 119: 15426\n"
     ]
    }
   ],
   "source": [
    "filtro = (\n",
    "    \"AND lower(t.text) like '%mamadeira%' \"\n",
    ")\n",
    "buscaTweets(filtro, 118, 119)"
   ]
  },
  {
   "cell_type": "markdown",
   "metadata": {},
   "source": [
    "# Notícia 09:\n",
    "\n",
    "Vídeo em que Haddad diz que eleição acabou é de 2016"
   ]
  },
  {
   "cell_type": "code",
   "execution_count": 135,
   "metadata": {},
   "outputs": [
    {
     "name": "stdout",
     "output_type": "stream",
     "text": [
      "DELETE FROM amostratweet WHERE codamostra = 120\n",
      "DELETE FROM amostratweet WHERE codamostra = 121\n",
      "\n",
      "Total de noticias: 1843\n",
      "\n",
      "('RT @cidapitanga: Folha reconhece que foi incapaz de olhar seus próprios leitores.\\nJOGOU A TOALHA \\n\\nPRIMEIRO TURNO GENTE!!\\n\\n\"A Folha de S. P…',)\n",
      "('RT @Dom_Rezende33: Até Ibope já jogou a toalha\\n\\nVotos válidos:\\nBolsonaro 59% x 41% Haddad https://t.co/64IdlpdDS4',)\n",
      "('RT @Dom_Rezende33: Até Ibope já jogou a toalha\\n\\nVotos válidos:\\nBolsonaro 59% x 41% Haddad https://t.co/64IdlpdDS4',)\n",
      "('RT @Dom_Rezende33: Até Ibope já jogou a toalha\\n\\nVotos válidos:\\nBolsonaro 59% x 41% Haddad https://t.co/64IdlpdDS4',)\n",
      "('RT @Dom_Rezende33: Até Ibope já jogou a toalha\\n\\nVotos válidos:\\nBolsonaro 59% x 41% Haddad https://t.co/64IdlpdDS4',)\n",
      "INSERT INTO amostratweet (codamostra, codtweet) SELECT 120, t.codtweet FROM amostratweet at INNER JOIN tweet t ON t.codtweet = at.codtweet WHERE at.codamostra = 130 AND lower(t.text) like '%jogou%' AND lower(t.text) like '%toalha%' \n",
      "\n",
      "INSERT INTO amostratweet (codamostra, codtweet) SELECT 121, t.codtweet FROM amostratweet at INNER JOIN tweet t ON t.codtweet = at.codtweet WHERE at.codamostra = 130 AND lower(t.text) like '%jogou%' AND lower(t.text) like '%toalha%' \n",
      "\n",
      "SELECT count(*) FROM amostratweet WHERE codamostra = 120\n",
      "total 120: 1843\n",
      "\n",
      "SELECT count(*) FROM amostratweet WHERE codamostra = 121\n",
      "total 121: 1843\n"
     ]
    }
   ],
   "source": [
    "filtro = (\n",
    "    \"AND lower(t.text) like '%jogou%' \"\n",
    "    \"AND lower(t.text) like '%toalha%' \"\n",
    ")\n",
    "buscaTweets(filtro, 120, 121)"
   ]
  },
  {
   "cell_type": "markdown",
   "metadata": {},
   "source": [
    "# Notícia 10:\n",
    "\n",
    "\"Ao completar 5 anos de idade, a criança passa a ser propriedade do Estado! Cabe a nós decidir se\n",
    "menino será menina e vice-versa! Aos pais cabe acatar nossa decisão respeitosamente! Sabemos\n",
    "o que é melhor para as crianças!\""
   ]
  },
  {
   "cell_type": "code",
   "execution_count": 136,
   "metadata": {},
   "outputs": [
    {
     "name": "stdout",
     "output_type": "stream",
     "text": [
      "DELETE FROM amostratweet WHERE codamostra = 122\n",
      "DELETE FROM amostratweet WHERE codamostra = 123\n",
      "\n",
      "Total de noticias: 5410\n",
      "\n",
      "('RT @AngelJones_1330: 1. Fake News! \\n\\n- É #FAKE que Haddad disse que criança vira propriedade do Estado aos 5 anos e pode ter seu gênero esc…',)\n",
      "('RT @portadosfundos: \"Não recebeu por WhatsApp? Toda criança a partir de 5 anos agora é propriedade do Estado.\"\\n\\nVÍDEO NOVO | Fake News: htt…',)\n",
      "('RT @portadosfundos: \"Não recebeu por WhatsApp? Toda criança a partir de 5 anos agora é propriedade do Estado.\"\\n\\nVÍDEO NOVO | Fake News: htt…',)\n",
      "('RT @portadosfundos: \"Não recebeu por WhatsApp? Toda criança a partir de 5 anos agora é propriedade do Estado.\"\\n\\nVÍDEO NOVO | Fake News: htt…',)\n",
      "('RT @portadosfundos: \"Não recebeu por WhatsApp? Toda criança a partir de 5 anos agora é propriedade do Estado.\"\\n\\nVÍDEO NOVO | Fake News: htt…',)\n",
      "INSERT INTO amostratweet (codamostra, codtweet) SELECT 122, t.codtweet FROM amostratweet at INNER JOIN tweet t ON t.codtweet = at.codtweet WHERE at.codamostra = 130 AND lower(t.text) like '%crian%' AND lower(t.text) like '%propriedade%' AND lower(t.text) like '%estado%' \n",
      "\n",
      "INSERT INTO amostratweet (codamostra, codtweet) SELECT 123, t.codtweet FROM amostratweet at INNER JOIN tweet t ON t.codtweet = at.codtweet WHERE at.codamostra = 130 AND lower(t.text) like '%crian%' AND lower(t.text) like '%propriedade%' AND lower(t.text) like '%estado%' \n",
      "\n",
      "SELECT count(*) FROM amostratweet WHERE codamostra = 122\n",
      "total 122: 5410\n",
      "\n",
      "SELECT count(*) FROM amostratweet WHERE codamostra = 123\n",
      "total 123: 5410\n"
     ]
    }
   ],
   "source": [
    "filtro = (\n",
    "    \"AND lower(t.text) like '%crian%' \"\n",
    "    \"AND lower(t.text) like '%propriedade%' \"\n",
    "    \"AND lower(t.text) like '%estado%' \"\n",
    ")\n",
    "buscaTweets(filtro, 122, 123)"
   ]
  },
  {
   "cell_type": "markdown",
   "metadata": {},
   "source": [
    "# Notícia 11:\n",
    "\n",
    "Patrícia Pillar desmente meme e diz que nunca sofreu agressão"
   ]
  },
  {
   "cell_type": "code",
   "execution_count": 137,
   "metadata": {},
   "outputs": [
    {
     "name": "stdout",
     "output_type": "stream",
     "text": [
      "DELETE FROM amostratweet WHERE codamostra = 124\n",
      "DELETE FROM amostratweet WHERE codamostra = 125\n",
      "\n",
      "Total de noticias: 35\n",
      "\n",
      "('RT @karinamarigold: @Haddad_Fernando Não apenas contra vc Haddad, aquela história que o @cirogomes batia na Patrícia Pillar tbm foi fruto d…',)\n",
      "('@cirogomes Além do escândalo da agressão a Patricia Pillar e mandar prender um jornalista que te fez uma pergunta,… https://t.co/BdxXUJ0z82',)\n",
      "('RT @eliaxjr: alguns vídeos bônus: Patrícia Pillar desmentindo a fake news de que Ciro batia nela https://t.co/GuPU3LFYMw',)\n",
      "('@alentringer @KomatsuTekila @wallyssonrg @jairbolsonaro A Patricia Pillar nega a agressão: Verdade. Não agrediu\\n\\nEx… https://t.co/KMkJo2MCOb',)\n",
      "('segunda vez que leio hoje essa história de que o ciro batia na patricia pillar. gente, isso é fake!!!! além de já t… https://t.co/o5TS404Hrs',)\n",
      "INSERT INTO amostratweet (codamostra, codtweet) SELECT 124, t.codtweet FROM amostratweet at INNER JOIN tweet t ON t.codtweet = at.codtweet WHERE at.codamostra = 130 AND lower(t.text) like '%pillar%' AND (lower(t.text) like '%batia%' OR lower(t.text) like '%agress%') \n",
      "\n",
      "INSERT INTO amostratweet (codamostra, codtweet) SELECT 125, t.codtweet FROM amostratweet at INNER JOIN tweet t ON t.codtweet = at.codtweet WHERE at.codamostra = 130 AND lower(t.text) like '%pillar%' AND (lower(t.text) like '%batia%' OR lower(t.text) like '%agress%') \n",
      "\n",
      "SELECT count(*) FROM amostratweet WHERE codamostra = 124\n",
      "total 124: 35\n",
      "\n",
      "SELECT count(*) FROM amostratweet WHERE codamostra = 125\n",
      "total 125: 35\n"
     ]
    }
   ],
   "source": [
    "filtro = (\n",
    "    \"AND lower(t.text) like '%pillar%' \"\n",
    "    \"AND (lower(t.text) like '%batia%' \"\n",
    "    \"OR lower(t.text) like '%agress%') \"\n",
    ")\n",
    "buscaTweets(filtro, 124, 125)"
   ]
  },
  {
   "cell_type": "markdown",
   "metadata": {},
   "source": [
    "# Notícia 12:\n",
    "\n",
    "Não é verdade que marido de Marina Silva é 'um dos maiores desmatadores da Amazônia'"
   ]
  },
  {
   "cell_type": "code",
   "execution_count": 138,
   "metadata": {},
   "outputs": [
    {
     "name": "stdout",
     "output_type": "stream",
     "text": [
      "DELETE FROM amostratweet WHERE codamostra = 126\n",
      "DELETE FROM amostratweet WHERE codamostra = 127\n",
      "\n",
      "Total de noticias: 5\n",
      "\n",
      "('Marina, casada com um dos maiores desmatadores da Amazônia ( como Ministra do meio ambiente, consegue as licenças),… https://t.co/D8yabTXjrF',)\n",
      "('QDO MARINA MOGNO AGIU EM FAVOR DO MARIDO DELA, GRANDE GRILEIRO E DESMATADOR, NINGUÉM SE PREOCUPOU?',)\n",
      "('RT @RosaACL: QDO MARINA MOGNO AGIU EM FAVOR DO MARIDO DELA, GRANDE GRILEIRO E DESMATADOR, NINGUÉM SE PREOCUPOU? https://t.co/jfdZGwKBQe',)\n",
      "('RT @RosaACL: QDO MARINA MOGNO AGIU EM FAVOR DO MARIDO DELA, GRANDE GRILEIRO E DESMATADOR, NINGUÉM SE PREOCUPOU? https://t.co/jfdZGwKBQe',)\n",
      "('@andreiarosaaro @bollemdb Marina (casada com o maior desmatador da amazônia e diz proteger o meio ambiente). FHC um… https://t.co/c0AMnmo8AN',)\n",
      "INSERT INTO amostratweet (codamostra, codtweet) SELECT 126, t.codtweet FROM amostratweet at INNER JOIN tweet t ON t.codtweet = at.codtweet WHERE at.codamostra = 130 AND lower(t.text) like '%desmatador%' AND lower(t.text) like '%marina%' \n",
      "\n",
      "INSERT INTO amostratweet (codamostra, codtweet) SELECT 127, t.codtweet FROM amostratweet at INNER JOIN tweet t ON t.codtweet = at.codtweet WHERE at.codamostra = 130 AND lower(t.text) like '%desmatador%' AND lower(t.text) like '%marina%' \n",
      "\n",
      "SELECT count(*) FROM amostratweet WHERE codamostra = 126\n",
      "total 126: 5\n",
      "\n",
      "SELECT count(*) FROM amostratweet WHERE codamostra = 127\n",
      "total 127: 5\n"
     ]
    }
   ],
   "source": [
    "filtro = (\n",
    "    \"AND lower(t.text) like '%desmatador%' \"\n",
    "    \"AND lower(t.text) like '%marina%' \"\n",
    ")\n",
    "buscaTweets(filtro, 126, 127)"
   ]
  },
  {
   "cell_type": "markdown",
   "metadata": {},
   "source": [
    "# Notícia 13:\n",
    "\n",
    "Ciro Gomes não garantiu que vai diminuir salários de médicos; site distorce informações"
   ]
  },
  {
   "cell_type": "code",
   "execution_count": 139,
   "metadata": {},
   "outputs": [
    {
     "name": "stdout",
     "output_type": "stream",
     "text": [
      "DELETE FROM amostratweet WHERE codamostra = 128\n",
      "DELETE FROM amostratweet WHERE codamostra = 129\n",
      "\n",
      "Total de noticias: 1\n",
      "\n",
      "('Acabei de ver Ciro Gomes prometeu baixar os salários dos médicos caso seja eleito? - Clique para ver também ☛… https://t.co/jBRwAftvkk',)\n",
      "INSERT INTO amostratweet (codamostra, codtweet) SELECT 128, t.codtweet FROM amostratweet at INNER JOIN tweet t ON t.codtweet = at.codtweet WHERE at.codamostra = 130 AND lower(t.text) like '%sal%rio%' AND lower(t.text) like '%ciro%' AND ( lower(t.text) like '%médico%' OR lower(t.text) like '%medico%' )\n",
      "\n",
      "INSERT INTO amostratweet (codamostra, codtweet) SELECT 129, t.codtweet FROM amostratweet at INNER JOIN tweet t ON t.codtweet = at.codtweet WHERE at.codamostra = 130 AND lower(t.text) like '%sal%rio%' AND lower(t.text) like '%ciro%' AND ( lower(t.text) like '%médico%' OR lower(t.text) like '%medico%' )\n",
      "\n",
      "SELECT count(*) FROM amostratweet WHERE codamostra = 128\n",
      "total 128: 1\n",
      "\n",
      "SELECT count(*) FROM amostratweet WHERE codamostra = 129\n",
      "total 129: 1\n"
     ]
    }
   ],
   "source": [
    "filtro = (\n",
    "    \"AND lower(t.text) like '%sal%rio%' \"\n",
    "    \"AND lower(t.text) like '%ciro%' \"\n",
    "    \"AND ( lower(t.text) like '%médico%' \"\n",
    "    \"OR lower(t.text) like '%medico%' )\"\n",
    ")\n",
    "buscaTweets(filtro, 128, 129)"
   ]
  },
  {
   "cell_type": "markdown",
   "metadata": {},
   "source": [
    "# Totais:"
   ]
  },
  {
   "cell_type": "code",
   "execution_count": 86,
   "metadata": {},
   "outputs": [
    {
     "data": {
      "text/plain": [
       "[('not01', 1920),\n",
       " ('not02', 9),\n",
       " ('not03', 9199),\n",
       " ('not04', 2130),\n",
       " ('not05', 267),\n",
       " ('not06', 181662),\n",
       " ('not06;not08', 135),\n",
       " ('not06;not10', 2),\n",
       " ('not08', 10580),\n",
       " ('not09', 1110),\n",
       " ('not10', 478),\n",
       " ('not11', 30),\n",
       " ('not12', 1),\n",
       " ('not13', 1)]"
      ]
     },
     "execution_count": 86,
     "metadata": {},
     "output_type": "execute_result"
    }
   ],
   "source": [
    "cmd = (\"SELECT observacao, count(*) \" +\n",
    "       \"FROM public.analisetweet \" +\n",
    "       \"WHERE codanaliseamostra = 121 \" +\n",
    "       \"group by 1 \" +\n",
    "       \"order by 1\")\n",
    "res = query(cmd)\n",
    "res"
   ]
  },
  {
   "cell_type": "code",
   "execution_count": 140,
   "metadata": {},
   "outputs": [
    {
     "data": {
      "text/plain": [
       "[(104, 'Eleições Notícia 01', 4611),\n",
       " (105, 'Eleições Notícia 01 [no similar]', 4611),\n",
       " (106, 'Eleições Notícia 02', 12),\n",
       " (107, 'Eleições Notícia 02 [no similar]', 12),\n",
       " (108, 'Eleições Notícia 03', 9204),\n",
       " (109, 'Eleições Notícia 03 [no similar]', 9204),\n",
       " (110, 'Eleições Notícia 04', 2304),\n",
       " (111, 'Eleições Notícia 04 [no similar]', 2304),\n",
       " (112, 'Eleições Notícia 05', 283),\n",
       " (113, 'Eleições Notícia 05 [no similar]', 283),\n",
       " (114, 'Eleições Notícia 06', 285142),\n",
       " (115, 'Eleições Notícia 06 [no similar]', 285142),\n",
       " (116, 'Eleições Notícia 07', 1682),\n",
       " (117, 'Eleições Notícia 07 [no similar]', 1682),\n",
       " (118, 'Eleições Notícia 08', 15426),\n",
       " (119, 'Eleições Notícia 08 [no similar]', 15426),\n",
       " (120, 'Eleições Notícia 09', 1843),\n",
       " (121, 'Eleições Notícia 09 [no similar]', 1843),\n",
       " (122, 'Eleições Notícia 10', 5410),\n",
       " (123, 'Eleições Notícia 10 [no similar]', 5410),\n",
       " (124, 'Eleições Notícia 11', 35),\n",
       " (125, 'Eleições Notícia 11 [no similar]', 35),\n",
       " (126, 'Eleições Notícia 12', 5),\n",
       " (127, 'Eleições Notícia 12 [no similar]', 5),\n",
       " (128, 'Eleições Notícia 13', 1),\n",
       " (129, 'Eleições Notícia 13 [no similar]', 1)]"
      ]
     },
     "execution_count": 140,
     "metadata": {},
     "output_type": "execute_result"
    }
   ],
   "source": [
    "cmd = (\"select am.codamostra, am.descricao, count(amt.*) \"\n",
    "       \"from amostratweet amt \"\n",
    "       \"inner join amostra am ON amt.codamostra = am.codamostra \"\n",
    "       \"where amt.codamostra in (select codamostra from amostra where descricao like 'Eleições Notícia%') \"\n",
    "       \"group by 1, 2\"\n",
    "       \"order by am.descricao\"\n",
    "      )\n",
    "res = query(cmd)\n",
    "res"
   ]
  },
  {
   "cell_type": "code",
   "execution_count": 92,
   "metadata": {},
   "outputs": [
    {
     "data": {
      "text/plain": [
       "[(104, 'Eleições Notícia 01', 2291),\n",
       " (105, 'Eleições Notícia 01 [no similar]', 168),\n",
       " (106, 'Eleições Notícia 02', 10),\n",
       " (107, 'Eleições Notícia 02 [no similar]', 10),\n",
       " (108, 'Eleições Notícia 03', 9201),\n",
       " (109, 'Eleições Notícia 03 [no similar]', 9201),\n",
       " (110, 'Eleições Notícia 04', 2130),\n",
       " (111, 'Eleições Notícia 04 [no similar]', 2130),\n",
       " (112, 'Eleições Notícia 05', 267),\n",
       " (113, 'Eleições Notícia 05 [no similar]', 267),\n",
       " (114, 'Eleições Notícia 06', 181917),\n",
       " (115, 'Eleições Notícia 06 [no similar]', 181917),\n",
       " (116, 'Eleições Notícia 07', 1650),\n",
       " (117, 'Eleições Notícia 07 [no similar]', 1650),\n",
       " (118, 'Eleições Notícia 08', 10715),\n",
       " (119, 'Eleições Notícia 08 [no similar]', 10715),\n",
       " (120, 'Eleições Notícia 09', 1110),\n",
       " (121, 'Eleições Notícia 09 [no similar]', 1110),\n",
       " (122, 'Eleições Notícia 10', 480),\n",
       " (123, 'Eleições Notícia 10 [no similar]', 480),\n",
       " (124, 'Eleições Notícia 11', 30),\n",
       " (125, 'Eleições Notícia 11 [no similar]', 30),\n",
       " (126, 'Eleições Notícia 12', 1),\n",
       " (127, 'Eleições Notícia 12 [no similar]', 1),\n",
       " (128, 'Eleições Notícia 13', 1),\n",
       " (129, 'Eleições Notícia 13 [no similar]', 1)]"
      ]
     },
     "execution_count": 92,
     "metadata": {},
     "output_type": "execute_result"
    }
   ],
   "source": [
    "cmd = (\"select am.codamostra, am.descricao, count(amt.*) \"\n",
    "       \"from amostratweet amt \"\n",
    "       \"inner join amostra am ON amt.codamostra = am.codamostra \"\n",
    "       \"where amt.codamostra in (select codamostra from amostra where descricao like 'Eleições Notícia%') \"\n",
    "       \"group by 1, 2\"\n",
    "       \"order by am.descricao\"\n",
    "      )\n",
    "res = query(cmd)\n",
    "res"
   ]
  },
  {
   "cell_type": "code",
   "execution_count": 142,
   "metadata": {},
   "outputs": [
    {
     "data": {
      "text/plain": [
       "[(105, 'Eleições Notícia 01 [no similar]', 229),\n",
       " (107, 'Eleições Notícia 02 [no similar]', 8),\n",
       " (109, 'Eleições Notícia 03 [no similar]', 24),\n",
       " (111, 'Eleições Notícia 04 [no similar]', 210),\n",
       " (113, 'Eleições Notícia 05 [no similar]', 46),\n",
       " (115, 'Eleições Notícia 06 [no similar]', 269129),\n",
       " (117, 'Eleições Notícia 07 [no similar]', 43),\n",
       " (119, 'Eleições Notícia 08 [no similar]', 6973),\n",
       " (121, 'Eleições Notícia 09 [no similar]', 347),\n",
       " (123, 'Eleições Notícia 10 [no similar]', 42),\n",
       " (125, 'Eleições Notícia 11 [no similar]', 23),\n",
       " (127, 'Eleições Notícia 12 [no similar]', 3),\n",
       " (129, 'Eleições Notícia 13 [no similar]', 1)]"
      ]
     },
     "execution_count": 142,
     "metadata": {},
     "output_type": "execute_result"
    }
   ],
   "source": [
    "cmd = (\"select am.codamostra, am.descricao, count(amt.*) \"\n",
    "       \"from amostratweet amt \"\n",
    "       \"inner join amostra am ON amt.codamostra = am.codamostra \"\n",
    "       \"where amt.codamostra in (select codamostra from amostra where descricao like 'Eleições Notícia%similar]') \"\n",
    "       \"group by 1, 2\"\n",
    "       \"order by am.descricao\"\n",
    "      )\n",
    "res = query(cmd)\n",
    "res"
   ]
  },
  {
   "cell_type": "code",
   "execution_count": 141,
   "metadata": {},
   "outputs": [
    {
     "data": {
      "text/plain": [
       "[(105, 'Eleições Notícia 01 [no similar]', 4611),\n",
       " (107, 'Eleições Notícia 02 [no similar]', 12),\n",
       " (109, 'Eleições Notícia 03 [no similar]', 9204),\n",
       " (111, 'Eleições Notícia 04 [no similar]', 2304),\n",
       " (113, 'Eleições Notícia 05 [no similar]', 283),\n",
       " (115, 'Eleições Notícia 06 [no similar]', 285142),\n",
       " (117, 'Eleições Notícia 07 [no similar]', 1682),\n",
       " (119, 'Eleições Notícia 08 [no similar]', 15426),\n",
       " (121, 'Eleições Notícia 09 [no similar]', 1843),\n",
       " (123, 'Eleições Notícia 10 [no similar]', 5410),\n",
       " (125, 'Eleições Notícia 11 [no similar]', 35),\n",
       " (127, 'Eleições Notícia 12 [no similar]', 5),\n",
       " (129, 'Eleições Notícia 13 [no similar]', 1)]"
      ]
     },
     "execution_count": 141,
     "metadata": {},
     "output_type": "execute_result"
    }
   ],
   "source": [
    "cmd = (\"select am.codamostra, am.descricao, count(amt.*) \"\n",
    "       \"from amostratweet amt \"\n",
    "       \"inner join amostra am ON amt.codamostra = am.codamostra \"\n",
    "       \"where amt.codamostra in (select codamostra from amostra where descricao like 'Eleições Notícia%similar]') \"\n",
    "       \"group by 1, 2\"\n",
    "       \"order by am.descricao\"\n",
    "      )\n",
    "res = query(cmd)\n",
    "res"
   ]
  },
  {
   "cell_type": "code",
   "execution_count": 102,
   "metadata": {},
   "outputs": [
    {
     "data": {
      "text/plain": [
       "[('Eleições Notícia 01', 2291),\n",
       " ('Eleições Notícia 02', 10),\n",
       " ('Eleições Notícia 03', 9201),\n",
       " ('Eleições Notícia 04', 2130),\n",
       " ('Eleições Notícia 05', 267),\n",
       " ('Eleições Notícia 06', 181917),\n",
       " ('Eleições Notícia 07', 1650),\n",
       " ('Eleições Notícia 08', 10715),\n",
       " ('Eleições Notícia 09', 1110),\n",
       " ('Eleições Notícia 10', 480),\n",
       " ('Eleições Notícia 11', 30),\n",
       " ('Eleições Notícia 12', 1),\n",
       " ('Eleições Notícia 13', 1)]"
      ]
     },
     "execution_count": 102,
     "metadata": {},
     "output_type": "execute_result"
    }
   ],
   "source": [
    "cmd = (\"select am.descricao, count(amt.*) \"\n",
    "       \"from amostratweet amt \"\n",
    "       \"inner join amostra am ON amt.codamostra = am.codamostra \"\n",
    "       \"where amt.codamostra in (\"\n",
    "       \"select codamostra from amostra \"\n",
    "       \"where descricao like 'Eleições Notícia%' and descricao not like '%similar%' ) \"\n",
    "       \"group by 1\"\n",
    "       \"order by am.descricao\"\n",
    "      )\n",
    "res = query(cmd)\n",
    "res"
   ]
  },
  {
   "cell_type": "code",
   "execution_count": null,
   "metadata": {},
   "outputs": [],
   "source": []
  }
 ],
 "metadata": {
  "kernelspec": {
   "display_name": "Python 3",
   "language": "python",
   "name": "python3"
  },
  "language_info": {
   "codemirror_mode": {
    "name": "ipython",
    "version": 3
   },
   "file_extension": ".py",
   "mimetype": "text/x-python",
   "name": "python",
   "nbconvert_exporter": "python",
   "pygments_lexer": "ipython3",
   "version": "3.5.3"
  }
 },
 "nbformat": 4,
 "nbformat_minor": 2
}
