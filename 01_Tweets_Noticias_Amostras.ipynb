{
 "cells": [
  {
   "cell_type": "markdown",
   "metadata": {},
   "source": [
    "# Notícias e Tweets Eleições: gerando amostras"
   ]
  },
  {
   "cell_type": "code",
   "execution_count": 2,
   "metadata": {},
   "outputs": [
    {
     "name": "stdout",
     "output_type": "stream",
     "text": [
      "postgres functions loaded...\n"
     ]
    }
   ],
   "source": [
    "import ipy_table\n",
    "import re\n",
    "%run ../aux/postgres.py"
   ]
  },
  {
   "cell_type": "code",
   "execution_count": 55,
   "metadata": {},
   "outputs": [
    {
     "name": "stdout",
     "output_type": "stream",
     "text": [
      "insert into amostra (descricao) values ('Eleições Notícia 01 [no RTs]');\n",
      "insert into amostra (descricao) values ('Eleições Notícia 02 [no RTs]');\n",
      "insert into amostra (descricao) values ('Eleições Notícia 03 [no RTs]');\n",
      "insert into amostra (descricao) values ('Eleições Notícia 04 [no RTs]');\n",
      "insert into amostra (descricao) values ('Eleições Notícia 05 [no RTs]');\n",
      "insert into amostra (descricao) values ('Eleições Notícia 06 [no RTs]');\n",
      "insert into amostra (descricao) values ('Eleições Notícia 07 [no RTs]');\n",
      "insert into amostra (descricao) values ('Eleições Notícia 08 [no RTs]');\n",
      "insert into amostra (descricao) values ('Eleições Notícia 09 [no RTs]');\n",
      "insert into amostra (descricao) values ('Eleições Notícia 10 [no RTs]');\n",
      "insert into amostra (descricao) values ('Eleições Notícia 11 [no RTs]');\n",
      "insert into amostra (descricao) values ('Eleições Notícia 12 [no RTs]');\n",
      "insert into amostra (descricao) values ('Eleições Notícia 13 [no RTs]');\n",
      "insert into amostra (descricao) values ('Eleições Notícia 14 [no RTs]');\n",
      "insert into amostra (descricao) values ('Eleições Notícia 15 [no RTs]');\n"
     ]
    }
   ],
   "source": [
    "for x in range(1,16):\n",
    "    a = str(x).rjust(2, '0')\n",
    "    desc = 'insert into amostra (descricao) values (\\'Eleições Notícia '+ a + ' [no RTs]\\');'\n",
    "    print(desc)\n",
    "    \n",
    "#Eleições Notícia 01 [no similar]"
   ]
  },
  {
   "cell_type": "code",
   "execution_count": 58,
   "metadata": {},
   "outputs": [
    {
     "data": {
      "text/plain": [
       "[(155, 'Eleições Notícia 01 [no RTs]'),\n",
       " (156, 'Eleições Notícia 02 [no RTs]'),\n",
       " (157, 'Eleições Notícia 03 [no RTs]'),\n",
       " (158, 'Eleições Notícia 04 [no RTs]'),\n",
       " (159, 'Eleições Notícia 05 [no RTs]'),\n",
       " (160, 'Eleições Notícia 06 [no RTs]'),\n",
       " (161, 'Eleições Notícia 07 [no RTs]'),\n",
       " (162, 'Eleições Notícia 08 [no RTs]'),\n",
       " (163, 'Eleições Notícia 09 [no RTs]'),\n",
       " (164, 'Eleições Notícia 10 [no RTs]'),\n",
       " (165, 'Eleições Notícia 11 [no RTs]'),\n",
       " (166, 'Eleições Notícia 12 [no RTs]'),\n",
       " (167, 'Eleições Notícia 13 [no RTs]'),\n",
       " (168, 'Eleições Notícia 14 [no RTs]'),\n",
       " (169, 'Eleições Notícia 15 [no RTs]')]"
      ]
     },
     "execution_count": 58,
     "metadata": {},
     "output_type": "execute_result"
    }
   ],
   "source": [
    "cmd = \"select codamostra, descricao from amostra where descricao like 'Eleições Notícia%RT%' order by descricao\"\n",
    "res = query(cmd)\n",
    "res"
   ]
  },
  {
   "cell_type": "code",
   "execution_count": 81,
   "metadata": {},
   "outputs": [],
   "source": [
    "def buscaTweets(filtro, cod1, cod2, cod3, onlyVerify=False):\n",
    "    cod1 = str(cod1)\n",
    "    cod2 = str(cod2)\n",
    "    cod3 = str(cod3)\n",
    "    \n",
    "    cmd = \"select codamostra, descricao from amostra where codamostra = \" + cod1\n",
    "    res = query(cmd)\n",
    "    print(res)\n",
    "\n",
    "    cmd = \"select codamostra, descricao from amostra where codamostra = \" + cod2\n",
    "    res = query(cmd)\n",
    "    print(res)\n",
    "\n",
    "    cmd = \"select codamostra, descricao from amostra where codamostra = \" + cod3\n",
    "    res = query(cmd)\n",
    "    print(res)\n",
    "    \n",
    "    cmd = \"DELETE FROM amostratweet WHERE codamostra = \" + cod1\n",
    "    print(cmd)\n",
    "    execSQL(cmd)\n",
    "    \n",
    "    cmd = \"DELETE FROM amostratweet WHERE codamostra = \" + cod2\n",
    "    print(cmd)\n",
    "    execSQL(cmd)\n",
    "\n",
    "    cmd = \"DELETE FROM amostratweet WHERE codamostra = \" + cod3\n",
    "    print(cmd)\n",
    "    execSQL(cmd)\n",
    "    print(\"\")\n",
    "\n",
    "    cmd = (\"SELECT COUNT(*) \" +\n",
    "           \"FROM amostratweet at \" +\n",
    "           \"INNER JOIN tweet t ON t.codtweet = at.codtweet \" +\n",
    "           \"WHERE at.codamostra = 130 \" +\n",
    "           filtro\n",
    "          )\n",
    "    count = query(cmd)\n",
    "    print(\"Total de noticias: %s\\n\" % count[0])\n",
    "\n",
    "    cmd = (\"SELECT t.codtweet, t.text \" +\n",
    "           \"FROM amostratweet at \" +\n",
    "           \"INNER JOIN tweet t ON t.codtweet = at.codtweet \" +\n",
    "           \"WHERE at.codamostra = 130 \" +\n",
    "           filtro +\n",
    "           \"LIMIT 5\")\n",
    "    tws = query(cmd)\n",
    "\n",
    "    print('Exemplos de tweets:')\n",
    "    for tw in tws:\n",
    "        print(tw)\n",
    "        print('---')\n",
    "    \n",
    "    if onlyVerify:\n",
    "        return\n",
    "    # gerando amostra\n",
    "   \n",
    "    \n",
    "    #execSQL(cmd)\n",
    "    try:\n",
    "        cmd = (\"INSERT INTO amostratweet (codamostra, codtweet) \" +\n",
    "               \"SELECT \" + cod1 + \", t.codtweet \" +\n",
    "               \"FROM amostratweet at \" +\n",
    "               \"INNER JOIN tweet t ON t.codtweet = at.codtweet \" +\n",
    "               \"WHERE at.codamostra = 130 \" +\n",
    "               filtro )\n",
    "        print(cmd+\"\\n\")\n",
    "        execSQL(cmd)\n",
    "    except psycopg2.IntegrityError as e:\n",
    "        print(e)\n",
    "\n",
    "    try:\n",
    "        cmd = (\"INSERT INTO amostratweet (codamostra, codtweet) \" +\n",
    "               \"SELECT \" + cod2 + \", t.codtweet \" +\n",
    "               \"FROM amostratweet at \" +\n",
    "               \"INNER JOIN tweet t ON t.codtweet = at.codtweet \" +\n",
    "               \"WHERE at.codamostra = 130 \" +\n",
    "               \"AND lower(t.text) NOT LIKE 'rt %' \" +\n",
    "               filtro )\n",
    "        print(cmd+\"\\n\")\n",
    "        execSQL(cmd)    \n",
    "    except psycopg2.IntegrityError as e:\n",
    "        print(e)\n",
    "\n",
    "    try:\n",
    "        cmd = (\"INSERT INTO amostratweet (codamostra, codtweet) \" +\n",
    "               \"SELECT \" + cod3 + \", t.codtweet \" +\n",
    "               \"FROM amostratweet at \" +\n",
    "               \"INNER JOIN tweet t ON t.codtweet = at.codtweet \" +\n",
    "               \"WHERE at.codamostra = 130 \" +\n",
    "               \"AND lower(t.text) NOT LIKE 'rt %' \" +\n",
    "               filtro )\n",
    "        print(cmd+\"\\n\")\n",
    "        execSQL(cmd)    \n",
    "    except psycopg2.IntegrityError as e:\n",
    "        print(e)\n",
    "        \n",
    "    print(\"\")\n",
    "    cmd = \"SELECT count(*) FROM amostratweet WHERE codamostra = \" + str(cod1)\n",
    "    print(cmd)\n",
    "    total = query(cmd)\n",
    "    print(\"total amostra %s: %s\" % (cod1, total[0][0]))\n",
    "\n",
    "    cmd = \"SELECT count(*) FROM amostratweet WHERE codamostra = \" + str(cod2)\n",
    "    print(cmd)\n",
    "    total = query(cmd)\n",
    "    print(\"total amostra %s: %s\" % (cod2, total[0][0]))\n",
    "\n",
    "    cmd = \"SELECT count(*) FROM amostratweet WHERE codamostra = \" + str(cod3)\n",
    "    print(cmd)\n",
    "    total = query(cmd)\n",
    "    print(\"total amostra %s: %s\" % (cod3, total[0][0]))    "
   ]
  },
  {
   "cell_type": "markdown",
   "metadata": {},
   "source": [
    "# Notícia 01:\n",
    "\n",
    "É falsa a inscrição preconceituosa sobre nordestinos em camisa de filho de Bolsonaro"
   ]
  },
  {
   "cell_type": "code",
   "execution_count": 82,
   "metadata": {},
   "outputs": [
    {
     "name": "stdout",
     "output_type": "stream",
     "text": [
      "[(104, 'Eleições Notícia 01')]\n",
      "[(105, 'Eleições Notícia 01 [no similar]')]\n",
      "[(155, 'Eleições Notícia 01 [no RTs]')]\n",
      "DELETE FROM amostratweet WHERE codamostra = 104\n",
      "DELETE FROM amostratweet WHERE codamostra = 105\n",
      "DELETE FROM amostratweet WHERE codamostra = 155\n",
      "\n",
      "Total de noticias: 5009\n",
      "\n",
      "Exemplos de tweets:\n",
      "(179967828, 'RT @MajiwkiJacques: Não vejo camisas do @Haddad_Fernando, adesivos nos carros, pessoas fazendo manifestações, e olha q sou do Nordeste, com…')\n",
      "---\n",
      "(179997552, 'RT @MajiwkiJacques: Não vejo camisas do @Haddad_Fernando, adesivos nos carros, pessoas fazendo manifestações, e olha q sou do Nordeste, com…')\n",
      "---\n",
      "(180508906, 'RT @MajiwkiJacques: Não vejo camisas do @Haddad_Fernando, adesivos nos carros, pessoas fazendo manifestações, e olha q sou do Nordeste, com…')\n",
      "---\n",
      "(152946266, 'RT @camisanumero7: Vocês sabem qual região do Brasil mais se beneficiará com a eleição de @jairbolsonaro ?\\n\\nSim, O NORDESTE !!!\\n\\nRegião com…')\n",
      "---\n",
      "(152982095, 'RT @camisanumero7: Vocês sabem qual região do Brasil mais se beneficiará com a eleição de @jairbolsonaro ?\\n\\nSim, O NORDESTE !!!\\n\\nRegião com…')\n",
      "---\n",
      "INSERT INTO amostratweet (codamostra, codtweet) SELECT 104, t.codtweet FROM amostratweet at INNER JOIN tweet t ON t.codtweet = at.codtweet WHERE at.codamostra = 130 AND lower(t.text) like '%camisa%' AND lower(t.text) like '%nordest%' \n",
      "\n",
      "INSERT INTO amostratweet (codamostra, codtweet) SELECT 105, t.codtweet FROM amostratweet at INNER JOIN tweet t ON t.codtweet = at.codtweet WHERE at.codamostra = 130 AND lower(t.text) NOT LIKE 'rt %' AND lower(t.text) like '%camisa%' AND lower(t.text) like '%nordest%' \n",
      "\n",
      "INSERT INTO amostratweet (codamostra, codtweet) SELECT 155, t.codtweet FROM amostratweet at INNER JOIN tweet t ON t.codtweet = at.codtweet WHERE at.codamostra = 130 AND lower(t.text) NOT LIKE 'rt %' AND lower(t.text) like '%camisa%' AND lower(t.text) like '%nordest%' \n",
      "\n",
      "\n",
      "SELECT count(*) FROM amostratweet WHERE codamostra = 104\n",
      "total amostra 104: 5009\n",
      "SELECT count(*) FROM amostratweet WHERE codamostra = 105\n",
      "total amostra 105: 678\n",
      "SELECT count(*) FROM amostratweet WHERE codamostra = 155\n",
      "total amostra 155: 678\n"
     ]
    }
   ],
   "source": [
    "filtro = (\n",
    "    \"AND lower(t.text) like '%camisa%' \"\n",
    "    \"AND lower(t.text) like '%nordest%' \"\n",
    ")\n",
    "buscaTweets(filtro, 104, 105, 155)"
   ]
  },
  {
   "cell_type": "markdown",
   "metadata": {},
   "source": [
    "# Notícia 02:\n",
    "\n",
    "\\#Verificamos: Bolsonaro não disse que ‘paciente com câncer custa caro para o Estado’ e que vai ‘cortar essa farra’"
   ]
  },
  {
   "cell_type": "code",
   "execution_count": 83,
   "metadata": {},
   "outputs": [
    {
     "name": "stdout",
     "output_type": "stream",
     "text": [
      "[(106, 'Eleições Notícia 02')]\n",
      "[(107, 'Eleições Notícia 02 [no similar]')]\n",
      "[(156, 'Eleições Notícia 02 [no RTs]')]\n",
      "DELETE FROM amostratweet WHERE codamostra = 106\n",
      "DELETE FROM amostratweet WHERE codamostra = 107\n",
      "DELETE FROM amostratweet WHERE codamostra = 156\n",
      "\n",
      "Total de noticias: 23\n",
      "\n",
      "Exemplos de tweets:\n",
      "(156085987, '@efarsas Precisamos cortar a \"farra do fake news\"... isso virou um câncer.')\n",
      "---\n",
      "(156577027, '[Agência Lupa] Bolsonaro não disse que ‘paciente com câncer custa caro para o Estado’ e que vai ‘cortar essa farra’ https://t.co/Jsi6FZYcH0')\n",
      "---\n",
      "(156767395, 'Câncer e Aids são farras?????Onde vamos parar com esse coiso, cada dia mais louco?. AFF!!!!')\n",
      "---\n",
      "(156782374, 'RT @Amarulacarvalho: Câncer e Aids são farras?????Onde vamos parar com esse coiso, cada dia mais louco?. AFF!!!! https://t.co/fxOYKrlUJV')\n",
      "---\n",
      "(157037037, '01 - Bolsonaro não disse que ‘paciente com câncer custa caro para o Estado’ e que vai ‘cortar essa farra’\\nhttps://t.co/6P5X3Hhgx6')\n",
      "---\n",
      "INSERT INTO amostratweet (codamostra, codtweet) SELECT 106, t.codtweet FROM amostratweet at INNER JOIN tweet t ON t.codtweet = at.codtweet WHERE at.codamostra = 130 AND lower(t.text) like '%farra%' AND (lower(t.text) like '%câncer%' OR lower(t.text) like '%cancer%') \n",
      "\n",
      "INSERT INTO amostratweet (codamostra, codtweet) SELECT 107, t.codtweet FROM amostratweet at INNER JOIN tweet t ON t.codtweet = at.codtweet WHERE at.codamostra = 130 AND lower(t.text) NOT LIKE 'rt %' AND lower(t.text) like '%farra%' AND (lower(t.text) like '%câncer%' OR lower(t.text) like '%cancer%') \n",
      "\n",
      "INSERT INTO amostratweet (codamostra, codtweet) SELECT 156, t.codtweet FROM amostratweet at INNER JOIN tweet t ON t.codtweet = at.codtweet WHERE at.codamostra = 130 AND lower(t.text) NOT LIKE 'rt %' AND lower(t.text) like '%farra%' AND (lower(t.text) like '%câncer%' OR lower(t.text) like '%cancer%') \n",
      "\n",
      "\n",
      "SELECT count(*) FROM amostratweet WHERE codamostra = 106\n",
      "total amostra 106: 23\n",
      "SELECT count(*) FROM amostratweet WHERE codamostra = 107\n",
      "total amostra 107: 21\n",
      "SELECT count(*) FROM amostratweet WHERE codamostra = 156\n",
      "total amostra 156: 21\n"
     ]
    }
   ],
   "source": [
    "filtro = (\n",
    "    \"AND lower(t.text) like '%farra%' \"\n",
    "    \"AND (lower(t.text) like '%câncer%' OR lower(t.text) like '%cancer%') \"\n",
    ")\n",
    "buscaTweets(filtro, 106, 107, 156)"
   ]
  },
  {
   "cell_type": "markdown",
   "metadata": {},
   "source": [
    "# Notícia 14: (substituir notícia 02)\n",
    "\n",
    "\\#Verificamos: General Mourão não foi torturador na ditadura militar"
   ]
  },
  {
   "cell_type": "code",
   "execution_count": 84,
   "metadata": {},
   "outputs": [
    {
     "name": "stdout",
     "output_type": "stream",
     "text": [
      "[(151, 'Eleições Notícia 14')]\n",
      "[(152, 'Eleições Notícia 14 [no similar]')]\n",
      "[(168, 'Eleições Notícia 14 [no RTs]')]\n",
      "DELETE FROM amostratweet WHERE codamostra = 151\n",
      "DELETE FROM amostratweet WHERE codamostra = 152\n",
      "DELETE FROM amostratweet WHERE codamostra = 168\n",
      "\n",
      "Total de noticias: 26011\n",
      "\n",
      "Exemplos de tweets:\n",
      "(180025730, 'RT @MelroseGuedes: @Haddad_Fernando falou o Pai da Fake News\\nSuástica, Mestre Môa, Caixa 2 Watts Zap, Mourão Torturador etc....\\n\\n PROMESSAS…')\n",
      "---\n",
      "(144766187, 'RT @cirogomes: Bolsonaro defende o torturador Brilhante Ustra. Seu vice, Mourão, também defende torturadores. Agora, seu filho, faz apologi…')\n",
      "---\n",
      "(144768317, 'RT @cirogomes: Bolsonaro defende o torturador Brilhante Ustra. Seu vice, Mourão, também defende torturadores. Agora, seu filho, faz apologi…')\n",
      "---\n",
      "(144782311, 'RT @cirogomes: Bolsonaro defende o torturador Brilhante Ustra. Seu vice, Mourão, também defende torturadores. Agora, seu filho, faz apologi…')\n",
      "---\n",
      "(180344606, 'RT @GustavoRezende: O candidato do PT é moleque. \\n\\nEncheu a boca pra acusar e chamar de FATO a história do Mourão ser torturador. 10 segund…')\n",
      "---\n",
      "INSERT INTO amostratweet (codamostra, codtweet) SELECT 151, t.codtweet FROM amostratweet at INNER JOIN tweet t ON t.codtweet = at.codtweet WHERE at.codamostra = 130 AND lower(t.text) like '%torturador%' AND lower(t.text) like '%mourão%' \n",
      "\n",
      "INSERT INTO amostratweet (codamostra, codtweet) SELECT 152, t.codtweet FROM amostratweet at INNER JOIN tweet t ON t.codtweet = at.codtweet WHERE at.codamostra = 130 AND lower(t.text) NOT LIKE 'rt %' AND lower(t.text) like '%torturador%' AND lower(t.text) like '%mourão%' \n",
      "\n",
      "INSERT INTO amostratweet (codamostra, codtweet) SELECT 168, t.codtweet FROM amostratweet at INNER JOIN tweet t ON t.codtweet = at.codtweet WHERE at.codamostra = 130 AND lower(t.text) NOT LIKE 'rt %' AND lower(t.text) like '%torturador%' AND lower(t.text) like '%mourão%' \n",
      "\n",
      "\n",
      "SELECT count(*) FROM amostratweet WHERE codamostra = 151\n",
      "total amostra 151: 26011\n",
      "SELECT count(*) FROM amostratweet WHERE codamostra = 152\n",
      "total amostra 152: 3024\n",
      "SELECT count(*) FROM amostratweet WHERE codamostra = 168\n",
      "total amostra 168: 3024\n"
     ]
    }
   ],
   "source": [
    "filtro = (\n",
    "    \"AND lower(t.text) like '%torturador%' \"\n",
    "    \"AND lower(t.text) like '%mourão%' \"\n",
    ")\n",
    "buscaTweets(filtro, 151, 152, 168)"
   ]
  },
  {
   "cell_type": "markdown",
   "metadata": {},
   "source": [
    "# Notícia 15: (substituir notícia 02)\n",
    "\n",
    "Operação Greenfield não investiga dinheiro da campanha de Bolsonaro... - Veja mais em https://noticias.uol.com.br/comprova/ultimas-noticias/2018/10/18/operacao-greenfield-nao-investiga-dinheiro-da-campanha-de-bolsonaro.htm?cmpid=copiaecola"
   ]
  },
  {
   "cell_type": "code",
   "execution_count": 85,
   "metadata": {},
   "outputs": [
    {
     "name": "stdout",
     "output_type": "stream",
     "text": [
      "[(153, 'Eleições Notícia 15')]\n",
      "[(154, 'Eleições Notícia 15 [no similar]')]\n",
      "[(169, 'Eleições Notícia 15 [no RTs]')]\n",
      "DELETE FROM amostratweet WHERE codamostra = 153\n",
      "DELETE FROM amostratweet WHERE codamostra = 154\n",
      "DELETE FROM amostratweet WHERE codamostra = 169\n",
      "\n",
      "Total de noticias: 543\n",
      "\n",
      "Exemplos de tweets:\n",
      "(180599752, 'RT @JotaInfo: Operação Greenfield abre investigação contra Paulo Guedes. Apuração sobre guru econômico de Bolsonaro envolve gestão temerári…')\n",
      "---\n",
      "(180599756, 'RT @JotaInfo: Operação Greenfield abre investigação contra Paulo Guedes. Apuração sobre guru econômico de Bolsonaro envolve gestão temerári…')\n",
      "---\n",
      "(180599818, 'RT @JotaInfo: Operação Greenfield abre investigação contra Paulo Guedes. Apuração sobre guru econômico de Bolsonaro envolve gestão temerári…')\n",
      "---\n",
      "(180693379, 'RT @JotaInfo: Operação Greenfield abre investigação contra Paulo Guedes. Apuração sobre guru econômico de Bolsonaro envolve gestão temerári…')\n",
      "---\n",
      "(180967743, 'RT @JotaInfo: Operação Greenfield abre investigação contra Paulo Guedes. Apuração sobre guru econômico de Bolsonaro envolve gestão temerári…')\n",
      "---\n",
      "INSERT INTO amostratweet (codamostra, codtweet) SELECT 153, t.codtweet FROM amostratweet at INNER JOIN tweet t ON t.codtweet = at.codtweet WHERE at.codamostra = 130 AND lower(t.text) like '%greenfield%' \n",
      "\n",
      "INSERT INTO amostratweet (codamostra, codtweet) SELECT 154, t.codtweet FROM amostratweet at INNER JOIN tweet t ON t.codtweet = at.codtweet WHERE at.codamostra = 130 AND lower(t.text) NOT LIKE 'rt %' AND lower(t.text) like '%greenfield%' \n",
      "\n",
      "INSERT INTO amostratweet (codamostra, codtweet) SELECT 169, t.codtweet FROM amostratweet at INNER JOIN tweet t ON t.codtweet = at.codtweet WHERE at.codamostra = 130 AND lower(t.text) NOT LIKE 'rt %' AND lower(t.text) like '%greenfield%' \n",
      "\n",
      "\n",
      "SELECT count(*) FROM amostratweet WHERE codamostra = 153\n",
      "total amostra 153: 543\n",
      "SELECT count(*) FROM amostratweet WHERE codamostra = 154\n",
      "total amostra 154: 98\n",
      "SELECT count(*) FROM amostratweet WHERE codamostra = 169\n",
      "total amostra 169: 98\n"
     ]
    }
   ],
   "source": [
    "filtro = (\n",
    "    \"AND lower(t.text) like '%greenfield%' \"\n",
    ")\n",
    "buscaTweets(filtro, 153, 154, 169)"
   ]
  },
  {
   "cell_type": "markdown",
   "metadata": {},
   "source": [
    "# Notícia 03:\n",
    "\n",
    "Post com propostas atribuídas a Bolsonaro mistura informações falsas e verdadeiras"
   ]
  },
  {
   "cell_type": "code",
   "execution_count": 86,
   "metadata": {},
   "outputs": [
    {
     "name": "stdout",
     "output_type": "stream",
     "text": [
      "[(108, 'Eleições Notícia 03')]\n",
      "[(109, 'Eleições Notícia 03 [no similar]')]\n",
      "[(157, 'Eleições Notícia 03 [no RTs]')]\n",
      "DELETE FROM amostratweet WHERE codamostra = 108\n",
      "DELETE FROM amostratweet WHERE codamostra = 109\n",
      "DELETE FROM amostratweet WHERE codamostra = 157\n",
      "\n",
      "Total de noticias: 9233\n",
      "\n",
      "Exemplos de tweets:\n",
      "(148756561, 'RT @cinefilo_K: PROPOSTAS DE BOLSONARO\\n- Fim do 13º e férias\\n- Redução da licença maternidade\\n- IR igual pra ricos e POBRES\\n- Volta da CPMF…')\n",
      "---\n",
      "(148770326, 'RT @cinefilo_K: PROPOSTAS DE BOLSONARO\\n- Fim do 13º e férias\\n- Redução da licença maternidade\\n- IR igual pra ricos e POBRES\\n- Volta da CPMF…')\n",
      "---\n",
      "(148770702, 'RT @cinefilo_K: PROPOSTAS DE BOLSONARO\\n- Fim do 13º e férias\\n- Redução da licença maternidade\\n- IR igual pra ricos e POBRES\\n- Volta da CPMF…')\n",
      "---\n",
      "(148774590, 'RT @cinefilo_K: PROPOSTAS DE BOLSONARO\\n- Fim do 13º e férias\\n- Redução da licença maternidade\\n- IR igual pra ricos e POBRES\\n- Volta da CPMF…')\n",
      "---\n",
      "(148782233, 'RT @cinefilo_K: PROPOSTAS DE BOLSONARO\\n- Fim do 13º e férias\\n- Redução da licença maternidade\\n- IR igual pra ricos e POBRES\\n- Volta da CPMF…')\n",
      "---\n",
      "INSERT INTO amostratweet (codamostra, codtweet) SELECT 108, t.codtweet FROM amostratweet at INNER JOIN tweet t ON t.codtweet = at.codtweet WHERE at.codamostra = 130 AND lower(t.text) like '%propostas%' AND lower(t.text) like '%bolsonaro%' AND lower(t.text) like '%fim%' AND lower(t.text) like '%maternidade%' \n",
      "\n",
      "INSERT INTO amostratweet (codamostra, codtweet) SELECT 109, t.codtweet FROM amostratweet at INNER JOIN tweet t ON t.codtweet = at.codtweet WHERE at.codamostra = 130 AND lower(t.text) NOT LIKE 'rt %' AND lower(t.text) like '%propostas%' AND lower(t.text) like '%bolsonaro%' AND lower(t.text) like '%fim%' AND lower(t.text) like '%maternidade%' \n",
      "\n",
      "INSERT INTO amostratweet (codamostra, codtweet) SELECT 157, t.codtweet FROM amostratweet at INNER JOIN tweet t ON t.codtweet = at.codtweet WHERE at.codamostra = 130 AND lower(t.text) NOT LIKE 'rt %' AND lower(t.text) like '%propostas%' AND lower(t.text) like '%bolsonaro%' AND lower(t.text) like '%fim%' AND lower(t.text) like '%maternidade%' \n",
      "\n",
      "\n",
      "SELECT count(*) FROM amostratweet WHERE codamostra = 108\n",
      "total amostra 108: 9233\n",
      "SELECT count(*) FROM amostratweet WHERE codamostra = 109\n",
      "total amostra 109: 151\n",
      "SELECT count(*) FROM amostratweet WHERE codamostra = 157\n",
      "total amostra 157: 151\n"
     ]
    }
   ],
   "source": [
    "filtro = (\n",
    "    \"AND lower(t.text) like '%propostas%' \"\n",
    "    \"AND lower(t.text) like '%bolsonaro%' \"\n",
    "    \"AND lower(t.text) like '%fim%' \"\n",
    "    \"AND lower(t.text) like '%maternidade%' \"\n",
    ")\n",
    "buscaTweets(filtro, 108, 109, 157)"
   ]
  },
  {
   "cell_type": "markdown",
   "metadata": {},
   "source": [
    "# Notícia 04:\n",
    "\n",
    "General Mourão não propôs o confisco da poupança"
   ]
  },
  {
   "cell_type": "code",
   "execution_count": 87,
   "metadata": {},
   "outputs": [
    {
     "name": "stdout",
     "output_type": "stream",
     "text": [
      "[(110, 'Eleições Notícia 04')]\n",
      "[(111, 'Eleições Notícia 04 [no similar]')]\n",
      "[(158, 'Eleições Notícia 04 [no RTs]')]\n",
      "DELETE FROM amostratweet WHERE codamostra = 110\n",
      "DELETE FROM amostratweet WHERE codamostra = 111\n",
      "DELETE FROM amostratweet WHERE codamostra = 158\n",
      "\n",
      "Total de noticias: 2452\n",
      "\n",
      "Exemplos de tweets:\n",
      "(148778945, 'RT @HenriqueFontana: URGENTE! Mourão, vice do Bolsonaro, também propõe confisco da poupança https://t.co/HIg2N07NLT')\n",
      "---\n",
      "(149287923, 'RT @folha: Não é verdade que general Mourão, vice de Bolsonaro, propôs o confisco da poupança https://t.co/NJEVZe3Imn')\n",
      "---\n",
      "(149288275, 'RT @folha: Não é verdade que general Mourão, vice de Bolsonaro, propôs o confisco da poupança https://t.co/NJEVZe3Imn')\n",
      "---\n",
      "(149292736, 'RT @folha: Não é verdade que general Mourão, vice de Bolsonaro, propôs o confisco da poupança https://t.co/NJEVZe3Imn')\n",
      "---\n",
      "(149296307, 'RT @folha: Não é verdade que general Mourão, vice de Bolsonaro, propôs o confisco da poupança https://t.co/NJEVZe3Imn')\n",
      "---\n",
      "INSERT INTO amostratweet (codamostra, codtweet) SELECT 110, t.codtweet FROM amostratweet at INNER JOIN tweet t ON t.codtweet = at.codtweet WHERE at.codamostra = 130 AND lower(t.text) like '%confisco%' AND lower(t.text) like '%poupan%' \n",
      "\n",
      "INSERT INTO amostratweet (codamostra, codtweet) SELECT 111, t.codtweet FROM amostratweet at INNER JOIN tweet t ON t.codtweet = at.codtweet WHERE at.codamostra = 130 AND lower(t.text) NOT LIKE 'rt %' AND lower(t.text) like '%confisco%' AND lower(t.text) like '%poupan%' \n",
      "\n",
      "INSERT INTO amostratweet (codamostra, codtweet) SELECT 158, t.codtweet FROM amostratweet at INNER JOIN tweet t ON t.codtweet = at.codtweet WHERE at.codamostra = 130 AND lower(t.text) NOT LIKE 'rt %' AND lower(t.text) like '%confisco%' AND lower(t.text) like '%poupan%' \n",
      "\n",
      "\n",
      "SELECT count(*) FROM amostratweet WHERE codamostra = 110\n",
      "total amostra 110: 2452\n",
      "SELECT count(*) FROM amostratweet WHERE codamostra = 111\n",
      "total amostra 111: 440\n",
      "SELECT count(*) FROM amostratweet WHERE codamostra = 158\n",
      "total amostra 158: 440\n"
     ]
    }
   ],
   "source": [
    "filtro = (\n",
    "    \"AND lower(t.text) like '%confisco%' \"\n",
    "    \"AND lower(t.text) like '%poupan%' \"\n",
    ")\n",
    "buscaTweets(filtro, 110, 111, 158)"
   ]
  },
  {
   "cell_type": "markdown",
   "metadata": {},
   "source": [
    "## Notícia 05:\n",
    "\n",
    "Áudio atribuído a Jair Bolsonaro no hospital é falso"
   ]
  },
  {
   "cell_type": "code",
   "execution_count": 88,
   "metadata": {},
   "outputs": [
    {
     "name": "stdout",
     "output_type": "stream",
     "text": [
      "[(112, 'Eleições Notícia 05')]\n",
      "[(113, 'Eleições Notícia 05 [no similar]')]\n",
      "[(159, 'Eleições Notícia 05 [no RTs]')]\n",
      "DELETE FROM amostratweet WHERE codamostra = 112\n",
      "DELETE FROM amostratweet WHERE codamostra = 113\n",
      "DELETE FROM amostratweet WHERE codamostra = 159\n",
      "\n",
      "Total de noticias: 311\n",
      "\n",
      "Exemplos de tweets:\n",
      "(160031442, 'RT @Profdrclaudio: O Povo baiano é simpático, hospitaleiro, alegre e têm musicalidade sem igual.São honestos e trabalhadores. Este lixo cha…')\n",
      "---\n",
      "(160112141, 'RT @Profdrclaudio: O Povo baiano é simpático, hospitaleiro, alegre e têm musicalidade sem igual.São honestos e trabalhadores. Este lixo cha…')\n",
      "---\n",
      "(160169165, 'RT @Profdrclaudio: O Povo baiano é simpático, hospitaleiro, alegre e têm musicalidade sem igual.São honestos e trabalhadores. Este lixo cha…')\n",
      "---\n",
      "(160213499, 'RT @Profdrclaudio: O Povo baiano é simpático, hospitaleiro, alegre e têm musicalidade sem igual.São honestos e trabalhadores. Este lixo cha…')\n",
      "---\n",
      "(160258194, 'RT @Profdrclaudio: O Povo baiano é simpático, hospitaleiro, alegre e têm musicalidade sem igual.São honestos e trabalhadores. Este lixo cha…')\n",
      "---\n",
      "INSERT INTO amostratweet (codamostra, codtweet) SELECT 112, t.codtweet FROM amostratweet at INNER JOIN tweet t ON t.codtweet = at.codtweet WHERE at.codamostra = 130 AND lower(t.text) like '%udio%' AND lower(t.text) like '%hospital%' \n",
      "\n",
      "INSERT INTO amostratweet (codamostra, codtweet) SELECT 113, t.codtweet FROM amostratweet at INNER JOIN tweet t ON t.codtweet = at.codtweet WHERE at.codamostra = 130 AND lower(t.text) NOT LIKE 'rt %' AND lower(t.text) like '%udio%' AND lower(t.text) like '%hospital%' \n",
      "\n",
      "INSERT INTO amostratweet (codamostra, codtweet) SELECT 159, t.codtweet FROM amostratweet at INNER JOIN tweet t ON t.codtweet = at.codtweet WHERE at.codamostra = 130 AND lower(t.text) NOT LIKE 'rt %' AND lower(t.text) like '%udio%' AND lower(t.text) like '%hospital%' \n",
      "\n",
      "\n",
      "SELECT count(*) FROM amostratweet WHERE codamostra = 112\n",
      "total amostra 112: 311\n",
      "SELECT count(*) FROM amostratweet WHERE codamostra = 113\n",
      "total amostra 113: 76\n",
      "SELECT count(*) FROM amostratweet WHERE codamostra = 159\n",
      "total amostra 159: 76\n"
     ]
    }
   ],
   "source": [
    "filtro = (\n",
    "    \"AND lower(t.text) like '%udio%' \"\n",
    "    \"AND lower(t.text) like '%hospital%' \"\n",
    ")\n",
    "buscaTweets(filtro, 112, 113, 159)"
   ]
  },
  {
   "cell_type": "markdown",
   "metadata": {},
   "source": [
    "# Notícia 06:\n",
    "\n",
    "#Verificamos: Imagem apresentada como ‘capa do kit gay’ não está no material"
   ]
  },
  {
   "cell_type": "code",
   "execution_count": 89,
   "metadata": {},
   "outputs": [
    {
     "name": "stdout",
     "output_type": "stream",
     "text": [
      "[(114, 'Eleições Notícia 06')]\n",
      "[(115, 'Eleições Notícia 06 [no similar]')]\n",
      "[(160, 'Eleições Notícia 06 [no RTs]')]\n",
      "DELETE FROM amostratweet WHERE codamostra = 114\n",
      "DELETE FROM amostratweet WHERE codamostra = 115\n",
      "DELETE FROM amostratweet WHERE codamostra = 160\n",
      "\n",
      "Total de noticias: 296444\n",
      "\n",
      "Exemplos de tweets:\n",
      "(204842543, 'o cara ta nessa de kit gay ainda mano lkkkkkkk')\n",
      "---\n",
      "(204842791, 'RT @marivedder: 1ª entrevista de Jair ao JN:\\n- atacou a Folha de SP\\n- repetiu fake news do kit gay, mesmo assumindo que Dilma \"recolheu\" (n…')\n",
      "---\n",
      "(204842990, 'RT @izzomrm: o bolsonaro ja foi eleito e mesmo assim ta falando de kit gay em plena tv aberta \\n\\no cara é uma maquina de bosta\\n\\nNÃO EXISTE K…')\n",
      "---\n",
      "(204843346, 'RT @artt1975: nao pq o kit gay 🏳\\u200d🌈 foi distribuído nas escolas 📚 nao e fake news eh vdd o bolsonaro q disse 😡 o kit gay mostrava dois homen…')\n",
      "---\n",
      "(204843370, 'RT @thiagocipriano: Bolsonaro, no #JN, se diz contra as fake news, mas reiterou uma das principais delas, a do kit gay. Se diz favorável à…')\n",
      "---\n",
      "INSERT INTO amostratweet (codamostra, codtweet) SELECT 114, t.codtweet FROM amostratweet at INNER JOIN tweet t ON t.codtweet = at.codtweet WHERE at.codamostra = 130 AND lower(t.text) like '%kit%' AND lower(t.text) like '%gay%' \n",
      "\n",
      "INSERT INTO amostratweet (codamostra, codtweet) SELECT 115, t.codtweet FROM amostratweet at INNER JOIN tweet t ON t.codtweet = at.codtweet WHERE at.codamostra = 130 AND lower(t.text) NOT LIKE 'rt %' AND lower(t.text) like '%kit%' AND lower(t.text) like '%gay%' \n",
      "\n",
      "INSERT INTO amostratweet (codamostra, codtweet) SELECT 160, t.codtweet FROM amostratweet at INNER JOIN tweet t ON t.codtweet = at.codtweet WHERE at.codamostra = 130 AND lower(t.text) NOT LIKE 'rt %' AND lower(t.text) like '%kit%' AND lower(t.text) like '%gay%' \n",
      "\n",
      "\n",
      "SELECT count(*) FROM amostratweet WHERE codamostra = 114\n",
      "total amostra 114: 296444\n",
      "SELECT count(*) FROM amostratweet WHERE codamostra = 115\n",
      "total amostra 115: 48172\n",
      "SELECT count(*) FROM amostratweet WHERE codamostra = 160\n",
      "total amostra 160: 48172\n"
     ]
    }
   ],
   "source": [
    "filtro = (\n",
    "    \"AND lower(t.text) like '%kit%' \"\n",
    "    \"AND lower(t.text) like '%gay%' \"\n",
    ")\n",
    "buscaTweets(filtro, 114, 115, 160)"
   ]
  },
  {
   "cell_type": "markdown",
   "metadata": {},
   "source": [
    "# Notícia 07:\n",
    "\n",
    "Projeto não torna a pedofilia um ato legal e nem tem participação de Haddad"
   ]
  },
  {
   "cell_type": "code",
   "execution_count": 90,
   "metadata": {},
   "outputs": [
    {
     "name": "stdout",
     "output_type": "stream",
     "text": [
      "[(116, 'Eleições Notícia 07')]\n",
      "[(117, 'Eleições Notícia 07 [no similar]')]\n",
      "[(161, 'Eleições Notícia 07 [no RTs]')]\n",
      "DELETE FROM amostratweet WHERE codamostra = 116\n",
      "DELETE FROM amostratweet WHERE codamostra = 117\n",
      "DELETE FROM amostratweet WHERE codamostra = 161\n",
      "\n",
      "Total de noticias: 1734\n",
      "\n",
      "Exemplos de tweets:\n",
      "(164998821, 'RT @estadaoverifica: Projeto não torna a pedofilia um ato legal e nem tem participação de Haddad #Comprova https://t.co/u6TwZX8TYt')\n",
      "---\n",
      "(165038251, 'RT @UOL: Fotografia circula em redes sociais | Projeto não torna pedofilia um ato legal nem tem a participação de Haddad https://t.co/wwd70…')\n",
      "---\n",
      "(165121794, 'RT @GauchaZH: O projeto de lei em questão nada tem a ver com legalização da pedofilia e tramita no Congresso Nacional sob relatoria de um s…')\n",
      "---\n",
      "(165264562, 'RT @guilouress: Eu entro no facebook e tá la as fake news sobre existir projeto de lei do Pt a favor da pedofilia. Mano, se esses Cristãos…')\n",
      "---\n",
      "(164807809, 'RT @UOLNoticias: Projeto não torna a pedofilia um ato legal nem tem participação de Haddad #comprova  https://t.co/bddz58GQ54')\n",
      "---\n",
      "INSERT INTO amostratweet (codamostra, codtweet) SELECT 116, t.codtweet FROM amostratweet at INNER JOIN tweet t ON t.codtweet = at.codtweet WHERE at.codamostra = 130 AND lower(t.text) like '%pedofilia%' AND ( lower(t.text) like '%projeto%' OR lower(t.text) like '%236%' )\n",
      "\n",
      "INSERT INTO amostratweet (codamostra, codtweet) SELECT 117, t.codtweet FROM amostratweet at INNER JOIN tweet t ON t.codtweet = at.codtweet WHERE at.codamostra = 130 AND lower(t.text) NOT LIKE 'rt %' AND lower(t.text) like '%pedofilia%' AND ( lower(t.text) like '%projeto%' OR lower(t.text) like '%236%' )\n",
      "\n",
      "INSERT INTO amostratweet (codamostra, codtweet) SELECT 161, t.codtweet FROM amostratweet at INNER JOIN tweet t ON t.codtweet = at.codtweet WHERE at.codamostra = 130 AND lower(t.text) NOT LIKE 'rt %' AND lower(t.text) like '%pedofilia%' AND ( lower(t.text) like '%projeto%' OR lower(t.text) like '%236%' )\n",
      "\n",
      "\n",
      "SELECT count(*) FROM amostratweet WHERE codamostra = 116\n",
      "total amostra 116: 1734\n",
      "SELECT count(*) FROM amostratweet WHERE codamostra = 117\n",
      "total amostra 117: 403\n",
      "SELECT count(*) FROM amostratweet WHERE codamostra = 161\n",
      "total amostra 161: 403\n"
     ]
    }
   ],
   "source": [
    "filtro = (\n",
    "    \"AND lower(t.text) like '%pedofilia%' \"\n",
    "    \"AND ( lower(t.text) like '%projeto%' OR lower(t.text) like '%236%' )\"\n",
    ")\n",
    "buscaTweets(filtro, 116, 117, 161)"
   ]
  },
  {
   "cell_type": "markdown",
   "metadata": {},
   "source": [
    "# Notícia 08:\n",
    "\n",
    "\"Mamadeiras eróticas\" não foram distribuídas em creches pelo PT"
   ]
  },
  {
   "cell_type": "code",
   "execution_count": 91,
   "metadata": {},
   "outputs": [
    {
     "name": "stdout",
     "output_type": "stream",
     "text": [
      "[(118, 'Eleições Notícia 08')]\n",
      "[(119, 'Eleições Notícia 08 [no similar]')]\n",
      "[(162, 'Eleições Notícia 08 [no RTs]')]\n",
      "DELETE FROM amostratweet WHERE codamostra = 118\n",
      "DELETE FROM amostratweet WHERE codamostra = 119\n",
      "DELETE FROM amostratweet WHERE codamostra = 162\n",
      "\n",
      "Total de noticias: 16301\n",
      "\n",
      "Exemplos de tweets:\n",
      "(164966420, 'RT @heisenboff: no passado: \"em 2018 teremos carros voadores\"\\n\\nem 2018: tendo que desmentir fake news que diz que distribuíram mamadeira co…')\n",
      "---\n",
      "(179867834, 'RT @AbalFelipe: Os caras acreditam em mamadeira com bico de pênis, que o PT pagou 90 milhões pro Roger Waters e que o Irã tem planos pra in…')\n",
      "---\n",
      "(164998753, 'RT @heisenboff: no passado: \"em 2018 teremos carros voadores\"\\n\\nem 2018: tendo que desmentir fake news que diz que distribuíram mamadeira co…')\n",
      "---\n",
      "(180101251, 'essa mamadeira de piroca com certeza é a melhor fake news de TODAS')\n",
      "---\n",
      "(165134427, 'RT @Itspedrito: Dificil entender um bolsominion:\\n\\n- Haddad tava distribuindo mamadeira com formato de piroca para crianças!\\n-  SÓ PODIA SER…')\n",
      "---\n",
      "INSERT INTO amostratweet (codamostra, codtweet) SELECT 118, t.codtweet FROM amostratweet at INNER JOIN tweet t ON t.codtweet = at.codtweet WHERE at.codamostra = 130 AND lower(t.text) like '%mamadeira%' \n",
      "\n",
      "INSERT INTO amostratweet (codamostra, codtweet) SELECT 119, t.codtweet FROM amostratweet at INNER JOIN tweet t ON t.codtweet = at.codtweet WHERE at.codamostra = 130 AND lower(t.text) NOT LIKE 'rt %' AND lower(t.text) like '%mamadeira%' \n",
      "\n",
      "INSERT INTO amostratweet (codamostra, codtweet) SELECT 162, t.codtweet FROM amostratweet at INNER JOIN tweet t ON t.codtweet = at.codtweet WHERE at.codamostra = 130 AND lower(t.text) NOT LIKE 'rt %' AND lower(t.text) like '%mamadeira%' \n",
      "\n",
      "\n",
      "SELECT count(*) FROM amostratweet WHERE codamostra = 118\n",
      "total amostra 118: 16301\n",
      "SELECT count(*) FROM amostratweet WHERE codamostra = 119\n",
      "total amostra 119: 2504\n",
      "SELECT count(*) FROM amostratweet WHERE codamostra = 162\n",
      "total amostra 162: 2504\n"
     ]
    }
   ],
   "source": [
    "filtro = (\n",
    "    \"AND lower(t.text) like '%mamadeira%' \"\n",
    ")\n",
    "buscaTweets(filtro, 118, 119, 162)"
   ]
  },
  {
   "cell_type": "markdown",
   "metadata": {},
   "source": [
    "# Notícia 09:\n",
    "\n",
    "Vídeo em que Haddad diz que eleição acabou é de 2016"
   ]
  },
  {
   "cell_type": "code",
   "execution_count": 92,
   "metadata": {},
   "outputs": [
    {
     "name": "stdout",
     "output_type": "stream",
     "text": [
      "[(120, 'Eleições Notícia 09')]\n",
      "[(121, 'Eleições Notícia 09 [no similar]')]\n",
      "[(163, 'Eleições Notícia 09 [no RTs]')]\n",
      "DELETE FROM amostratweet WHERE codamostra = 120\n",
      "DELETE FROM amostratweet WHERE codamostra = 121\n",
      "DELETE FROM amostratweet WHERE codamostra = 163\n",
      "\n",
      "Total de noticias: 1936\n",
      "\n",
      "Exemplos de tweets:\n",
      "(144752700, 'RT @cidapitanga: Folha reconhece que foi incapaz de olhar seus próprios leitores.\\nJOGOU A TOALHA \\n\\nPRIMEIRO TURNO GENTE!!\\n\\n\"A Folha de S. P…')\n",
      "---\n",
      "(165052904, 'RT @Dom_Rezende33: Até Ibope já jogou a toalha\\n\\nVotos válidos:\\nBolsonaro 59% x 41% Haddad https://t.co/64IdlpdDS4')\n",
      "---\n",
      "(165058240, 'RT @Dom_Rezende33: Até Ibope já jogou a toalha\\n\\nVotos válidos:\\nBolsonaro 59% x 41% Haddad https://t.co/64IdlpdDS4')\n",
      "---\n",
      "(165070417, 'RT @Dom_Rezende33: Até Ibope já jogou a toalha\\n\\nVotos válidos:\\nBolsonaro 59% x 41% Haddad https://t.co/64IdlpdDS4')\n",
      "---\n",
      "(165084773, 'RT @Dom_Rezende33: Até Ibope já jogou a toalha\\n\\nVotos válidos:\\nBolsonaro 59% x 41% Haddad https://t.co/64IdlpdDS4')\n",
      "---\n",
      "INSERT INTO amostratweet (codamostra, codtweet) SELECT 120, t.codtweet FROM amostratweet at INNER JOIN tweet t ON t.codtweet = at.codtweet WHERE at.codamostra = 130 AND lower(t.text) like '%jogou%' AND lower(t.text) like '%toalha%' \n",
      "\n",
      "INSERT INTO amostratweet (codamostra, codtweet) SELECT 121, t.codtweet FROM amostratweet at INNER JOIN tweet t ON t.codtweet = at.codtweet WHERE at.codamostra = 130 AND lower(t.text) NOT LIKE 'rt %' AND lower(t.text) like '%jogou%' AND lower(t.text) like '%toalha%' \n",
      "\n",
      "INSERT INTO amostratweet (codamostra, codtweet) SELECT 163, t.codtweet FROM amostratweet at INNER JOIN tweet t ON t.codtweet = at.codtweet WHERE at.codamostra = 130 AND lower(t.text) NOT LIKE 'rt %' AND lower(t.text) like '%jogou%' AND lower(t.text) like '%toalha%' \n",
      "\n",
      "\n",
      "SELECT count(*) FROM amostratweet WHERE codamostra = 120\n",
      "total amostra 120: 1936\n",
      "SELECT count(*) FROM amostratweet WHERE codamostra = 121\n",
      "total amostra 121: 577\n",
      "SELECT count(*) FROM amostratweet WHERE codamostra = 163\n",
      "total amostra 163: 577\n"
     ]
    }
   ],
   "source": [
    "filtro = (\n",
    "    \"AND lower(t.text) like '%jogou%' \"\n",
    "    \"AND lower(t.text) like '%toalha%' \"\n",
    ")\n",
    "buscaTweets(filtro, 120, 121, 163)"
   ]
  },
  {
   "cell_type": "markdown",
   "metadata": {},
   "source": [
    "# Notícia 10:\n",
    "\n",
    "\"Ao completar 5 anos de idade, a criança passa a ser propriedade do Estado! Cabe a nós decidir se\n",
    "menino será menina e vice-versa! Aos pais cabe acatar nossa decisão respeitosamente! Sabemos\n",
    "o que é melhor para as crianças!\""
   ]
  },
  {
   "cell_type": "code",
   "execution_count": 93,
   "metadata": {},
   "outputs": [
    {
     "name": "stdout",
     "output_type": "stream",
     "text": [
      "[(122, 'Eleições Notícia 10')]\n",
      "[(123, 'Eleições Notícia 10 [no similar]')]\n",
      "[(164, 'Eleições Notícia 10 [no RTs]')]\n",
      "DELETE FROM amostratweet WHERE codamostra = 122\n",
      "DELETE FROM amostratweet WHERE codamostra = 123\n",
      "DELETE FROM amostratweet WHERE codamostra = 164\n",
      "\n",
      "Total de noticias: 5495\n",
      "\n",
      "Exemplos de tweets:\n",
      "(148988278, 'RT @AngelJones_1330: 1. Fake News! \\n\\n- É #FAKE que Haddad disse que criança vira propriedade do Estado aos 5 anos e pode ter seu gênero esc…')\n",
      "---\n",
      "(182366736, 'RT @portadosfundos: \"Não recebeu por WhatsApp? Toda criança a partir de 5 anos agora é propriedade do Estado.\"\\n\\nVÍDEO NOVO | Fake News: htt…')\n",
      "---\n",
      "(182370488, 'RT @portadosfundos: \"Não recebeu por WhatsApp? Toda criança a partir de 5 anos agora é propriedade do Estado.\"\\n\\nVÍDEO NOVO | Fake News: htt…')\n",
      "---\n",
      "(182371421, 'RT @portadosfundos: \"Não recebeu por WhatsApp? Toda criança a partir de 5 anos agora é propriedade do Estado.\"\\n\\nVÍDEO NOVO | Fake News: htt…')\n",
      "---\n",
      "(182372134, 'RT @portadosfundos: \"Não recebeu por WhatsApp? Toda criança a partir de 5 anos agora é propriedade do Estado.\"\\n\\nVÍDEO NOVO | Fake News: htt…')\n",
      "---\n",
      "INSERT INTO amostratweet (codamostra, codtweet) SELECT 122, t.codtweet FROM amostratweet at INNER JOIN tweet t ON t.codtweet = at.codtweet WHERE at.codamostra = 130 AND lower(t.text) like '%crian%' AND lower(t.text) like '%propriedade%' AND lower(t.text) like '%estado%' \n",
      "\n",
      "INSERT INTO amostratweet (codamostra, codtweet) SELECT 123, t.codtweet FROM amostratweet at INNER JOIN tweet t ON t.codtweet = at.codtweet WHERE at.codamostra = 130 AND lower(t.text) NOT LIKE 'rt %' AND lower(t.text) like '%crian%' AND lower(t.text) like '%propriedade%' AND lower(t.text) like '%estado%' \n",
      "\n",
      "INSERT INTO amostratweet (codamostra, codtweet) SELECT 164, t.codtweet FROM amostratweet at INNER JOIN tweet t ON t.codtweet = at.codtweet WHERE at.codamostra = 130 AND lower(t.text) NOT LIKE 'rt %' AND lower(t.text) like '%crian%' AND lower(t.text) like '%propriedade%' AND lower(t.text) like '%estado%' \n",
      "\n",
      "\n",
      "SELECT count(*) FROM amostratweet WHERE codamostra = 122\n",
      "total amostra 122: 5495\n",
      "SELECT count(*) FROM amostratweet WHERE codamostra = 123\n",
      "total amostra 123: 264\n",
      "SELECT count(*) FROM amostratweet WHERE codamostra = 164\n",
      "total amostra 164: 264\n"
     ]
    }
   ],
   "source": [
    "filtro = (\n",
    "    \"AND lower(t.text) like '%crian%' \"\n",
    "    \"AND lower(t.text) like '%propriedade%' \"\n",
    "    \"AND lower(t.text) like '%estado%' \"\n",
    ")\n",
    "buscaTweets(filtro, 122, 123, 164)"
   ]
  },
  {
   "cell_type": "markdown",
   "metadata": {},
   "source": [
    "# Notícia 11:\n",
    "\n",
    "Patrícia Pillar desmente meme e diz que nunca sofreu agressão"
   ]
  },
  {
   "cell_type": "code",
   "execution_count": 94,
   "metadata": {},
   "outputs": [
    {
     "name": "stdout",
     "output_type": "stream",
     "text": [
      "[(124, 'Eleições Notícia 11')]\n",
      "[(125, 'Eleições Notícia 11 [no similar]')]\n",
      "[(165, 'Eleições Notícia 11 [no RTs]')]\n",
      "DELETE FROM amostratweet WHERE codamostra = 124\n",
      "DELETE FROM amostratweet WHERE codamostra = 125\n",
      "DELETE FROM amostratweet WHERE codamostra = 165\n",
      "\n",
      "Total de noticias: 56\n",
      "\n",
      "Exemplos de tweets:\n",
      "(172235821, 'RT @karinamarigold: @Haddad_Fernando Não apenas contra vc Haddad, aquela história que o @cirogomes batia na Patrícia Pillar tbm foi fruto d…')\n",
      "---\n",
      "(144279844, 'RT @eliaxjr: alguns vídeos bônus: Patrícia Pillar desmentindo a fake news de que Ciro batia nela https://t.co/GuPU3LFYMw')\n",
      "---\n",
      "(145147789, 'RT @Barbara_Scorza: segunda vez que leio hoje essa história de que o ciro batia na patricia pillar. gente, isso é fake!!!! além de já ter s…')\n",
      "---\n",
      "(145171984, 'RT @Barbara_Scorza: segunda vez que leio hoje essa história de que o ciro batia na patricia pillar. gente, isso é fake!!!! além de já ter s…')\n",
      "---\n",
      "(147350606, 'RT @eliaxjr: alguns vídeos bônus: Patrícia Pillar desmentindo a fake news de que Ciro batia nela https://t.co/GuPU3LFYMw')\n",
      "---\n",
      "INSERT INTO amostratweet (codamostra, codtweet) SELECT 124, t.codtweet FROM amostratweet at INNER JOIN tweet t ON t.codtweet = at.codtweet WHERE at.codamostra = 130 AND lower(t.text) like '%pillar%' AND (lower(t.text) like '%batia%' OR lower(t.text) like '%agress%') \n",
      "\n",
      "INSERT INTO amostratweet (codamostra, codtweet) SELECT 125, t.codtweet FROM amostratweet at INNER JOIN tweet t ON t.codtweet = at.codtweet WHERE at.codamostra = 130 AND lower(t.text) NOT LIKE 'rt %' AND lower(t.text) like '%pillar%' AND (lower(t.text) like '%batia%' OR lower(t.text) like '%agress%') \n",
      "\n",
      "INSERT INTO amostratweet (codamostra, codtweet) SELECT 165, t.codtweet FROM amostratweet at INNER JOIN tweet t ON t.codtweet = at.codtweet WHERE at.codamostra = 130 AND lower(t.text) NOT LIKE 'rt %' AND lower(t.text) like '%pillar%' AND (lower(t.text) like '%batia%' OR lower(t.text) like '%agress%') \n",
      "\n",
      "\n",
      "SELECT count(*) FROM amostratweet WHERE codamostra = 124\n",
      "total amostra 124: 56\n",
      "SELECT count(*) FROM amostratweet WHERE codamostra = 125\n",
      "total amostra 125: 42\n",
      "SELECT count(*) FROM amostratweet WHERE codamostra = 165\n",
      "total amostra 165: 42\n"
     ]
    }
   ],
   "source": [
    "filtro = (\n",
    "    \"AND lower(t.text) like '%pillar%' \"\n",
    "    \"AND (lower(t.text) like '%batia%' \"\n",
    "    \"OR lower(t.text) like '%agress%') \"\n",
    ")\n",
    "buscaTweets(filtro, 124, 125,165)"
   ]
  },
  {
   "cell_type": "markdown",
   "metadata": {},
   "source": [
    "# Notícia 12:\n",
    "\n",
    "Não é verdade que marido de Marina Silva é 'um dos maiores desmatadores da Amazônia'"
   ]
  },
  {
   "cell_type": "code",
   "execution_count": 95,
   "metadata": {},
   "outputs": [
    {
     "name": "stdout",
     "output_type": "stream",
     "text": [
      "[(126, 'Eleições Notícia 12')]\n",
      "[(127, 'Eleições Notícia 12 [no similar]')]\n",
      "[(166, 'Eleições Notícia 12 [no RTs]')]\n",
      "DELETE FROM amostratweet WHERE codamostra = 126\n",
      "DELETE FROM amostratweet WHERE codamostra = 127\n",
      "DELETE FROM amostratweet WHERE codamostra = 166\n",
      "\n",
      "Total de noticias: 10\n",
      "\n",
      "Exemplos de tweets:\n",
      "(174254480, 'QDO MARINA MOGNO AGIU EM FAVOR DO MARIDO DELA, GRANDE GRILEIRO E DESMATADOR, NINGUÉM SE PREOCUPOU?')\n",
      "---\n",
      "(174261822, 'RT @RosaACL: QDO MARINA MOGNO AGIU EM FAVOR DO MARIDO DELA, GRANDE GRILEIRO E DESMATADOR, NINGUÉM SE PREOCUPOU? https://t.co/jfdZGwKBQe')\n",
      "---\n",
      "(174266471, 'RT @RosaACL: QDO MARINA MOGNO AGIU EM FAVOR DO MARIDO DELA, GRANDE GRILEIRO E DESMATADOR, NINGUÉM SE PREOCUPOU? https://t.co/jfdZGwKBQe')\n",
      "---\n",
      "(148023002, 'Marina, casada com um dos maiores desmatadores da Amazônia ( como Ministra do meio ambiente, consegue as licenças), Bolsonaro propagando um ódio com as armas livres, ele tirou o direito de ir e vir a partir disso, não sei o nome lá, disse que só não vai roubar, mas também não vai')\n",
      "---\n",
      "(178824130, '@andreiarosaaro @bollemdb Marina (casada com o maior desmatador da amazônia e diz proteger o meio ambiente). FHC um pseudo intelectual que era dos mesmos grupos terroristas de dilma, dirceu, lula, palocci no regime? para né!\\n#bolsonaroPresidente')\n",
      "---\n",
      "INSERT INTO amostratweet (codamostra, codtweet) SELECT 126, t.codtweet FROM amostratweet at INNER JOIN tweet t ON t.codtweet = at.codtweet WHERE at.codamostra = 130 AND lower(t.text) like '%desmatador%' AND lower(t.text) like '%marina%' \n",
      "\n",
      "INSERT INTO amostratweet (codamostra, codtweet) SELECT 127, t.codtweet FROM amostratweet at INNER JOIN tweet t ON t.codtweet = at.codtweet WHERE at.codamostra = 130 AND lower(t.text) NOT LIKE 'rt %' AND lower(t.text) like '%desmatador%' AND lower(t.text) like '%marina%' \n",
      "\n",
      "INSERT INTO amostratweet (codamostra, codtweet) SELECT 166, t.codtweet FROM amostratweet at INNER JOIN tweet t ON t.codtweet = at.codtweet WHERE at.codamostra = 130 AND lower(t.text) NOT LIKE 'rt %' AND lower(t.text) like '%desmatador%' AND lower(t.text) like '%marina%' \n",
      "\n",
      "\n",
      "SELECT count(*) FROM amostratweet WHERE codamostra = 126\n",
      "total amostra 126: 10\n",
      "SELECT count(*) FROM amostratweet WHERE codamostra = 127\n",
      "total amostra 127: 8\n",
      "SELECT count(*) FROM amostratweet WHERE codamostra = 166\n",
      "total amostra 166: 8\n"
     ]
    }
   ],
   "source": [
    "filtro = (\n",
    "    \"AND lower(t.text) like '%desmatador%' \"\n",
    "    \"AND lower(t.text) like '%marina%' \"\n",
    ")\n",
    "buscaTweets(filtro, 126, 127, 166)"
   ]
  },
  {
   "cell_type": "markdown",
   "metadata": {},
   "source": [
    "# Notícia 13:\n",
    "\n",
    "Ciro Gomes não garantiu que vai diminuir salários de médicos; site distorce informações"
   ]
  },
  {
   "cell_type": "code",
   "execution_count": 96,
   "metadata": {},
   "outputs": [
    {
     "name": "stdout",
     "output_type": "stream",
     "text": [
      "[(128, 'Eleições Notícia 13')]\n",
      "[(129, 'Eleições Notícia 13 [no similar]')]\n",
      "[(167, 'Eleições Notícia 13 [no RTs]')]\n",
      "DELETE FROM amostratweet WHERE codamostra = 128\n",
      "DELETE FROM amostratweet WHERE codamostra = 129\n",
      "DELETE FROM amostratweet WHERE codamostra = 167\n",
      "\n",
      "Total de noticias: 9\n",
      "\n",
      "Exemplos de tweets:\n",
      "(166113410, 'A sala de espera de um consultório médico é um grupo de WhatsApp da vida real, a mulher acabou de mandar um “as iniciais de Lula, Ciro e Fernando Haddad forma a palavra Lúcifer.”')\n",
      "---\n",
      "(173959390, '@recordtvoficial Bolsonaro são e salvo, graças à Deus e médicos d Santa Casa MG e Einstein SP.\\nCiro,qd governador d Ceará, em reivindicação médica por melhores salários, comparou à categoria médica ao sal:branco,barato e tem em todo lugar.Ele..vai n sal d hospital Sírio Libanês SP!!')\n",
      "---\n",
      "(150594571, 'incrível como boato de whatsapp se espalha e o povo tem preguiça de procurar se é verdade ou n.\\nhoje tive que desmentir que a vice do Haddad é satanista (oi?) pra minha mãe e que o Ciro vai diminuir o salário dos médicos (??) pra um médico amigo meu')\n",
      "---\n",
      "(148644022, 'Falando no grupo de amigos ontem surgiu o debate político, essa duas amigas fazem medicina e uma disse que voto no boso porque não quer o pt e falou que o hadad/Ciro ia baixar o salário dos médicos, olha a resposta que minha outra amiga deu. Orgulho de uma amiga sensata assim ❤️ https://t.co/EDQOiL3LAO')\n",
      "---\n",
      "(148642325, 'Falando no grupo de amigos ontem surgiu o debate político, essa duas amigas fazem medicina e uma disse que voto no boso porque não quer o pt e falou que o hadad/Ciro ia baixar o salário dos médicos, olha a resposta que minha outra amiga disse. Orgulho de uma amiga assim https://t.co/CxPZJTYJIe')\n",
      "---\n",
      "INSERT INTO amostratweet (codamostra, codtweet) SELECT 128, t.codtweet FROM amostratweet at INNER JOIN tweet t ON t.codtweet = at.codtweet WHERE at.codamostra = 130 AND lower(t.text) like '%sal%rio%' AND lower(t.text) like '%ciro%' AND ( lower(t.text) like '%médico%' OR lower(t.text) like '%medico%' )\n",
      "\n",
      "INSERT INTO amostratweet (codamostra, codtweet) SELECT 129, t.codtweet FROM amostratweet at INNER JOIN tweet t ON t.codtweet = at.codtweet WHERE at.codamostra = 130 AND lower(t.text) NOT LIKE 'rt %' AND lower(t.text) like '%sal%rio%' AND lower(t.text) like '%ciro%' AND ( lower(t.text) like '%médico%' OR lower(t.text) like '%medico%' )\n",
      "\n",
      "INSERT INTO amostratweet (codamostra, codtweet) SELECT 167, t.codtweet FROM amostratweet at INNER JOIN tweet t ON t.codtweet = at.codtweet WHERE at.codamostra = 130 AND lower(t.text) NOT LIKE 'rt %' AND lower(t.text) like '%sal%rio%' AND lower(t.text) like '%ciro%' AND ( lower(t.text) like '%médico%' OR lower(t.text) like '%medico%' )\n",
      "\n",
      "\n",
      "SELECT count(*) FROM amostratweet WHERE codamostra = 128\n",
      "total amostra 128: 9\n",
      "SELECT count(*) FROM amostratweet WHERE codamostra = 129\n",
      "total amostra 129: 9\n",
      "SELECT count(*) FROM amostratweet WHERE codamostra = 167\n",
      "total amostra 167: 9\n"
     ]
    }
   ],
   "source": [
    "filtro = (\n",
    "    \"AND lower(t.text) like '%sal%rio%' \"\n",
    "    \"AND lower(t.text) like '%ciro%' \"\n",
    "    \"AND ( lower(t.text) like '%médico%' \"\n",
    "    \"OR lower(t.text) like '%medico%' )\"\n",
    ")\n",
    "buscaTweets(filtro, 128, 129, 167)"
   ]
  },
  {
   "cell_type": "markdown",
   "metadata": {},
   "source": [
    "# Totais:"
   ]
  },
  {
   "cell_type": "code",
   "execution_count": 3,
   "metadata": {},
   "outputs": [
    {
     "data": {
      "text/plain": [
       "[(105, 'Eleições Notícia 01 [no similar]', 256),\n",
       " (107, 'Eleições Notícia 02 [no similar]', 8),\n",
       " (109, 'Eleições Notícia 03 [no similar]', 3),\n",
       " (111, 'Eleições Notícia 04 [no similar]', 181),\n",
       " (113, 'Eleições Notícia 05 [no similar]', 50),\n",
       " (115, 'Eleições Notícia 06 [no similar]', 12682),\n",
       " (117, 'Eleições Notícia 07 [no similar]', 52),\n",
       " (119, 'Eleições Notícia 08 [no similar]', 1128),\n",
       " (121, 'Eleições Notícia 09 [no similar]', 223),\n",
       " (123, 'Eleições Notícia 10 [no similar]', 39),\n",
       " (125, 'Eleições Notícia 11 [no similar]', 35),\n",
       " (127, 'Eleições Notícia 12 [no similar]', 7),\n",
       " (129, 'Eleições Notícia 13 [no similar]', 8),\n",
       " (152, 'Eleições Notícia 14 [no similar]', 568),\n",
       " (154, 'Eleições Notícia 15 [no similar]', 15)]"
      ]
     },
     "execution_count": 3,
     "metadata": {},
     "output_type": "execute_result"
    }
   ],
   "source": [
    "cmd = (\"select am.codamostra, am.descricao, count(amt.*) \"\n",
    "       \"from amostratweet amt \"\n",
    "       \"inner join amostra am ON amt.codamostra = am.codamostra \"\n",
    "       \"where amt.codamostra in (select codamostra from amostra where descricao like 'Eleições Notícia%simi%') \"\n",
    "       \"group by 1, 2\"\n",
    "       \"order by am.descricao\"\n",
    "      )\n",
    "res = query(cmd)\n",
    "res"
   ]
  },
  {
   "cell_type": "code",
   "execution_count": 57,
   "metadata": {},
   "outputs": [
    {
     "name": "stdout",
     "output_type": "stream",
     "text": [
      "Eleições Notícia 01:\t\t\t5009\n",
      "Eleições Notícia 01 [no RTs]:\t\t678\n",
      "Eleições Notícia 01 [no similar]:\t256\n",
      "---\n",
      "Eleições Notícia 02:\t\t\t23\n",
      "Eleições Notícia 02 [no RTs]:\t\t21\n",
      "Eleições Notícia 02 [no similar]:\t8\n",
      "---\n",
      "Eleições Notícia 03:\t\t\t9233\n",
      "Eleições Notícia 03 [no RTs]:\t\t151\n",
      "Eleições Notícia 03 [no similar]:\t3\n",
      "---\n",
      "Eleições Notícia 04:\t\t\t2452\n",
      "Eleições Notícia 04 [no RTs]:\t\t440\n",
      "Eleições Notícia 04 [no similar]:\t181\n",
      "---\n",
      "Eleições Notícia 05:\t\t\t311\n",
      "Eleições Notícia 05 [no RTs]:\t\t76\n",
      "Eleições Notícia 05 [no similar]:\t50\n",
      "---\n",
      "Eleições Notícia 06:\t\t\t296444\n",
      "Eleições Notícia 06 [no RTs]:\t\t48172\n",
      "Eleições Notícia 06 [no similar]:\t12682\n",
      "---\n",
      "Eleições Notícia 07:\t\t\t1734\n",
      "Eleições Notícia 07 [no RTs]:\t\t403\n",
      "Eleições Notícia 07 [no similar]:\t52\n",
      "---\n",
      "Eleições Notícia 08:\t\t\t16301\n",
      "Eleições Notícia 08 [no RTs]:\t\t2504\n",
      "Eleições Notícia 08 [no similar]:\t1128\n",
      "---\n",
      "Eleições Notícia 09:\t\t\t1936\n",
      "Eleições Notícia 09 [no RTs]:\t\t577\n",
      "Eleições Notícia 09 [no similar]:\t223\n",
      "---\n",
      "Eleições Notícia 10:\t\t\t5495\n",
      "Eleições Notícia 10 [no RTs]:\t\t264\n",
      "Eleições Notícia 10 [no similar]:\t39\n",
      "---\n",
      "Eleições Notícia 11:\t\t\t56\n",
      "Eleições Notícia 11 [no RTs]:\t\t42\n",
      "Eleições Notícia 11 [no similar]:\t35\n",
      "---\n",
      "Eleições Notícia 12:\t\t\t10\n",
      "Eleições Notícia 12 [no RTs]:\t\t8\n",
      "Eleições Notícia 12 [no similar]:\t7\n",
      "---\n",
      "Eleições Notícia 13:\t\t\t9\n",
      "Eleições Notícia 13 [no RTs]:\t\t9\n",
      "Eleições Notícia 13 [no similar]:\t8\n",
      "---\n",
      "Eleições Notícia 14:\t\t\t26011\n",
      "Eleições Notícia 14 [no RTs]:\t\t3024\n",
      "Eleições Notícia 14 [no similar]:\t568\n",
      "---\n",
      "Eleições Notícia 15:\t\t\t543\n",
      "Eleições Notícia 15 [no RTs]:\t\t98\n",
      "Eleições Notícia 15 [no similar]:\t15\n"
     ]
    }
   ],
   "source": [
    "cmd = (\"select am.descricao, count(amt.*) \"\n",
    "       \"from amostratweet amt \"\n",
    "       \"inner join amostra am ON amt.codamostra = am.codamostra \"\n",
    "       \"where amt.codamostra in (select codamostra from amostra where descricao like 'Eleições Notícia%') \"\n",
    "       \"group by 1 \"\n",
    "       \"order by am.descricao\"\n",
    "      )\n",
    "res = query(cmd)\n",
    "tabs = \"\"\n",
    "aux = \"\"\n",
    "for r in res:\n",
    "    if ((aux != r[0][0:19]) and (aux != \"\")):\n",
    "        print(\"---\")\n",
    "    if \"similar\" in r[0]:\n",
    "        tabs = \"\\t\"\n",
    "    elif \"no RTs\" in r[0]:\n",
    "        tabs = \"\\t\\t\"\n",
    "    else:\n",
    "        tabs = \"\\t\\t\\t\"\n",
    "    print(\"%s:%s%s\" % (r[0], tabs, r[1]))\n",
    "    aux = r[0][0:19]"
   ]
  },
  {
   "cell_type": "code",
   "execution_count": 37,
   "metadata": {},
   "outputs": [
    {
     "name": "stdout",
     "output_type": "stream",
     "text": [
      "Eleições Notícia 01 [no similar]\n",
      "Total de tweets: 256\n",
      "http://kode.ffclrp.usp.br/vacinacao/form.php?modo=analise&hash=fake141601\n",
      "---\n",
      "Eleições Notícia 02 [no similar]\n",
      "Total de tweets: 8\n",
      "http://kode.ffclrp.usp.br/vacinacao/form.php?modo=analise&hash=fake371102\n",
      "---\n",
      "Eleições Notícia 03 [no similar]\n",
      "Total de tweets: 3\n",
      "http://kode.ffclrp.usp.br/vacinacao/form.php?modo=analise&hash=fake171801\n",
      "---\n",
      "Eleições Notícia 04 [no similar]\n",
      "Total de tweets: 181\n",
      "http://kode.ffclrp.usp.br/vacinacao/form.php?modo=analise&hash=fake181702\n",
      "---\n",
      "Eleições Notícia 05 [no similar]\n",
      "Total de tweets: 50\n",
      "http://kode.ffclrp.usp.br/vacinacao/form.php?modo=analise&hash=fake222306\n",
      "---\n",
      "Eleições Notícia 06 [no similar]\n",
      "Total de tweets: 12682\n",
      "http://kode.ffclrp.usp.br/vacinacao/form.php?modo=analise&hash=fake171903\n",
      "---\n",
      "Eleições Notícia 07 [no similar]\n",
      "Total de tweets: 52\n",
      "http://kode.ffclrp.usp.br/vacinacao/form.php?modo=analise&hash=fake156789\n",
      "---\n",
      "Eleições Notícia 08 [no similar]\n",
      "Total de tweets: 1128\n",
      "http://kode.ffclrp.usp.br/vacinacao/form.php?modo=analise&hash=fake136859\n",
      "---\n",
      "Eleições Notícia 09 [no similar]\n",
      "Total de tweets: 223\n",
      "http://kode.ffclrp.usp.br/vacinacao/form.php?modo=analise&hash=fake213678\n",
      "---\n",
      "Eleições Notícia 10 [no similar]\n",
      "Total de tweets: 39\n",
      "http://kode.ffclrp.usp.br/vacinacao/form.php?modo=analise&hash=fake148596\n",
      "---\n",
      "Eleições Notícia 14 [no similar]\n",
      "Total de tweets: 568\n",
      "http://kode.ffclrp.usp.br/vacinacao/form.php?modo=analise&hash=fake741236\n",
      "---\n",
      "Eleições Notícia 15 [no similar]\n",
      "Total de tweets: 15\n",
      "http://kode.ffclrp.usp.br/vacinacao/form.php?modo=analise&hash=fake746895\n",
      "---\n"
     ]
    }
   ],
   "source": [
    "cmd = (\"select \"\n",
    "       #\"aa.codanaliseamostra as cod, \"\n",
    "       \"am.descricao as amostra, \"\n",
    "       #\"aa.observacao, \"\n",
    "       \"'Total de tweets: ' || (select count(*) from amostratweet at where at.codamostra = aa.codamostra) as qtd , \"\n",
    "       #\"usr.nome, \"\n",
    "       #\"gc.descricao as classificacao, \"\n",
    "       \"'http://kode.ffclrp.usp.br/vacinacao/form.php?modo=analise&hash='|| aa.hash as url  \"\n",
    "       #\"aa.hash \"\n",
    "       \"from analiseamostra aa \"\n",
    "       \"inner join amostra am on am.codamostra = aa.codamostra \"\n",
    "       \"inner join usuario usr on usr.codusuario = aa.codusuario \"\n",
    "       \"inner join grupoclassificacao gc on gc.codgrupoclassificacao = aa.codgrupoclassificacao \"\n",
    "       \"where aa.codusuario = 14 \"\n",
    "       \"order by am.descricao\"\n",
    "      )\n",
    "res = query(cmd)\n",
    "#res\n",
    "for r in res:\n",
    "    print(r[0])\n",
    "    print(r[1])\n",
    "    print(r[2])\n",
    "    print(\"---\")\n",
    "        \n"
   ]
  }
 ],
 "metadata": {
  "kernelspec": {
   "display_name": "Python 3",
   "language": "python",
   "name": "python3"
  },
  "language_info": {
   "codemirror_mode": {
    "name": "ipython",
    "version": 3
   },
   "file_extension": ".py",
   "mimetype": "text/x-python",
   "name": "python",
   "nbconvert_exporter": "python",
   "pygments_lexer": "ipython3",
   "version": "3.5.3"
  }
 },
 "nbformat": 4,
 "nbformat_minor": 2
}
